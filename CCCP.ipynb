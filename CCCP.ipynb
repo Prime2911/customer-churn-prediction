{
  "nbformat": 4,
  "nbformat_minor": 0,
  "metadata": {
    "colab": {
      "name": "CCCP.ipynb",
      "provenance": [],
      "collapsed_sections": [],
      "toc_visible": true,
      "authorship_tag": "ABX9TyPbB3lwZMI9VpVIVRufR+YX",
      "include_colab_link": true
    },
    "kernelspec": {
      "name": "python3",
      "display_name": "Python 3"
    },
    "language_info": {
      "name": "python"
    }
  },
  "cells": [
    {
      "cell_type": "markdown",
      "metadata": {
        "id": "view-in-github",
        "colab_type": "text"
      },
      "source": [
        "<a href=\"https://colab.research.google.com/github/Prime2911/customer-churn-prediction/blob/main/CCCP.ipynb\" target=\"_parent\"><img src=\"https://colab.research.google.com/assets/colab-badge.svg\" alt=\"Open In Colab\"/></a>"
      ]
    },
    {
      "cell_type": "markdown",
      "metadata": {
        "id": "VKLXE7E4tngW"
      },
      "source": [
        "#**PROJECT MACHINE LEARNING TUẦN 4 - 5**\n",
        "---\n",
        "\n",
        "**Thực hiện và trình bày:** Nhóm 1\n",
        "\n",
        "**Danh sách thành viên:**\n",
        "\n",
        "1.   Cao Nguyễn Hải Duy\n",
        "2.   Huỳnh Đình Minh Trí\n",
        "3.   Huỳnh Thái Thảo Trang\n",
        "4.   Hồ Thị Huyền Mơ\n",
        "\n"
      ]
    },
    {
      "cell_type": "markdown",
      "metadata": {
        "id": "U7Uw2ox0XcMi"
      },
      "source": [
        "# **TOPIC:** DỰ ĐOÁN KHẢ NĂNG MẤT MÁT KHÁCH HÀNG (CUSTOMER CHURN PREDICTION)\n",
        "---\n",
        "\n",
        "**Giới thiệu bài toán:** Khi khách hàng đăng ký sử dụng dịch vụ của một công ty viễn thông, họ thường lựa chọn nhà cung cấp dựa trên nhiều tiêu chí, trong đó bao gồm cước phí phát sinh cho mỗi cuộc gọi, chất lượng dịch vụ, etc.\n",
        "\n",
        "![](https://cdna.artstation.com/p/assets/images/images/011/981/126/4k/marton-adam-marton-tomesjerry.jpg?1532427188)\n",
        "\n",
        "Nếu như khách hàng không hài lòng với dịch vụ của nhà cung cấp viễn thông hiện tại, hoặc cảm thấy cước phí của mỗi cuộc gọi là quá cao, họ có thể sẽ chuyển sang sử dụng dịch vụ của nhà cung cấp viễn thông khác, từ đấy dẫn đến việc nhà cung cấp viễn thông hiện tại bị **mất mát khách hàng** (**Customer Churn**). Điều này có thể dẫn tới việc mất mát cả những khách hàng tiềm năng và làm ảnh hưởng tới lợi nhuận của công ty.\n",
        "\n",
        "Việc dự đoán khả năng mất mát khách hàng sẽ giúp các công ty viễn thông nhanh chóng đưa ra giải pháp hiệu quả để giữ khách hàng và tăng khả năng cạnh tranh với các công ty viễn thông khác.\n",
        "\n",
        "**Yêu cầu:** Dựa vào các thuộc tính để dự đoán xem khách hàng có ngưng sử dụng dịch vụ của công ty viễn thông hay không (**0**: khách hàng vẫn tiếp tục sử dụng - **1**: khách hàng ngưng sử dụng).\n",
        "\n",
        "**Dataset bao gồm:**\n",
        "\n",
        "*   Tập train: 4250 bản ghi (mẫu) khách hàng (bao gồm thuộc tính churn cho biết khách hàng có chuyển sang dùng dịch vụ của nhà cung cấp khác không).\n",
        "*   Tập test: 750 mẫu.\n",
        "\n",
        "**Mỗi khách hàng có những thuộc tính sau:**\n",
        "\n",
        "1.   state: mã bang của khách hàng.\n",
        "2.   account_length: lượng thời gian mà khách hàng đã sử dụng dịch vụ của nhà cung cấp (tính bằng số tháng).\n",
        "3.   area_code: mã vùng.\n",
        "4.   international_plan: khách hàng có đăng ký dịch vụ gọi quốc tế hay không (**yes**: có - **no**: không).\n",
        "5.   voice_mail_plan: khách hàng có đăng ký dịch vụ hộp thư thoại hay không (**yes**: có - **no**: không).\n",
        "6.   number_vmail_messages: số lượng tin nhắn thoại khách hàng đã nhận được.\n",
        "7.   total_day_minutes: tổng thời gian của các cuộc gọi phát sinh vào ban ngày (tính bằng số phút).\n",
        "8.   total_day_calls: số cuộc gọi phát sinh vào ban ngày.\n",
        "9.   total_day_charge: tổng cước phí của các cuộc gọi phát sinh vào ban ngày.\n",
        "10.   total_eve_minutes: tổng thời gian của các cuộc gọi phát sinh vào buổi tối (tính bằng số phút).\n",
        "11.   total_eve_calls: số cuộc gọi phát sinh vào buổi tối.\n",
        "12.   total_eve_charge: tổng cước phí của các cuộc gọi phát sinh vào buổi tối.\n",
        "13.   total_night_minutes: tổng thời gian của các cuộc gọi phát sinh vào ban đêm (tính bằng số phút).\n",
        "14.   total_night_calls: số cuộc gọi phát sinh vào ban đêm.\n",
        "15.   total_night_charge: tổng cước phí của các cuộc gọi phát sinh vào ban đêm.\n",
        "16.   total_intl_minutes: tổng thời gian của các cuộc gọi quốc tế (tính bằng số phút).\n",
        "17.   total_intl_calls: số cuộc gọi quốc tế.\n",
        "18.   total_intl_charge: tổng cước phí của các cuộc gọi quốc tế.\n",
        "19.   number_customer_service_calls: số cuộc gọi đến dịch vụ chăm sóc khách hàng.\n",
        "20.   churn: khách hàng có ngưng sử dụng dịch vụ của công ty hay không (**yes**: có - **no**: không)."
      ]
    },
    {
      "cell_type": "code",
      "metadata": {
        "id": "gP2szIc_XODD"
      },
      "source": [
        "#Import các package cơ bản\n",
        "import pandas as pd\n",
        "import numpy as np\n",
        "import random as rnd\n",
        "import seaborn as sns\n",
        "import matplotlib.pyplot as plt\n",
        "\n",
        "%matplotlib inline\n",
        "\n",
        "#Import module preprocessing để hỗ trợ việc encode thuộc tính và đầu ra dự đoán\n",
        "import sklearn.preprocessing as pp"
      ],
      "execution_count": null,
      "outputs": []
    },
    {
      "cell_type": "markdown",
      "metadata": {
        "id": "ARO5BAkdU2fu"
      },
      "source": [
        "## I. Tải tập dữ liệu train - test\n",
        "---\n",
        "\n",
        "*   Tập train: 4250 mẫu (bao gồm 20 thuộc tính nêu trên), chiếm 85% tổng số khách hàng.\n",
        "*   Tập test: 750 mẫu (bao gồm 20 thuộc tính, không có thuộc tính churn và có thêm thuộc tính id - số thứ tự khách hàng), chiếm 15% tổng số khách hàng."
      ]
    },
    {
      "cell_type": "code",
      "metadata": {
        "colab": {
          "base_uri": "https://localhost:8080/"
        },
        "id": "wWBTMu1TbFPc",
        "outputId": "e51d91b7-4d6d-4b87-d17a-62a71ee9f504"
      },
      "source": [
        "#Liên kết Colab với Drive\n",
        "\n",
        "from google.colab import drive\n",
        "\n",
        "drive.mount(\"/content/gdrive\")"
      ],
      "execution_count": null,
      "outputs": [
        {
          "output_type": "stream",
          "text": [
            "Mounted at /content/gdrive\n"
          ],
          "name": "stdout"
        }
      ]
    },
    {
      "cell_type": "code",
      "metadata": {
        "id": "uf3c8FhobPGY"
      },
      "source": [
        "#Tải các tập dữ liệu train và test từ Drive\n",
        "\n",
        "df_train = pd.read_csv(\"/content/gdrive/My Drive/Colab Notebooks/Customer Churn Prediction/train.csv\")\n",
        "\n",
        "df_test = pd.read_csv(\"/content/gdrive/My Drive/Colab Notebooks/Customer Churn Prediction/test.csv\")"
      ],
      "execution_count": null,
      "outputs": []
    },
    {
      "cell_type": "markdown",
      "metadata": {
        "id": "E2HlSjtaceBJ"
      },
      "source": [
        "### **Quan sát và truy xuất dữ liệu trong dataset**\n",
        "---"
      ]
    },
    {
      "cell_type": "code",
      "metadata": {
        "colab": {
          "base_uri": "https://localhost:8080/",
          "height": 435
        },
        "id": "5N62Vt2bcqal",
        "outputId": "f0160d18-5ac3-4ccd-a2e3-0b5933c3156d"
      },
      "source": [
        "#Hiển thị dữ liệu của tập train\n",
        "#Mặc định: 5 dòng đầu & 5 dòng cuối\n",
        "\n",
        "df_train"
      ],
      "execution_count": null,
      "outputs": [
        {
          "output_type": "execute_result",
          "data": {
            "text/html": [
              "<div>\n",
              "<style scoped>\n",
              "    .dataframe tbody tr th:only-of-type {\n",
              "        vertical-align: middle;\n",
              "    }\n",
              "\n",
              "    .dataframe tbody tr th {\n",
              "        vertical-align: top;\n",
              "    }\n",
              "\n",
              "    .dataframe thead th {\n",
              "        text-align: right;\n",
              "    }\n",
              "</style>\n",
              "<table border=\"1\" class=\"dataframe\">\n",
              "  <thead>\n",
              "    <tr style=\"text-align: right;\">\n",
              "      <th></th>\n",
              "      <th>state</th>\n",
              "      <th>account_length</th>\n",
              "      <th>area_code</th>\n",
              "      <th>international_plan</th>\n",
              "      <th>voice_mail_plan</th>\n",
              "      <th>number_vmail_messages</th>\n",
              "      <th>total_day_minutes</th>\n",
              "      <th>total_day_calls</th>\n",
              "      <th>total_day_charge</th>\n",
              "      <th>total_eve_minutes</th>\n",
              "      <th>total_eve_calls</th>\n",
              "      <th>total_eve_charge</th>\n",
              "      <th>total_night_minutes</th>\n",
              "      <th>total_night_calls</th>\n",
              "      <th>total_night_charge</th>\n",
              "      <th>total_intl_minutes</th>\n",
              "      <th>total_intl_calls</th>\n",
              "      <th>total_intl_charge</th>\n",
              "      <th>number_customer_service_calls</th>\n",
              "      <th>churn</th>\n",
              "    </tr>\n",
              "  </thead>\n",
              "  <tbody>\n",
              "    <tr>\n",
              "      <th>0</th>\n",
              "      <td>OH</td>\n",
              "      <td>107</td>\n",
              "      <td>area_code_415</td>\n",
              "      <td>no</td>\n",
              "      <td>yes</td>\n",
              "      <td>26</td>\n",
              "      <td>161.6</td>\n",
              "      <td>123</td>\n",
              "      <td>27.47</td>\n",
              "      <td>195.5</td>\n",
              "      <td>103</td>\n",
              "      <td>16.62</td>\n",
              "      <td>254.4</td>\n",
              "      <td>103</td>\n",
              "      <td>11.45</td>\n",
              "      <td>13.7</td>\n",
              "      <td>3</td>\n",
              "      <td>3.70</td>\n",
              "      <td>1</td>\n",
              "      <td>no</td>\n",
              "    </tr>\n",
              "    <tr>\n",
              "      <th>1</th>\n",
              "      <td>NJ</td>\n",
              "      <td>137</td>\n",
              "      <td>area_code_415</td>\n",
              "      <td>no</td>\n",
              "      <td>no</td>\n",
              "      <td>0</td>\n",
              "      <td>243.4</td>\n",
              "      <td>114</td>\n",
              "      <td>41.38</td>\n",
              "      <td>121.2</td>\n",
              "      <td>110</td>\n",
              "      <td>10.30</td>\n",
              "      <td>162.6</td>\n",
              "      <td>104</td>\n",
              "      <td>7.32</td>\n",
              "      <td>12.2</td>\n",
              "      <td>5</td>\n",
              "      <td>3.29</td>\n",
              "      <td>0</td>\n",
              "      <td>no</td>\n",
              "    </tr>\n",
              "    <tr>\n",
              "      <th>2</th>\n",
              "      <td>OH</td>\n",
              "      <td>84</td>\n",
              "      <td>area_code_408</td>\n",
              "      <td>yes</td>\n",
              "      <td>no</td>\n",
              "      <td>0</td>\n",
              "      <td>299.4</td>\n",
              "      <td>71</td>\n",
              "      <td>50.90</td>\n",
              "      <td>61.9</td>\n",
              "      <td>88</td>\n",
              "      <td>5.26</td>\n",
              "      <td>196.9</td>\n",
              "      <td>89</td>\n",
              "      <td>8.86</td>\n",
              "      <td>6.6</td>\n",
              "      <td>7</td>\n",
              "      <td>1.78</td>\n",
              "      <td>2</td>\n",
              "      <td>no</td>\n",
              "    </tr>\n",
              "    <tr>\n",
              "      <th>3</th>\n",
              "      <td>OK</td>\n",
              "      <td>75</td>\n",
              "      <td>area_code_415</td>\n",
              "      <td>yes</td>\n",
              "      <td>no</td>\n",
              "      <td>0</td>\n",
              "      <td>166.7</td>\n",
              "      <td>113</td>\n",
              "      <td>28.34</td>\n",
              "      <td>148.3</td>\n",
              "      <td>122</td>\n",
              "      <td>12.61</td>\n",
              "      <td>186.9</td>\n",
              "      <td>121</td>\n",
              "      <td>8.41</td>\n",
              "      <td>10.1</td>\n",
              "      <td>3</td>\n",
              "      <td>2.73</td>\n",
              "      <td>3</td>\n",
              "      <td>no</td>\n",
              "    </tr>\n",
              "    <tr>\n",
              "      <th>4</th>\n",
              "      <td>MA</td>\n",
              "      <td>121</td>\n",
              "      <td>area_code_510</td>\n",
              "      <td>no</td>\n",
              "      <td>yes</td>\n",
              "      <td>24</td>\n",
              "      <td>218.2</td>\n",
              "      <td>88</td>\n",
              "      <td>37.09</td>\n",
              "      <td>348.5</td>\n",
              "      <td>108</td>\n",
              "      <td>29.62</td>\n",
              "      <td>212.6</td>\n",
              "      <td>118</td>\n",
              "      <td>9.57</td>\n",
              "      <td>7.5</td>\n",
              "      <td>7</td>\n",
              "      <td>2.03</td>\n",
              "      <td>3</td>\n",
              "      <td>no</td>\n",
              "    </tr>\n",
              "    <tr>\n",
              "      <th>...</th>\n",
              "      <td>...</td>\n",
              "      <td>...</td>\n",
              "      <td>...</td>\n",
              "      <td>...</td>\n",
              "      <td>...</td>\n",
              "      <td>...</td>\n",
              "      <td>...</td>\n",
              "      <td>...</td>\n",
              "      <td>...</td>\n",
              "      <td>...</td>\n",
              "      <td>...</td>\n",
              "      <td>...</td>\n",
              "      <td>...</td>\n",
              "      <td>...</td>\n",
              "      <td>...</td>\n",
              "      <td>...</td>\n",
              "      <td>...</td>\n",
              "      <td>...</td>\n",
              "      <td>...</td>\n",
              "      <td>...</td>\n",
              "    </tr>\n",
              "    <tr>\n",
              "      <th>4245</th>\n",
              "      <td>MT</td>\n",
              "      <td>83</td>\n",
              "      <td>area_code_415</td>\n",
              "      <td>no</td>\n",
              "      <td>no</td>\n",
              "      <td>0</td>\n",
              "      <td>188.3</td>\n",
              "      <td>70</td>\n",
              "      <td>32.01</td>\n",
              "      <td>243.8</td>\n",
              "      <td>88</td>\n",
              "      <td>20.72</td>\n",
              "      <td>213.7</td>\n",
              "      <td>79</td>\n",
              "      <td>9.62</td>\n",
              "      <td>10.3</td>\n",
              "      <td>6</td>\n",
              "      <td>2.78</td>\n",
              "      <td>0</td>\n",
              "      <td>no</td>\n",
              "    </tr>\n",
              "    <tr>\n",
              "      <th>4246</th>\n",
              "      <td>WV</td>\n",
              "      <td>73</td>\n",
              "      <td>area_code_408</td>\n",
              "      <td>no</td>\n",
              "      <td>no</td>\n",
              "      <td>0</td>\n",
              "      <td>177.9</td>\n",
              "      <td>89</td>\n",
              "      <td>30.24</td>\n",
              "      <td>131.2</td>\n",
              "      <td>82</td>\n",
              "      <td>11.15</td>\n",
              "      <td>186.2</td>\n",
              "      <td>89</td>\n",
              "      <td>8.38</td>\n",
              "      <td>11.5</td>\n",
              "      <td>6</td>\n",
              "      <td>3.11</td>\n",
              "      <td>3</td>\n",
              "      <td>no</td>\n",
              "    </tr>\n",
              "    <tr>\n",
              "      <th>4247</th>\n",
              "      <td>NC</td>\n",
              "      <td>75</td>\n",
              "      <td>area_code_408</td>\n",
              "      <td>no</td>\n",
              "      <td>no</td>\n",
              "      <td>0</td>\n",
              "      <td>170.7</td>\n",
              "      <td>101</td>\n",
              "      <td>29.02</td>\n",
              "      <td>193.1</td>\n",
              "      <td>126</td>\n",
              "      <td>16.41</td>\n",
              "      <td>129.1</td>\n",
              "      <td>104</td>\n",
              "      <td>5.81</td>\n",
              "      <td>6.9</td>\n",
              "      <td>7</td>\n",
              "      <td>1.86</td>\n",
              "      <td>1</td>\n",
              "      <td>no</td>\n",
              "    </tr>\n",
              "    <tr>\n",
              "      <th>4248</th>\n",
              "      <td>HI</td>\n",
              "      <td>50</td>\n",
              "      <td>area_code_408</td>\n",
              "      <td>no</td>\n",
              "      <td>yes</td>\n",
              "      <td>40</td>\n",
              "      <td>235.7</td>\n",
              "      <td>127</td>\n",
              "      <td>40.07</td>\n",
              "      <td>223.0</td>\n",
              "      <td>126</td>\n",
              "      <td>18.96</td>\n",
              "      <td>297.5</td>\n",
              "      <td>116</td>\n",
              "      <td>13.39</td>\n",
              "      <td>9.9</td>\n",
              "      <td>5</td>\n",
              "      <td>2.67</td>\n",
              "      <td>2</td>\n",
              "      <td>no</td>\n",
              "    </tr>\n",
              "    <tr>\n",
              "      <th>4249</th>\n",
              "      <td>VT</td>\n",
              "      <td>86</td>\n",
              "      <td>area_code_415</td>\n",
              "      <td>no</td>\n",
              "      <td>yes</td>\n",
              "      <td>34</td>\n",
              "      <td>129.4</td>\n",
              "      <td>102</td>\n",
              "      <td>22.00</td>\n",
              "      <td>267.1</td>\n",
              "      <td>104</td>\n",
              "      <td>22.70</td>\n",
              "      <td>154.8</td>\n",
              "      <td>100</td>\n",
              "      <td>6.97</td>\n",
              "      <td>9.3</td>\n",
              "      <td>16</td>\n",
              "      <td>2.51</td>\n",
              "      <td>0</td>\n",
              "      <td>no</td>\n",
              "    </tr>\n",
              "  </tbody>\n",
              "</table>\n",
              "<p>4250 rows × 20 columns</p>\n",
              "</div>"
            ],
            "text/plain": [
              "     state  account_length  ... number_customer_service_calls churn\n",
              "0       OH             107  ...                             1    no\n",
              "1       NJ             137  ...                             0    no\n",
              "2       OH              84  ...                             2    no\n",
              "3       OK              75  ...                             3    no\n",
              "4       MA             121  ...                             3    no\n",
              "...    ...             ...  ...                           ...   ...\n",
              "4245    MT              83  ...                             0    no\n",
              "4246    WV              73  ...                             3    no\n",
              "4247    NC              75  ...                             1    no\n",
              "4248    HI              50  ...                             2    no\n",
              "4249    VT              86  ...                             0    no\n",
              "\n",
              "[4250 rows x 20 columns]"
            ]
          },
          "metadata": {
            "tags": []
          },
          "execution_count": 4
        }
      ]
    },
    {
      "cell_type": "code",
      "metadata": {
        "colab": {
          "base_uri": "https://localhost:8080/",
          "height": 161
        },
        "id": "KdTRaG1pdDZO",
        "outputId": "4f5b2c15-ef06-4312-e4ff-09480b613d38"
      },
      "source": [
        "#Hiển thị thông tin khách hàng thứ 1000, 2000, và 3000\n",
        "\n",
        "df_train.loc[[999, 1999, 2999]]"
      ],
      "execution_count": null,
      "outputs": [
        {
          "output_type": "execute_result",
          "data": {
            "text/html": [
              "<div>\n",
              "<style scoped>\n",
              "    .dataframe tbody tr th:only-of-type {\n",
              "        vertical-align: middle;\n",
              "    }\n",
              "\n",
              "    .dataframe tbody tr th {\n",
              "        vertical-align: top;\n",
              "    }\n",
              "\n",
              "    .dataframe thead th {\n",
              "        text-align: right;\n",
              "    }\n",
              "</style>\n",
              "<table border=\"1\" class=\"dataframe\">\n",
              "  <thead>\n",
              "    <tr style=\"text-align: right;\">\n",
              "      <th></th>\n",
              "      <th>state</th>\n",
              "      <th>account_length</th>\n",
              "      <th>area_code</th>\n",
              "      <th>international_plan</th>\n",
              "      <th>voice_mail_plan</th>\n",
              "      <th>number_vmail_messages</th>\n",
              "      <th>total_day_minutes</th>\n",
              "      <th>total_day_calls</th>\n",
              "      <th>total_day_charge</th>\n",
              "      <th>total_eve_minutes</th>\n",
              "      <th>total_eve_calls</th>\n",
              "      <th>total_eve_charge</th>\n",
              "      <th>total_night_minutes</th>\n",
              "      <th>total_night_calls</th>\n",
              "      <th>total_night_charge</th>\n",
              "      <th>total_intl_minutes</th>\n",
              "      <th>total_intl_calls</th>\n",
              "      <th>total_intl_charge</th>\n",
              "      <th>number_customer_service_calls</th>\n",
              "      <th>churn</th>\n",
              "    </tr>\n",
              "  </thead>\n",
              "  <tbody>\n",
              "    <tr>\n",
              "      <th>999</th>\n",
              "      <td>MD</td>\n",
              "      <td>88</td>\n",
              "      <td>area_code_415</td>\n",
              "      <td>yes</td>\n",
              "      <td>no</td>\n",
              "      <td>0</td>\n",
              "      <td>235.1</td>\n",
              "      <td>98</td>\n",
              "      <td>39.97</td>\n",
              "      <td>251.8</td>\n",
              "      <td>79</td>\n",
              "      <td>21.40</td>\n",
              "      <td>285.9</td>\n",
              "      <td>76</td>\n",
              "      <td>12.87</td>\n",
              "      <td>7.2</td>\n",
              "      <td>2</td>\n",
              "      <td>1.94</td>\n",
              "      <td>4</td>\n",
              "      <td>yes</td>\n",
              "    </tr>\n",
              "    <tr>\n",
              "      <th>1999</th>\n",
              "      <td>VA</td>\n",
              "      <td>118</td>\n",
              "      <td>area_code_408</td>\n",
              "      <td>no</td>\n",
              "      <td>no</td>\n",
              "      <td>0</td>\n",
              "      <td>154.8</td>\n",
              "      <td>71</td>\n",
              "      <td>26.32</td>\n",
              "      <td>244.0</td>\n",
              "      <td>73</td>\n",
              "      <td>20.74</td>\n",
              "      <td>159.6</td>\n",
              "      <td>81</td>\n",
              "      <td>7.18</td>\n",
              "      <td>12.8</td>\n",
              "      <td>4</td>\n",
              "      <td>3.46</td>\n",
              "      <td>0</td>\n",
              "      <td>no</td>\n",
              "    </tr>\n",
              "    <tr>\n",
              "      <th>2999</th>\n",
              "      <td>NM</td>\n",
              "      <td>124</td>\n",
              "      <td>area_code_408</td>\n",
              "      <td>no</td>\n",
              "      <td>no</td>\n",
              "      <td>0</td>\n",
              "      <td>244.6</td>\n",
              "      <td>91</td>\n",
              "      <td>41.58</td>\n",
              "      <td>125.1</td>\n",
              "      <td>70</td>\n",
              "      <td>10.63</td>\n",
              "      <td>303.4</td>\n",
              "      <td>104</td>\n",
              "      <td>13.65</td>\n",
              "      <td>12.0</td>\n",
              "      <td>5</td>\n",
              "      <td>3.24</td>\n",
              "      <td>0</td>\n",
              "      <td>no</td>\n",
              "    </tr>\n",
              "  </tbody>\n",
              "</table>\n",
              "</div>"
            ],
            "text/plain": [
              "     state  account_length  ... number_customer_service_calls churn\n",
              "999     MD              88  ...                             4   yes\n",
              "1999    VA             118  ...                             0    no\n",
              "2999    NM             124  ...                             0    no\n",
              "\n",
              "[3 rows x 20 columns]"
            ]
          },
          "metadata": {
            "tags": []
          },
          "execution_count": 5
        }
      ]
    },
    {
      "cell_type": "code",
      "metadata": {
        "colab": {
          "base_uri": "https://localhost:8080/"
        },
        "id": "ZRRbT-f3eGqb",
        "outputId": "183c313e-04ae-4783-e383-a6e845118bf8"
      },
      "source": [
        "#Liệt kê danh sách thuộc tính của df_train\n",
        "\n",
        "df_train.columns.values"
      ],
      "execution_count": null,
      "outputs": [
        {
          "output_type": "execute_result",
          "data": {
            "text/plain": [
              "array(['state', 'account_length', 'area_code', 'international_plan',\n",
              "       'voice_mail_plan', 'number_vmail_messages', 'total_day_minutes',\n",
              "       'total_day_calls', 'total_day_charge', 'total_eve_minutes',\n",
              "       'total_eve_calls', 'total_eve_charge', 'total_night_minutes',\n",
              "       'total_night_calls', 'total_night_charge', 'total_intl_minutes',\n",
              "       'total_intl_calls', 'total_intl_charge',\n",
              "       'number_customer_service_calls', 'churn'], dtype=object)"
            ]
          },
          "metadata": {
            "tags": []
          },
          "execution_count": 6
        }
      ]
    },
    {
      "cell_type": "code",
      "metadata": {
        "colab": {
          "base_uri": "https://localhost:8080/",
          "height": 938
        },
        "id": "7Aft2Fvyedcq",
        "outputId": "a29ab569-14a9-4752-f01a-d28efcbf16e2"
      },
      "source": [
        "#Lấy mã bang và mã vùng của các khách hàng từ vị trí 322 - 350\n",
        "\n",
        "df_train.loc[321:349, [\"state\", \"area_code\"]]"
      ],
      "execution_count": null,
      "outputs": [
        {
          "output_type": "execute_result",
          "data": {
            "text/html": [
              "<div>\n",
              "<style scoped>\n",
              "    .dataframe tbody tr th:only-of-type {\n",
              "        vertical-align: middle;\n",
              "    }\n",
              "\n",
              "    .dataframe tbody tr th {\n",
              "        vertical-align: top;\n",
              "    }\n",
              "\n",
              "    .dataframe thead th {\n",
              "        text-align: right;\n",
              "    }\n",
              "</style>\n",
              "<table border=\"1\" class=\"dataframe\">\n",
              "  <thead>\n",
              "    <tr style=\"text-align: right;\">\n",
              "      <th></th>\n",
              "      <th>state</th>\n",
              "      <th>area_code</th>\n",
              "    </tr>\n",
              "  </thead>\n",
              "  <tbody>\n",
              "    <tr>\n",
              "      <th>321</th>\n",
              "      <td>NH</td>\n",
              "      <td>area_code_510</td>\n",
              "    </tr>\n",
              "    <tr>\n",
              "      <th>322</th>\n",
              "      <td>WI</td>\n",
              "      <td>area_code_415</td>\n",
              "    </tr>\n",
              "    <tr>\n",
              "      <th>323</th>\n",
              "      <td>WV</td>\n",
              "      <td>area_code_415</td>\n",
              "    </tr>\n",
              "    <tr>\n",
              "      <th>324</th>\n",
              "      <td>MA</td>\n",
              "      <td>area_code_415</td>\n",
              "    </tr>\n",
              "    <tr>\n",
              "      <th>325</th>\n",
              "      <td>MD</td>\n",
              "      <td>area_code_415</td>\n",
              "    </tr>\n",
              "    <tr>\n",
              "      <th>326</th>\n",
              "      <td>PA</td>\n",
              "      <td>area_code_510</td>\n",
              "    </tr>\n",
              "    <tr>\n",
              "      <th>327</th>\n",
              "      <td>WI</td>\n",
              "      <td>area_code_510</td>\n",
              "    </tr>\n",
              "    <tr>\n",
              "      <th>328</th>\n",
              "      <td>TN</td>\n",
              "      <td>area_code_415</td>\n",
              "    </tr>\n",
              "    <tr>\n",
              "      <th>329</th>\n",
              "      <td>IL</td>\n",
              "      <td>area_code_510</td>\n",
              "    </tr>\n",
              "    <tr>\n",
              "      <th>330</th>\n",
              "      <td>DC</td>\n",
              "      <td>area_code_415</td>\n",
              "    </tr>\n",
              "    <tr>\n",
              "      <th>331</th>\n",
              "      <td>ID</td>\n",
              "      <td>area_code_415</td>\n",
              "    </tr>\n",
              "    <tr>\n",
              "      <th>332</th>\n",
              "      <td>UT</td>\n",
              "      <td>area_code_408</td>\n",
              "    </tr>\n",
              "    <tr>\n",
              "      <th>333</th>\n",
              "      <td>KY</td>\n",
              "      <td>area_code_510</td>\n",
              "    </tr>\n",
              "    <tr>\n",
              "      <th>334</th>\n",
              "      <td>WI</td>\n",
              "      <td>area_code_415</td>\n",
              "    </tr>\n",
              "    <tr>\n",
              "      <th>335</th>\n",
              "      <td>IL</td>\n",
              "      <td>area_code_415</td>\n",
              "    </tr>\n",
              "    <tr>\n",
              "      <th>336</th>\n",
              "      <td>DE</td>\n",
              "      <td>area_code_510</td>\n",
              "    </tr>\n",
              "    <tr>\n",
              "      <th>337</th>\n",
              "      <td>RI</td>\n",
              "      <td>area_code_510</td>\n",
              "    </tr>\n",
              "    <tr>\n",
              "      <th>338</th>\n",
              "      <td>TX</td>\n",
              "      <td>area_code_415</td>\n",
              "    </tr>\n",
              "    <tr>\n",
              "      <th>339</th>\n",
              "      <td>OR</td>\n",
              "      <td>area_code_408</td>\n",
              "    </tr>\n",
              "    <tr>\n",
              "      <th>340</th>\n",
              "      <td>NV</td>\n",
              "      <td>area_code_415</td>\n",
              "    </tr>\n",
              "    <tr>\n",
              "      <th>341</th>\n",
              "      <td>NE</td>\n",
              "      <td>area_code_415</td>\n",
              "    </tr>\n",
              "    <tr>\n",
              "      <th>342</th>\n",
              "      <td>OR</td>\n",
              "      <td>area_code_415</td>\n",
              "    </tr>\n",
              "    <tr>\n",
              "      <th>343</th>\n",
              "      <td>DE</td>\n",
              "      <td>area_code_510</td>\n",
              "    </tr>\n",
              "    <tr>\n",
              "      <th>344</th>\n",
              "      <td>AZ</td>\n",
              "      <td>area_code_408</td>\n",
              "    </tr>\n",
              "    <tr>\n",
              "      <th>345</th>\n",
              "      <td>SD</td>\n",
              "      <td>area_code_408</td>\n",
              "    </tr>\n",
              "    <tr>\n",
              "      <th>346</th>\n",
              "      <td>NV</td>\n",
              "      <td>area_code_415</td>\n",
              "    </tr>\n",
              "    <tr>\n",
              "      <th>347</th>\n",
              "      <td>NM</td>\n",
              "      <td>area_code_415</td>\n",
              "    </tr>\n",
              "    <tr>\n",
              "      <th>348</th>\n",
              "      <td>MN</td>\n",
              "      <td>area_code_510</td>\n",
              "    </tr>\n",
              "    <tr>\n",
              "      <th>349</th>\n",
              "      <td>NJ</td>\n",
              "      <td>area_code_415</td>\n",
              "    </tr>\n",
              "  </tbody>\n",
              "</table>\n",
              "</div>"
            ],
            "text/plain": [
              "    state      area_code\n",
              "321    NH  area_code_510\n",
              "322    WI  area_code_415\n",
              "323    WV  area_code_415\n",
              "324    MA  area_code_415\n",
              "325    MD  area_code_415\n",
              "326    PA  area_code_510\n",
              "327    WI  area_code_510\n",
              "328    TN  area_code_415\n",
              "329    IL  area_code_510\n",
              "330    DC  area_code_415\n",
              "331    ID  area_code_415\n",
              "332    UT  area_code_408\n",
              "333    KY  area_code_510\n",
              "334    WI  area_code_415\n",
              "335    IL  area_code_415\n",
              "336    DE  area_code_510\n",
              "337    RI  area_code_510\n",
              "338    TX  area_code_415\n",
              "339    OR  area_code_408\n",
              "340    NV  area_code_415\n",
              "341    NE  area_code_415\n",
              "342    OR  area_code_415\n",
              "343    DE  area_code_510\n",
              "344    AZ  area_code_408\n",
              "345    SD  area_code_408\n",
              "346    NV  area_code_415\n",
              "347    NM  area_code_415\n",
              "348    MN  area_code_510\n",
              "349    NJ  area_code_415"
            ]
          },
          "metadata": {
            "tags": []
          },
          "execution_count": 7
        }
      ]
    },
    {
      "cell_type": "markdown",
      "metadata": {
        "id": "YEz_nnhzf0uz"
      },
      "source": [
        "## II. Phân tích số liệu tập train\n",
        "---"
      ]
    },
    {
      "cell_type": "markdown",
      "metadata": {
        "id": "e39uir0w2Qy6"
      },
      "source": [
        "### 1) Thống kê tổng quan\n",
        "---"
      ]
    },
    {
      "cell_type": "code",
      "metadata": {
        "colab": {
          "base_uri": "https://localhost:8080/"
        },
        "id": "323i4tM1irbP",
        "outputId": "13d5fa46-f157-4707-d256-7e677daeb9ce"
      },
      "source": [
        "#Hiển thị thông tin tổng quan của tập train: số row, số column, tên thuộc tính, số lượng giá trị không null và kiểu dữ liệu của từng thuộc tính\n",
        "\n",
        "df_train.info()"
      ],
      "execution_count": null,
      "outputs": [
        {
          "output_type": "stream",
          "text": [
            "<class 'pandas.core.frame.DataFrame'>\n",
            "RangeIndex: 4250 entries, 0 to 4249\n",
            "Data columns (total 20 columns):\n",
            " #   Column                         Non-Null Count  Dtype  \n",
            "---  ------                         --------------  -----  \n",
            " 0   state                          4250 non-null   object \n",
            " 1   account_length                 4250 non-null   int64  \n",
            " 2   area_code                      4250 non-null   object \n",
            " 3   international_plan             4250 non-null   object \n",
            " 4   voice_mail_plan                4250 non-null   object \n",
            " 5   number_vmail_messages          4250 non-null   int64  \n",
            " 6   total_day_minutes              4250 non-null   float64\n",
            " 7   total_day_calls                4250 non-null   int64  \n",
            " 8   total_day_charge               4250 non-null   float64\n",
            " 9   total_eve_minutes              4250 non-null   float64\n",
            " 10  total_eve_calls                4250 non-null   int64  \n",
            " 11  total_eve_charge               4250 non-null   float64\n",
            " 12  total_night_minutes            4250 non-null   float64\n",
            " 13  total_night_calls              4250 non-null   int64  \n",
            " 14  total_night_charge             4250 non-null   float64\n",
            " 15  total_intl_minutes             4250 non-null   float64\n",
            " 16  total_intl_calls               4250 non-null   int64  \n",
            " 17  total_intl_charge              4250 non-null   float64\n",
            " 18  number_customer_service_calls  4250 non-null   int64  \n",
            " 19  churn                          4250 non-null   object \n",
            "dtypes: float64(8), int64(7), object(5)\n",
            "memory usage: 664.2+ KB\n"
          ],
          "name": "stdout"
        }
      ]
    },
    {
      "cell_type": "code",
      "metadata": {
        "colab": {
          "base_uri": "https://localhost:8080/"
        },
        "id": "MhnUNqlOnYeo",
        "outputId": "eeadc9cf-05eb-4b42-be5a-1ef681a1dba9"
      },
      "source": [
        "#Hiển thị kích thước tập train\n",
        "\n",
        "print(\"Training dataset's shape: \", df_train.shape)"
      ],
      "execution_count": null,
      "outputs": [
        {
          "output_type": "stream",
          "text": [
            "Training dataset's shape:  (4250, 20)\n"
          ],
          "name": "stdout"
        }
      ]
    },
    {
      "cell_type": "code",
      "metadata": {
        "colab": {
          "base_uri": "https://localhost:8080/"
        },
        "id": "ELYLwQUqnlOE",
        "outputId": "c0f8cdcb-d8fc-442b-b328-d7a433a4f611"
      },
      "source": [
        "#Đếm số dòng dữ liệu không chứa giá trị null theo từng cột (tập train):\n",
        "\n",
        "df_train.count()"
      ],
      "execution_count": null,
      "outputs": [
        {
          "output_type": "execute_result",
          "data": {
            "text/plain": [
              "state                            4250\n",
              "account_length                   4250\n",
              "area_code                        4250\n",
              "international_plan               4250\n",
              "voice_mail_plan                  4250\n",
              "number_vmail_messages            4250\n",
              "total_day_minutes                4250\n",
              "total_day_calls                  4250\n",
              "total_day_charge                 4250\n",
              "total_eve_minutes                4250\n",
              "total_eve_calls                  4250\n",
              "total_eve_charge                 4250\n",
              "total_night_minutes              4250\n",
              "total_night_calls                4250\n",
              "total_night_charge               4250\n",
              "total_intl_minutes               4250\n",
              "total_intl_calls                 4250\n",
              "total_intl_charge                4250\n",
              "number_customer_service_calls    4250\n",
              "churn                            4250\n",
              "dtype: int64"
            ]
          },
          "metadata": {
            "tags": []
          },
          "execution_count": 10
        }
      ]
    },
    {
      "cell_type": "markdown",
      "metadata": {
        "id": "a7F5gc6e3igD"
      },
      "source": [
        "Ta có thể thấy rằng, không có thuộc tính nào bị mất mát dữ liệu. Do đó, ta không cần phải xử lý giá trị mất mát trong quá trình tiền xử lý dữ liệu."
      ]
    },
    {
      "cell_type": "code",
      "metadata": {
        "colab": {
          "base_uri": "https://localhost:8080/",
          "height": 314
        },
        "id": "fKq70EX2n7Zl",
        "outputId": "172e2b3c-0af7-4856-fa59-628eb7042b1c"
      },
      "source": [
        "#Thống kê tổng quan của các thuộc tính có kiểu dữ liệu dạng số\n",
        "\n",
        "df_train.describe()"
      ],
      "execution_count": null,
      "outputs": [
        {
          "output_type": "execute_result",
          "data": {
            "text/html": [
              "<div>\n",
              "<style scoped>\n",
              "    .dataframe tbody tr th:only-of-type {\n",
              "        vertical-align: middle;\n",
              "    }\n",
              "\n",
              "    .dataframe tbody tr th {\n",
              "        vertical-align: top;\n",
              "    }\n",
              "\n",
              "    .dataframe thead th {\n",
              "        text-align: right;\n",
              "    }\n",
              "</style>\n",
              "<table border=\"1\" class=\"dataframe\">\n",
              "  <thead>\n",
              "    <tr style=\"text-align: right;\">\n",
              "      <th></th>\n",
              "      <th>account_length</th>\n",
              "      <th>number_vmail_messages</th>\n",
              "      <th>total_day_minutes</th>\n",
              "      <th>total_day_calls</th>\n",
              "      <th>total_day_charge</th>\n",
              "      <th>total_eve_minutes</th>\n",
              "      <th>total_eve_calls</th>\n",
              "      <th>total_eve_charge</th>\n",
              "      <th>total_night_minutes</th>\n",
              "      <th>total_night_calls</th>\n",
              "      <th>total_night_charge</th>\n",
              "      <th>total_intl_minutes</th>\n",
              "      <th>total_intl_calls</th>\n",
              "      <th>total_intl_charge</th>\n",
              "      <th>number_customer_service_calls</th>\n",
              "    </tr>\n",
              "  </thead>\n",
              "  <tbody>\n",
              "    <tr>\n",
              "      <th>count</th>\n",
              "      <td>4250.000000</td>\n",
              "      <td>4250.000000</td>\n",
              "      <td>4250.000000</td>\n",
              "      <td>4250.000000</td>\n",
              "      <td>4250.000000</td>\n",
              "      <td>4250.000000</td>\n",
              "      <td>4250.000000</td>\n",
              "      <td>4250.000000</td>\n",
              "      <td>4250.000000</td>\n",
              "      <td>4250.000000</td>\n",
              "      <td>4250.000000</td>\n",
              "      <td>4250.000000</td>\n",
              "      <td>4250.000000</td>\n",
              "      <td>4250.000000</td>\n",
              "      <td>4250.000000</td>\n",
              "    </tr>\n",
              "    <tr>\n",
              "      <th>mean</th>\n",
              "      <td>100.236235</td>\n",
              "      <td>7.631765</td>\n",
              "      <td>180.259600</td>\n",
              "      <td>99.907294</td>\n",
              "      <td>30.644682</td>\n",
              "      <td>200.173906</td>\n",
              "      <td>100.176471</td>\n",
              "      <td>17.015012</td>\n",
              "      <td>200.527882</td>\n",
              "      <td>99.839529</td>\n",
              "      <td>9.023892</td>\n",
              "      <td>10.256071</td>\n",
              "      <td>4.426353</td>\n",
              "      <td>2.769654</td>\n",
              "      <td>1.559059</td>\n",
              "    </tr>\n",
              "    <tr>\n",
              "      <th>std</th>\n",
              "      <td>39.698401</td>\n",
              "      <td>13.439882</td>\n",
              "      <td>54.012373</td>\n",
              "      <td>19.850817</td>\n",
              "      <td>9.182096</td>\n",
              "      <td>50.249518</td>\n",
              "      <td>19.908591</td>\n",
              "      <td>4.271212</td>\n",
              "      <td>50.353548</td>\n",
              "      <td>20.093220</td>\n",
              "      <td>2.265922</td>\n",
              "      <td>2.760102</td>\n",
              "      <td>2.463069</td>\n",
              "      <td>0.745204</td>\n",
              "      <td>1.311434</td>\n",
              "    </tr>\n",
              "    <tr>\n",
              "      <th>min</th>\n",
              "      <td>1.000000</td>\n",
              "      <td>0.000000</td>\n",
              "      <td>0.000000</td>\n",
              "      <td>0.000000</td>\n",
              "      <td>0.000000</td>\n",
              "      <td>0.000000</td>\n",
              "      <td>0.000000</td>\n",
              "      <td>0.000000</td>\n",
              "      <td>0.000000</td>\n",
              "      <td>0.000000</td>\n",
              "      <td>0.000000</td>\n",
              "      <td>0.000000</td>\n",
              "      <td>0.000000</td>\n",
              "      <td>0.000000</td>\n",
              "      <td>0.000000</td>\n",
              "    </tr>\n",
              "    <tr>\n",
              "      <th>25%</th>\n",
              "      <td>73.000000</td>\n",
              "      <td>0.000000</td>\n",
              "      <td>143.325000</td>\n",
              "      <td>87.000000</td>\n",
              "      <td>24.365000</td>\n",
              "      <td>165.925000</td>\n",
              "      <td>87.000000</td>\n",
              "      <td>14.102500</td>\n",
              "      <td>167.225000</td>\n",
              "      <td>86.000000</td>\n",
              "      <td>7.522500</td>\n",
              "      <td>8.500000</td>\n",
              "      <td>3.000000</td>\n",
              "      <td>2.300000</td>\n",
              "      <td>1.000000</td>\n",
              "    </tr>\n",
              "    <tr>\n",
              "      <th>50%</th>\n",
              "      <td>100.000000</td>\n",
              "      <td>0.000000</td>\n",
              "      <td>180.450000</td>\n",
              "      <td>100.000000</td>\n",
              "      <td>30.680000</td>\n",
              "      <td>200.700000</td>\n",
              "      <td>100.000000</td>\n",
              "      <td>17.060000</td>\n",
              "      <td>200.450000</td>\n",
              "      <td>100.000000</td>\n",
              "      <td>9.020000</td>\n",
              "      <td>10.300000</td>\n",
              "      <td>4.000000</td>\n",
              "      <td>2.780000</td>\n",
              "      <td>1.000000</td>\n",
              "    </tr>\n",
              "    <tr>\n",
              "      <th>75%</th>\n",
              "      <td>127.000000</td>\n",
              "      <td>16.000000</td>\n",
              "      <td>216.200000</td>\n",
              "      <td>113.000000</td>\n",
              "      <td>36.750000</td>\n",
              "      <td>233.775000</td>\n",
              "      <td>114.000000</td>\n",
              "      <td>19.867500</td>\n",
              "      <td>234.700000</td>\n",
              "      <td>113.000000</td>\n",
              "      <td>10.560000</td>\n",
              "      <td>12.000000</td>\n",
              "      <td>6.000000</td>\n",
              "      <td>3.240000</td>\n",
              "      <td>2.000000</td>\n",
              "    </tr>\n",
              "    <tr>\n",
              "      <th>max</th>\n",
              "      <td>243.000000</td>\n",
              "      <td>52.000000</td>\n",
              "      <td>351.500000</td>\n",
              "      <td>165.000000</td>\n",
              "      <td>59.760000</td>\n",
              "      <td>359.300000</td>\n",
              "      <td>170.000000</td>\n",
              "      <td>30.540000</td>\n",
              "      <td>395.000000</td>\n",
              "      <td>175.000000</td>\n",
              "      <td>17.770000</td>\n",
              "      <td>20.000000</td>\n",
              "      <td>20.000000</td>\n",
              "      <td>5.400000</td>\n",
              "      <td>9.000000</td>\n",
              "    </tr>\n",
              "  </tbody>\n",
              "</table>\n",
              "</div>"
            ],
            "text/plain": [
              "       account_length  ...  number_customer_service_calls\n",
              "count     4250.000000  ...                    4250.000000\n",
              "mean       100.236235  ...                       1.559059\n",
              "std         39.698401  ...                       1.311434\n",
              "min          1.000000  ...                       0.000000\n",
              "25%         73.000000  ...                       1.000000\n",
              "50%        100.000000  ...                       1.000000\n",
              "75%        127.000000  ...                       2.000000\n",
              "max        243.000000  ...                       9.000000\n",
              "\n",
              "[8 rows x 15 columns]"
            ]
          },
          "metadata": {
            "tags": []
          },
          "execution_count": 11
        }
      ]
    },
    {
      "cell_type": "code",
      "metadata": {
        "colab": {
          "base_uri": "https://localhost:8080/",
          "height": 171
        },
        "id": "JohW6CfLoPsj",
        "outputId": "006ca65c-8a7b-464b-9230-e33473893eff"
      },
      "source": [
        "#Thống kê tổng quan của các thuộc tính có kiểu dữ liệu dạng object\n",
        "\n",
        "df_train.describe(include = \"O\")"
      ],
      "execution_count": null,
      "outputs": [
        {
          "output_type": "execute_result",
          "data": {
            "text/html": [
              "<div>\n",
              "<style scoped>\n",
              "    .dataframe tbody tr th:only-of-type {\n",
              "        vertical-align: middle;\n",
              "    }\n",
              "\n",
              "    .dataframe tbody tr th {\n",
              "        vertical-align: top;\n",
              "    }\n",
              "\n",
              "    .dataframe thead th {\n",
              "        text-align: right;\n",
              "    }\n",
              "</style>\n",
              "<table border=\"1\" class=\"dataframe\">\n",
              "  <thead>\n",
              "    <tr style=\"text-align: right;\">\n",
              "      <th></th>\n",
              "      <th>state</th>\n",
              "      <th>area_code</th>\n",
              "      <th>international_plan</th>\n",
              "      <th>voice_mail_plan</th>\n",
              "      <th>churn</th>\n",
              "    </tr>\n",
              "  </thead>\n",
              "  <tbody>\n",
              "    <tr>\n",
              "      <th>count</th>\n",
              "      <td>4250</td>\n",
              "      <td>4250</td>\n",
              "      <td>4250</td>\n",
              "      <td>4250</td>\n",
              "      <td>4250</td>\n",
              "    </tr>\n",
              "    <tr>\n",
              "      <th>unique</th>\n",
              "      <td>51</td>\n",
              "      <td>3</td>\n",
              "      <td>2</td>\n",
              "      <td>2</td>\n",
              "      <td>2</td>\n",
              "    </tr>\n",
              "    <tr>\n",
              "      <th>top</th>\n",
              "      <td>WV</td>\n",
              "      <td>area_code_415</td>\n",
              "      <td>no</td>\n",
              "      <td>no</td>\n",
              "      <td>no</td>\n",
              "    </tr>\n",
              "    <tr>\n",
              "      <th>freq</th>\n",
              "      <td>139</td>\n",
              "      <td>2108</td>\n",
              "      <td>3854</td>\n",
              "      <td>3138</td>\n",
              "      <td>3652</td>\n",
              "    </tr>\n",
              "  </tbody>\n",
              "</table>\n",
              "</div>"
            ],
            "text/plain": [
              "       state      area_code international_plan voice_mail_plan churn\n",
              "count   4250           4250               4250            4250  4250\n",
              "unique    51              3                  2               2     2\n",
              "top       WV  area_code_415                 no              no    no\n",
              "freq     139           2108               3854            3138  3652"
            ]
          },
          "metadata": {
            "tags": []
          },
          "execution_count": 12
        }
      ]
    },
    {
      "cell_type": "code",
      "metadata": {
        "colab": {
          "base_uri": "https://localhost:8080/"
        },
        "id": "wSDsDzRBozlr",
        "outputId": "8fe50576-3991-479c-c739-85aaaac5665c"
      },
      "source": [
        "#Liệt kê số lượng missing data của mỗi thuộc tính\n",
        "\n",
        "print(\"Training dataset's missing value count: \\n\")\n",
        "df_train.isnull().sum()"
      ],
      "execution_count": null,
      "outputs": [
        {
          "output_type": "stream",
          "text": [
            "Training dataset's missing value count: \n",
            "\n"
          ],
          "name": "stdout"
        },
        {
          "output_type": "execute_result",
          "data": {
            "text/plain": [
              "state                            0\n",
              "account_length                   0\n",
              "area_code                        0\n",
              "international_plan               0\n",
              "voice_mail_plan                  0\n",
              "number_vmail_messages            0\n",
              "total_day_minutes                0\n",
              "total_day_calls                  0\n",
              "total_day_charge                 0\n",
              "total_eve_minutes                0\n",
              "total_eve_calls                  0\n",
              "total_eve_charge                 0\n",
              "total_night_minutes              0\n",
              "total_night_calls                0\n",
              "total_night_charge               0\n",
              "total_intl_minutes               0\n",
              "total_intl_calls                 0\n",
              "total_intl_charge                0\n",
              "number_customer_service_calls    0\n",
              "churn                            0\n",
              "dtype: int64"
            ]
          },
          "metadata": {
            "tags": []
          },
          "execution_count": 13
        }
      ]
    },
    {
      "cell_type": "markdown",
      "metadata": {
        "id": "RSJXiCENqUrG"
      },
      "source": [
        "### 2) Phân tích mối tương quan giữa các thuộc tính chủ chốt ảnh hưởng tới kết quả đầu ra\n",
        "---\n",
        "Phân tích nhanh mối tương quan giữa các thuộc tính chủ chốt, áp dụng được cho các thuộc tính có các kiểu dữ liệu sau:\n",
        "\n",
        "*   Phân loại (Categorical): international_plan, voice_mail_plan\n",
        "*   Rời rạc (Discrete): account_length, number_vmail_messages, total_day_calls, total_eve_calls, total_night_calls, total_intl_calls, number_customer_service_calls\n",
        "\n"
      ]
    },
    {
      "cell_type": "code",
      "metadata": {
        "id": "X35VvYUPwC-e"
      },
      "source": [
        "#Chuẩn hóa thuộc tính đầu ra churn bằng cách đưa nó về dạng số để phân tích mối tương quan và trực quan hóa dataset\n",
        "\n",
        "le = pp.LabelEncoder()\n",
        "df_train_temp = df_train.copy()\n",
        "df_train_temp[\"churn\"] = le.fit_transform(df_train_temp[\"churn\"])"
      ],
      "execution_count": null,
      "outputs": []
    },
    {
      "cell_type": "code",
      "metadata": {
        "colab": {
          "base_uri": "https://localhost:8080/",
          "height": 415
        },
        "id": "y1Hq4oAiPH5d",
        "outputId": "601829f1-3c52-46bf-de83-9a252d6e93e4"
      },
      "source": [
        "#Thuộc tính account_length\n",
        "\n",
        "df_train_temp[[\"account_length\", \"churn\"]].groupby([\"account_length\"], as_index = False).mean().sort_values(by = \"churn\", ascending = False)"
      ],
      "execution_count": null,
      "outputs": [
        {
          "output_type": "execute_result",
          "data": {
            "text/html": [
              "<div>\n",
              "<style scoped>\n",
              "    .dataframe tbody tr th:only-of-type {\n",
              "        vertical-align: middle;\n",
              "    }\n",
              "\n",
              "    .dataframe tbody tr th {\n",
              "        vertical-align: top;\n",
              "    }\n",
              "\n",
              "    .dataframe thead th {\n",
              "        text-align: right;\n",
              "    }\n",
              "</style>\n",
              "<table border=\"1\" class=\"dataframe\">\n",
              "  <thead>\n",
              "    <tr style=\"text-align: right;\">\n",
              "      <th></th>\n",
              "      <th>account_length</th>\n",
              "      <th>churn</th>\n",
              "    </tr>\n",
              "  </thead>\n",
              "  <tbody>\n",
              "    <tr>\n",
              "      <th>202</th>\n",
              "      <td>208</td>\n",
              "      <td>1.0</td>\n",
              "    </tr>\n",
              "    <tr>\n",
              "      <th>205</th>\n",
              "      <td>212</td>\n",
              "      <td>1.0</td>\n",
              "    </tr>\n",
              "    <tr>\n",
              "      <th>187</th>\n",
              "      <td>188</td>\n",
              "      <td>0.5</td>\n",
              "    </tr>\n",
              "    <tr>\n",
              "      <th>212</th>\n",
              "      <td>225</td>\n",
              "      <td>0.5</td>\n",
              "    </tr>\n",
              "    <tr>\n",
              "      <th>211</th>\n",
              "      <td>224</td>\n",
              "      <td>0.5</td>\n",
              "    </tr>\n",
              "    <tr>\n",
              "      <th>...</th>\n",
              "      <td>...</td>\n",
              "      <td>...</td>\n",
              "    </tr>\n",
              "    <tr>\n",
              "      <th>164</th>\n",
              "      <td>165</td>\n",
              "      <td>0.0</td>\n",
              "    </tr>\n",
              "    <tr>\n",
              "      <th>179</th>\n",
              "      <td>180</td>\n",
              "      <td>0.0</td>\n",
              "    </tr>\n",
              "    <tr>\n",
              "      <th>182</th>\n",
              "      <td>183</td>\n",
              "      <td>0.0</td>\n",
              "    </tr>\n",
              "    <tr>\n",
              "      <th>183</th>\n",
              "      <td>184</td>\n",
              "      <td>0.0</td>\n",
              "    </tr>\n",
              "    <tr>\n",
              "      <th>214</th>\n",
              "      <td>243</td>\n",
              "      <td>0.0</td>\n",
              "    </tr>\n",
              "  </tbody>\n",
              "</table>\n",
              "<p>215 rows × 2 columns</p>\n",
              "</div>"
            ],
            "text/plain": [
              "     account_length  churn\n",
              "202             208    1.0\n",
              "205             212    1.0\n",
              "187             188    0.5\n",
              "212             225    0.5\n",
              "211             224    0.5\n",
              "..              ...    ...\n",
              "164             165    0.0\n",
              "179             180    0.0\n",
              "182             183    0.0\n",
              "183             184    0.0\n",
              "214             243    0.0\n",
              "\n",
              "[215 rows x 2 columns]"
            ]
          },
          "metadata": {
            "tags": []
          },
          "execution_count": 15
        }
      ]
    },
    {
      "cell_type": "code",
      "metadata": {
        "colab": {
          "base_uri": "https://localhost:8080/",
          "height": 110
        },
        "id": "d_oWhrFBvDlM",
        "outputId": "17146440-29b4-4b3e-9461-00286822a6f4"
      },
      "source": [
        "#Thuộc tính international_plan\n",
        "\n",
        "df_train_temp[[\"international_plan\", \"churn\"]].groupby([\"international_plan\"], as_index = False).mean().sort_values(by = \"churn\", ascending = False)"
      ],
      "execution_count": null,
      "outputs": [
        {
          "output_type": "execute_result",
          "data": {
            "text/html": [
              "<div>\n",
              "<style scoped>\n",
              "    .dataframe tbody tr th:only-of-type {\n",
              "        vertical-align: middle;\n",
              "    }\n",
              "\n",
              "    .dataframe tbody tr th {\n",
              "        vertical-align: top;\n",
              "    }\n",
              "\n",
              "    .dataframe thead th {\n",
              "        text-align: right;\n",
              "    }\n",
              "</style>\n",
              "<table border=\"1\" class=\"dataframe\">\n",
              "  <thead>\n",
              "    <tr style=\"text-align: right;\">\n",
              "      <th></th>\n",
              "      <th>international_plan</th>\n",
              "      <th>churn</th>\n",
              "    </tr>\n",
              "  </thead>\n",
              "  <tbody>\n",
              "    <tr>\n",
              "      <th>1</th>\n",
              "      <td>yes</td>\n",
              "      <td>0.421717</td>\n",
              "    </tr>\n",
              "    <tr>\n",
              "      <th>0</th>\n",
              "      <td>no</td>\n",
              "      <td>0.111832</td>\n",
              "    </tr>\n",
              "  </tbody>\n",
              "</table>\n",
              "</div>"
            ],
            "text/plain": [
              "  international_plan     churn\n",
              "1                yes  0.421717\n",
              "0                 no  0.111832"
            ]
          },
          "metadata": {
            "tags": []
          },
          "execution_count": 16
        }
      ]
    },
    {
      "cell_type": "code",
      "metadata": {
        "colab": {
          "base_uri": "https://localhost:8080/",
          "height": 110
        },
        "id": "PUYE7Q0VxMp8",
        "outputId": "42a95847-c87b-44d7-f549-2f584da68e3a"
      },
      "source": [
        "#Thuộc tính voice_mail_plan\n",
        "\n",
        "df_train_temp[[\"voice_mail_plan\", \"churn\"]].groupby([\"voice_mail_plan\"], as_index = False).mean().sort_values(by = \"churn\", ascending = False)"
      ],
      "execution_count": null,
      "outputs": [
        {
          "output_type": "execute_result",
          "data": {
            "text/html": [
              "<div>\n",
              "<style scoped>\n",
              "    .dataframe tbody tr th:only-of-type {\n",
              "        vertical-align: middle;\n",
              "    }\n",
              "\n",
              "    .dataframe tbody tr th {\n",
              "        vertical-align: top;\n",
              "    }\n",
              "\n",
              "    .dataframe thead th {\n",
              "        text-align: right;\n",
              "    }\n",
              "</style>\n",
              "<table border=\"1\" class=\"dataframe\">\n",
              "  <thead>\n",
              "    <tr style=\"text-align: right;\">\n",
              "      <th></th>\n",
              "      <th>voice_mail_plan</th>\n",
              "      <th>churn</th>\n",
              "    </tr>\n",
              "  </thead>\n",
              "  <tbody>\n",
              "    <tr>\n",
              "      <th>0</th>\n",
              "      <td>no</td>\n",
              "      <td>0.164436</td>\n",
              "    </tr>\n",
              "    <tr>\n",
              "      <th>1</th>\n",
              "      <td>yes</td>\n",
              "      <td>0.073741</td>\n",
              "    </tr>\n",
              "  </tbody>\n",
              "</table>\n",
              "</div>"
            ],
            "text/plain": [
              "  voice_mail_plan     churn\n",
              "0              no  0.164436\n",
              "1             yes  0.073741"
            ]
          },
          "metadata": {
            "tags": []
          },
          "execution_count": 17
        }
      ]
    },
    {
      "cell_type": "code",
      "metadata": {
        "colab": {
          "base_uri": "https://localhost:8080/",
          "height": 1000
        },
        "id": "91m1uXBzyonR",
        "outputId": "edd2a16d-636d-48a7-d101-9c3f71075258"
      },
      "source": [
        "#Thuộc tính number_vmail_messages\n",
        "\n",
        "df_train_temp[[\"number_vmail_messages\", \"churn\"]].groupby([\"number_vmail_messages\"], as_index = False).mean().sort_values(by = \"churn\", ascending = False)"
      ],
      "execution_count": null,
      "outputs": [
        {
          "output_type": "execute_result",
          "data": {
            "text/html": [
              "<div>\n",
              "<style scoped>\n",
              "    .dataframe tbody tr th:only-of-type {\n",
              "        vertical-align: middle;\n",
              "    }\n",
              "\n",
              "    .dataframe tbody tr th {\n",
              "        vertical-align: top;\n",
              "    }\n",
              "\n",
              "    .dataframe thead th {\n",
              "        text-align: right;\n",
              "    }\n",
              "</style>\n",
              "<table border=\"1\" class=\"dataframe\">\n",
              "  <thead>\n",
              "    <tr style=\"text-align: right;\">\n",
              "      <th></th>\n",
              "      <th>number_vmail_messages</th>\n",
              "      <th>churn</th>\n",
              "    </tr>\n",
              "  </thead>\n",
              "  <tbody>\n",
              "    <tr>\n",
              "      <th>42</th>\n",
              "      <td>48</td>\n",
              "      <td>0.500000</td>\n",
              "    </tr>\n",
              "    <tr>\n",
              "      <th>38</th>\n",
              "      <td>44</td>\n",
              "      <td>0.285714</td>\n",
              "    </tr>\n",
              "    <tr>\n",
              "      <th>36</th>\n",
              "      <td>42</td>\n",
              "      <td>0.235294</td>\n",
              "    </tr>\n",
              "    <tr>\n",
              "      <th>35</th>\n",
              "      <td>41</td>\n",
              "      <td>0.166667</td>\n",
              "    </tr>\n",
              "    <tr>\n",
              "      <th>0</th>\n",
              "      <td>0</td>\n",
              "      <td>0.164384</td>\n",
              "    </tr>\n",
              "    <tr>\n",
              "      <th>23</th>\n",
              "      <td>29</td>\n",
              "      <td>0.140351</td>\n",
              "    </tr>\n",
              "    <tr>\n",
              "      <th>30</th>\n",
              "      <td>36</td>\n",
              "      <td>0.129032</td>\n",
              "    </tr>\n",
              "    <tr>\n",
              "      <th>27</th>\n",
              "      <td>33</td>\n",
              "      <td>0.127273</td>\n",
              "    </tr>\n",
              "    <tr>\n",
              "      <th>12</th>\n",
              "      <td>18</td>\n",
              "      <td>0.125000</td>\n",
              "    </tr>\n",
              "    <tr>\n",
              "      <th>22</th>\n",
              "      <td>28</td>\n",
              "      <td>0.120690</td>\n",
              "    </tr>\n",
              "    <tr>\n",
              "      <th>39</th>\n",
              "      <td>45</td>\n",
              "      <td>0.100000</td>\n",
              "    </tr>\n",
              "    <tr>\n",
              "      <th>20</th>\n",
              "      <td>26</td>\n",
              "      <td>0.094340</td>\n",
              "    </tr>\n",
              "    <tr>\n",
              "      <th>29</th>\n",
              "      <td>35</td>\n",
              "      <td>0.088235</td>\n",
              "    </tr>\n",
              "    <tr>\n",
              "      <th>32</th>\n",
              "      <td>38</td>\n",
              "      <td>0.085714</td>\n",
              "    </tr>\n",
              "    <tr>\n",
              "      <th>9</th>\n",
              "      <td>15</td>\n",
              "      <td>0.083333</td>\n",
              "    </tr>\n",
              "    <tr>\n",
              "      <th>28</th>\n",
              "      <td>34</td>\n",
              "      <td>0.083333</td>\n",
              "    </tr>\n",
              "    <tr>\n",
              "      <th>25</th>\n",
              "      <td>31</td>\n",
              "      <td>0.072464</td>\n",
              "    </tr>\n",
              "    <tr>\n",
              "      <th>14</th>\n",
              "      <td>20</td>\n",
              "      <td>0.068966</td>\n",
              "    </tr>\n",
              "    <tr>\n",
              "      <th>10</th>\n",
              "      <td>16</td>\n",
              "      <td>0.066667</td>\n",
              "    </tr>\n",
              "    <tr>\n",
              "      <th>26</th>\n",
              "      <td>32</td>\n",
              "      <td>0.063830</td>\n",
              "    </tr>\n",
              "    <tr>\n",
              "      <th>21</th>\n",
              "      <td>27</td>\n",
              "      <td>0.055556</td>\n",
              "    </tr>\n",
              "    <tr>\n",
              "      <th>16</th>\n",
              "      <td>22</td>\n",
              "      <td>0.052632</td>\n",
              "    </tr>\n",
              "    <tr>\n",
              "      <th>34</th>\n",
              "      <td>40</td>\n",
              "      <td>0.045455</td>\n",
              "    </tr>\n",
              "    <tr>\n",
              "      <th>19</th>\n",
              "      <td>25</td>\n",
              "      <td>0.043478</td>\n",
              "    </tr>\n",
              "    <tr>\n",
              "      <th>24</th>\n",
              "      <td>30</td>\n",
              "      <td>0.042553</td>\n",
              "    </tr>\n",
              "    <tr>\n",
              "      <th>13</th>\n",
              "      <td>19</td>\n",
              "      <td>0.040000</td>\n",
              "    </tr>\n",
              "    <tr>\n",
              "      <th>18</th>\n",
              "      <td>24</td>\n",
              "      <td>0.035088</td>\n",
              "    </tr>\n",
              "    <tr>\n",
              "      <th>31</th>\n",
              "      <td>37</td>\n",
              "      <td>0.031250</td>\n",
              "    </tr>\n",
              "    <tr>\n",
              "      <th>15</th>\n",
              "      <td>21</td>\n",
              "      <td>0.028571</td>\n",
              "    </tr>\n",
              "    <tr>\n",
              "      <th>33</th>\n",
              "      <td>39</td>\n",
              "      <td>0.028571</td>\n",
              "    </tr>\n",
              "    <tr>\n",
              "      <th>37</th>\n",
              "      <td>43</td>\n",
              "      <td>0.000000</td>\n",
              "    </tr>\n",
              "    <tr>\n",
              "      <th>41</th>\n",
              "      <td>47</td>\n",
              "      <td>0.000000</td>\n",
              "    </tr>\n",
              "    <tr>\n",
              "      <th>40</th>\n",
              "      <td>46</td>\n",
              "      <td>0.000000</td>\n",
              "    </tr>\n",
              "    <tr>\n",
              "      <th>2</th>\n",
              "      <td>6</td>\n",
              "      <td>0.000000</td>\n",
              "    </tr>\n",
              "    <tr>\n",
              "      <th>43</th>\n",
              "      <td>49</td>\n",
              "      <td>0.000000</td>\n",
              "    </tr>\n",
              "    <tr>\n",
              "      <th>44</th>\n",
              "      <td>50</td>\n",
              "      <td>0.000000</td>\n",
              "    </tr>\n",
              "    <tr>\n",
              "      <th>3</th>\n",
              "      <td>8</td>\n",
              "      <td>0.000000</td>\n",
              "    </tr>\n",
              "    <tr>\n",
              "      <th>6</th>\n",
              "      <td>12</td>\n",
              "      <td>0.000000</td>\n",
              "    </tr>\n",
              "    <tr>\n",
              "      <th>4</th>\n",
              "      <td>10</td>\n",
              "      <td>0.000000</td>\n",
              "    </tr>\n",
              "    <tr>\n",
              "      <th>5</th>\n",
              "      <td>11</td>\n",
              "      <td>0.000000</td>\n",
              "    </tr>\n",
              "    <tr>\n",
              "      <th>7</th>\n",
              "      <td>13</td>\n",
              "      <td>0.000000</td>\n",
              "    </tr>\n",
              "    <tr>\n",
              "      <th>1</th>\n",
              "      <td>4</td>\n",
              "      <td>0.000000</td>\n",
              "    </tr>\n",
              "    <tr>\n",
              "      <th>17</th>\n",
              "      <td>23</td>\n",
              "      <td>0.000000</td>\n",
              "    </tr>\n",
              "    <tr>\n",
              "      <th>11</th>\n",
              "      <td>17</td>\n",
              "      <td>0.000000</td>\n",
              "    </tr>\n",
              "    <tr>\n",
              "      <th>8</th>\n",
              "      <td>14</td>\n",
              "      <td>0.000000</td>\n",
              "    </tr>\n",
              "    <tr>\n",
              "      <th>45</th>\n",
              "      <td>52</td>\n",
              "      <td>0.000000</td>\n",
              "    </tr>\n",
              "  </tbody>\n",
              "</table>\n",
              "</div>"
            ],
            "text/plain": [
              "    number_vmail_messages     churn\n",
              "42                     48  0.500000\n",
              "38                     44  0.285714\n",
              "36                     42  0.235294\n",
              "35                     41  0.166667\n",
              "0                       0  0.164384\n",
              "23                     29  0.140351\n",
              "30                     36  0.129032\n",
              "27                     33  0.127273\n",
              "12                     18  0.125000\n",
              "22                     28  0.120690\n",
              "39                     45  0.100000\n",
              "20                     26  0.094340\n",
              "29                     35  0.088235\n",
              "32                     38  0.085714\n",
              "9                      15  0.083333\n",
              "28                     34  0.083333\n",
              "25                     31  0.072464\n",
              "14                     20  0.068966\n",
              "10                     16  0.066667\n",
              "26                     32  0.063830\n",
              "21                     27  0.055556\n",
              "16                     22  0.052632\n",
              "34                     40  0.045455\n",
              "19                     25  0.043478\n",
              "24                     30  0.042553\n",
              "13                     19  0.040000\n",
              "18                     24  0.035088\n",
              "31                     37  0.031250\n",
              "15                     21  0.028571\n",
              "33                     39  0.028571\n",
              "37                     43  0.000000\n",
              "41                     47  0.000000\n",
              "40                     46  0.000000\n",
              "2                       6  0.000000\n",
              "43                     49  0.000000\n",
              "44                     50  0.000000\n",
              "3                       8  0.000000\n",
              "6                      12  0.000000\n",
              "4                      10  0.000000\n",
              "5                      11  0.000000\n",
              "7                      13  0.000000\n",
              "1                       4  0.000000\n",
              "17                     23  0.000000\n",
              "11                     17  0.000000\n",
              "8                      14  0.000000\n",
              "45                     52  0.000000"
            ]
          },
          "metadata": {
            "tags": []
          },
          "execution_count": 18
        }
      ]
    },
    {
      "cell_type": "code",
      "metadata": {
        "colab": {
          "base_uri": "https://localhost:8080/",
          "height": 415
        },
        "id": "J1RmQU2Ky2Ev",
        "outputId": "6b1eb2ae-82f2-4296-ee70-6c5b040b88e2"
      },
      "source": [
        "#Thuộc tính total_day_calls\n",
        "\n",
        "df_train_temp[[\"total_day_calls\", \"churn\"]].groupby([\"total_day_calls\"], as_index = False).mean().sort_values(by = \"churn\", ascending = False)"
      ],
      "execution_count": null,
      "outputs": [
        {
          "output_type": "execute_result",
          "data": {
            "text/html": [
              "<div>\n",
              "<style scoped>\n",
              "    .dataframe tbody tr th:only-of-type {\n",
              "        vertical-align: middle;\n",
              "    }\n",
              "\n",
              "    .dataframe tbody tr th {\n",
              "        vertical-align: top;\n",
              "    }\n",
              "\n",
              "    .dataframe thead th {\n",
              "        text-align: right;\n",
              "    }\n",
              "</style>\n",
              "<table border=\"1\" class=\"dataframe\">\n",
              "  <thead>\n",
              "    <tr style=\"text-align: right;\">\n",
              "      <th></th>\n",
              "      <th>total_day_calls</th>\n",
              "      <th>churn</th>\n",
              "    </tr>\n",
              "  </thead>\n",
              "  <tbody>\n",
              "    <tr>\n",
              "      <th>119</th>\n",
              "      <td>165</td>\n",
              "      <td>1.0</td>\n",
              "    </tr>\n",
              "    <tr>\n",
              "      <th>6</th>\n",
              "      <td>42</td>\n",
              "      <td>1.0</td>\n",
              "    </tr>\n",
              "    <tr>\n",
              "      <th>115</th>\n",
              "      <td>156</td>\n",
              "      <td>1.0</td>\n",
              "    </tr>\n",
              "    <tr>\n",
              "      <th>118</th>\n",
              "      <td>160</td>\n",
              "      <td>0.5</td>\n",
              "    </tr>\n",
              "    <tr>\n",
              "      <th>7</th>\n",
              "      <td>44</td>\n",
              "      <td>0.5</td>\n",
              "    </tr>\n",
              "    <tr>\n",
              "      <th>...</th>\n",
              "      <td>...</td>\n",
              "      <td>...</td>\n",
              "    </tr>\n",
              "    <tr>\n",
              "      <th>17</th>\n",
              "      <td>54</td>\n",
              "      <td>0.0</td>\n",
              "    </tr>\n",
              "    <tr>\n",
              "      <th>101</th>\n",
              "      <td>138</td>\n",
              "      <td>0.0</td>\n",
              "    </tr>\n",
              "    <tr>\n",
              "      <th>4</th>\n",
              "      <td>36</td>\n",
              "      <td>0.0</td>\n",
              "    </tr>\n",
              "    <tr>\n",
              "      <th>1</th>\n",
              "      <td>30</td>\n",
              "      <td>0.0</td>\n",
              "    </tr>\n",
              "    <tr>\n",
              "      <th>5</th>\n",
              "      <td>40</td>\n",
              "      <td>0.0</td>\n",
              "    </tr>\n",
              "  </tbody>\n",
              "</table>\n",
              "<p>120 rows × 2 columns</p>\n",
              "</div>"
            ],
            "text/plain": [
              "     total_day_calls  churn\n",
              "119              165    1.0\n",
              "6                 42    1.0\n",
              "115              156    1.0\n",
              "118              160    0.5\n",
              "7                 44    0.5\n",
              "..               ...    ...\n",
              "17                54    0.0\n",
              "101              138    0.0\n",
              "4                 36    0.0\n",
              "1                 30    0.0\n",
              "5                 40    0.0\n",
              "\n",
              "[120 rows x 2 columns]"
            ]
          },
          "metadata": {
            "tags": []
          },
          "execution_count": 19
        }
      ]
    },
    {
      "cell_type": "code",
      "metadata": {
        "colab": {
          "base_uri": "https://localhost:8080/",
          "height": 415
        },
        "id": "X3fPBa20y2Qg",
        "outputId": "0461a769-e40d-4adb-e7f0-b8b32fab564a"
      },
      "source": [
        "#Thuộc tính total_eve_calls\n",
        "\n",
        "df_train_temp[[\"total_eve_calls\", \"churn\"]].groupby([\"total_eve_calls\"], as_index = False).mean().sort_values(by = \"churn\", ascending = False)"
      ],
      "execution_count": null,
      "outputs": [
        {
          "output_type": "execute_result",
          "data": {
            "text/html": [
              "<div>\n",
              "<style scoped>\n",
              "    .dataframe tbody tr th:only-of-type {\n",
              "        vertical-align: middle;\n",
              "    }\n",
              "\n",
              "    .dataframe tbody tr th {\n",
              "        vertical-align: top;\n",
              "    }\n",
              "\n",
              "    .dataframe thead th {\n",
              "        text-align: right;\n",
              "    }\n",
              "</style>\n",
              "<table border=\"1\" class=\"dataframe\">\n",
              "  <thead>\n",
              "    <tr style=\"text-align: right;\">\n",
              "      <th></th>\n",
              "      <th>total_eve_calls</th>\n",
              "      <th>churn</th>\n",
              "    </tr>\n",
              "  </thead>\n",
              "  <tbody>\n",
              "    <tr>\n",
              "      <th>120</th>\n",
              "      <td>168</td>\n",
              "      <td>1.000000</td>\n",
              "    </tr>\n",
              "    <tr>\n",
              "      <th>119</th>\n",
              "      <td>159</td>\n",
              "      <td>1.000000</td>\n",
              "    </tr>\n",
              "    <tr>\n",
              "      <th>112</th>\n",
              "      <td>151</td>\n",
              "      <td>0.666667</td>\n",
              "    </tr>\n",
              "    <tr>\n",
              "      <th>9</th>\n",
              "      <td>48</td>\n",
              "      <td>0.333333</td>\n",
              "    </tr>\n",
              "    <tr>\n",
              "      <th>28</th>\n",
              "      <td>67</td>\n",
              "      <td>0.333333</td>\n",
              "    </tr>\n",
              "    <tr>\n",
              "      <th>...</th>\n",
              "      <td>...</td>\n",
              "      <td>...</td>\n",
              "    </tr>\n",
              "    <tr>\n",
              "      <th>13</th>\n",
              "      <td>52</td>\n",
              "      <td>0.000000</td>\n",
              "    </tr>\n",
              "    <tr>\n",
              "      <th>18</th>\n",
              "      <td>57</td>\n",
              "      <td>0.000000</td>\n",
              "    </tr>\n",
              "    <tr>\n",
              "      <th>19</th>\n",
              "      <td>58</td>\n",
              "      <td>0.000000</td>\n",
              "    </tr>\n",
              "    <tr>\n",
              "      <th>20</th>\n",
              "      <td>59</td>\n",
              "      <td>0.000000</td>\n",
              "    </tr>\n",
              "    <tr>\n",
              "      <th>122</th>\n",
              "      <td>170</td>\n",
              "      <td>0.000000</td>\n",
              "    </tr>\n",
              "  </tbody>\n",
              "</table>\n",
              "<p>123 rows × 2 columns</p>\n",
              "</div>"
            ],
            "text/plain": [
              "     total_eve_calls     churn\n",
              "120              168  1.000000\n",
              "119              159  1.000000\n",
              "112              151  0.666667\n",
              "9                 48  0.333333\n",
              "28                67  0.333333\n",
              "..               ...       ...\n",
              "13                52  0.000000\n",
              "18                57  0.000000\n",
              "19                58  0.000000\n",
              "20                59  0.000000\n",
              "122              170  0.000000\n",
              "\n",
              "[123 rows x 2 columns]"
            ]
          },
          "metadata": {
            "tags": []
          },
          "execution_count": 20
        }
      ]
    },
    {
      "cell_type": "code",
      "metadata": {
        "colab": {
          "base_uri": "https://localhost:8080/",
          "height": 415
        },
        "id": "38cem-cIy3yb",
        "outputId": "05c63475-bf32-42fc-d0ea-2da4bcd8ce6b"
      },
      "source": [
        "#Thuộc tính total_night_calls\n",
        "\n",
        "df_train_temp[[\"total_night_calls\", \"churn\"]].groupby([\"total_night_calls\"], as_index = False).mean().sort_values(by = \"churn\", ascending = False)"
      ],
      "execution_count": null,
      "outputs": [
        {
          "output_type": "execute_result",
          "data": {
            "text/html": [
              "<div>\n",
              "<style scoped>\n",
              "    .dataframe tbody tr th:only-of-type {\n",
              "        vertical-align: middle;\n",
              "    }\n",
              "\n",
              "    .dataframe tbody tr th {\n",
              "        vertical-align: top;\n",
              "    }\n",
              "\n",
              "    .dataframe thead th {\n",
              "        text-align: right;\n",
              "    }\n",
              "</style>\n",
              "<table border=\"1\" class=\"dataframe\">\n",
              "  <thead>\n",
              "    <tr style=\"text-align: right;\">\n",
              "      <th></th>\n",
              "      <th>total_night_calls</th>\n",
              "      <th>churn</th>\n",
              "    </tr>\n",
              "  </thead>\n",
              "  <tbody>\n",
              "    <tr>\n",
              "      <th>114</th>\n",
              "      <td>152</td>\n",
              "      <td>0.500000</td>\n",
              "    </tr>\n",
              "    <tr>\n",
              "      <th>6</th>\n",
              "      <td>42</td>\n",
              "      <td>0.500000</td>\n",
              "    </tr>\n",
              "    <tr>\n",
              "      <th>120</th>\n",
              "      <td>158</td>\n",
              "      <td>0.500000</td>\n",
              "    </tr>\n",
              "    <tr>\n",
              "      <th>18</th>\n",
              "      <td>56</td>\n",
              "      <td>0.400000</td>\n",
              "    </tr>\n",
              "    <tr>\n",
              "      <th>113</th>\n",
              "      <td>151</td>\n",
              "      <td>0.333333</td>\n",
              "    </tr>\n",
              "    <tr>\n",
              "      <th>...</th>\n",
              "      <td>...</td>\n",
              "      <td>...</td>\n",
              "    </tr>\n",
              "    <tr>\n",
              "      <th>17</th>\n",
              "      <td>55</td>\n",
              "      <td>0.000000</td>\n",
              "    </tr>\n",
              "    <tr>\n",
              "      <th>1</th>\n",
              "      <td>33</td>\n",
              "      <td>0.000000</td>\n",
              "    </tr>\n",
              "    <tr>\n",
              "      <th>104</th>\n",
              "      <td>142</td>\n",
              "      <td>0.000000</td>\n",
              "    </tr>\n",
              "    <tr>\n",
              "      <th>106</th>\n",
              "      <td>144</td>\n",
              "      <td>0.000000</td>\n",
              "    </tr>\n",
              "    <tr>\n",
              "      <th>127</th>\n",
              "      <td>175</td>\n",
              "      <td>0.000000</td>\n",
              "    </tr>\n",
              "  </tbody>\n",
              "</table>\n",
              "<p>128 rows × 2 columns</p>\n",
              "</div>"
            ],
            "text/plain": [
              "     total_night_calls     churn\n",
              "114                152  0.500000\n",
              "6                   42  0.500000\n",
              "120                158  0.500000\n",
              "18                  56  0.400000\n",
              "113                151  0.333333\n",
              "..                 ...       ...\n",
              "17                  55  0.000000\n",
              "1                   33  0.000000\n",
              "104                142  0.000000\n",
              "106                144  0.000000\n",
              "127                175  0.000000\n",
              "\n",
              "[128 rows x 2 columns]"
            ]
          },
          "metadata": {
            "tags": []
          },
          "execution_count": 21
        }
      ]
    },
    {
      "cell_type": "code",
      "metadata": {
        "colab": {
          "base_uri": "https://localhost:8080/",
          "height": 693
        },
        "id": "6e06ve2my36J",
        "outputId": "a4529b93-dfe1-4469-ba2b-a6ab591563cb"
      },
      "source": [
        "#Thuộc tính total_intl_calls\n",
        "\n",
        "df_train_temp[[\"total_intl_calls\", \"churn\"]].groupby([\"total_intl_calls\"], as_index = False).mean().sort_values(by = \"churn\", ascending = False)"
      ],
      "execution_count": null,
      "outputs": [
        {
          "output_type": "execute_result",
          "data": {
            "text/html": [
              "<div>\n",
              "<style scoped>\n",
              "    .dataframe tbody tr th:only-of-type {\n",
              "        vertical-align: middle;\n",
              "    }\n",
              "\n",
              "    .dataframe tbody tr th {\n",
              "        vertical-align: top;\n",
              "    }\n",
              "\n",
              "    .dataframe thead th {\n",
              "        text-align: right;\n",
              "    }\n",
              "</style>\n",
              "<table border=\"1\" class=\"dataframe\">\n",
              "  <thead>\n",
              "    <tr style=\"text-align: right;\">\n",
              "      <th></th>\n",
              "      <th>total_intl_calls</th>\n",
              "      <th>churn</th>\n",
              "    </tr>\n",
              "  </thead>\n",
              "  <tbody>\n",
              "    <tr>\n",
              "      <th>20</th>\n",
              "      <td>20</td>\n",
              "      <td>1.000000</td>\n",
              "    </tr>\n",
              "    <tr>\n",
              "      <th>15</th>\n",
              "      <td>15</td>\n",
              "      <td>0.333333</td>\n",
              "    </tr>\n",
              "    <tr>\n",
              "      <th>18</th>\n",
              "      <td>18</td>\n",
              "      <td>0.250000</td>\n",
              "    </tr>\n",
              "    <tr>\n",
              "      <th>1</th>\n",
              "      <td>1</td>\n",
              "      <td>0.216814</td>\n",
              "    </tr>\n",
              "    <tr>\n",
              "      <th>11</th>\n",
              "      <td>11</td>\n",
              "      <td>0.210526</td>\n",
              "    </tr>\n",
              "    <tr>\n",
              "      <th>14</th>\n",
              "      <td>14</td>\n",
              "      <td>0.200000</td>\n",
              "    </tr>\n",
              "    <tr>\n",
              "      <th>2</th>\n",
              "      <td>2</td>\n",
              "      <td>0.192547</td>\n",
              "    </tr>\n",
              "    <tr>\n",
              "      <th>10</th>\n",
              "      <td>10</td>\n",
              "      <td>0.152542</td>\n",
              "    </tr>\n",
              "    <tr>\n",
              "      <th>7</th>\n",
              "      <td>7</td>\n",
              "      <td>0.136029</td>\n",
              "    </tr>\n",
              "    <tr>\n",
              "      <th>4</th>\n",
              "      <td>4</td>\n",
              "      <td>0.130818</td>\n",
              "    </tr>\n",
              "    <tr>\n",
              "      <th>6</th>\n",
              "      <td>6</td>\n",
              "      <td>0.127451</td>\n",
              "    </tr>\n",
              "    <tr>\n",
              "      <th>9</th>\n",
              "      <td>9</td>\n",
              "      <td>0.126984</td>\n",
              "    </tr>\n",
              "    <tr>\n",
              "      <th>3</th>\n",
              "      <td>3</td>\n",
              "      <td>0.122786</td>\n",
              "    </tr>\n",
              "    <tr>\n",
              "      <th>5</th>\n",
              "      <td>5</td>\n",
              "      <td>0.117057</td>\n",
              "    </tr>\n",
              "    <tr>\n",
              "      <th>12</th>\n",
              "      <td>12</td>\n",
              "      <td>0.111111</td>\n",
              "    </tr>\n",
              "    <tr>\n",
              "      <th>8</th>\n",
              "      <td>8</td>\n",
              "      <td>0.098039</td>\n",
              "    </tr>\n",
              "    <tr>\n",
              "      <th>13</th>\n",
              "      <td>13</td>\n",
              "      <td>0.062500</td>\n",
              "    </tr>\n",
              "    <tr>\n",
              "      <th>0</th>\n",
              "      <td>0</td>\n",
              "      <td>0.045455</td>\n",
              "    </tr>\n",
              "    <tr>\n",
              "      <th>16</th>\n",
              "      <td>16</td>\n",
              "      <td>0.000000</td>\n",
              "    </tr>\n",
              "    <tr>\n",
              "      <th>17</th>\n",
              "      <td>17</td>\n",
              "      <td>0.000000</td>\n",
              "    </tr>\n",
              "    <tr>\n",
              "      <th>19</th>\n",
              "      <td>19</td>\n",
              "      <td>0.000000</td>\n",
              "    </tr>\n",
              "  </tbody>\n",
              "</table>\n",
              "</div>"
            ],
            "text/plain": [
              "    total_intl_calls     churn\n",
              "20                20  1.000000\n",
              "15                15  0.333333\n",
              "18                18  0.250000\n",
              "1                  1  0.216814\n",
              "11                11  0.210526\n",
              "14                14  0.200000\n",
              "2                  2  0.192547\n",
              "10                10  0.152542\n",
              "7                  7  0.136029\n",
              "4                  4  0.130818\n",
              "6                  6  0.127451\n",
              "9                  9  0.126984\n",
              "3                  3  0.122786\n",
              "5                  5  0.117057\n",
              "12                12  0.111111\n",
              "8                  8  0.098039\n",
              "13                13  0.062500\n",
              "0                  0  0.045455\n",
              "16                16  0.000000\n",
              "17                17  0.000000\n",
              "19                19  0.000000"
            ]
          },
          "metadata": {
            "tags": []
          },
          "execution_count": 22
        }
      ]
    },
    {
      "cell_type": "code",
      "metadata": {
        "colab": {
          "base_uri": "https://localhost:8080/",
          "height": 355
        },
        "id": "X0XDRlF9y4BN",
        "outputId": "4ba42990-dc30-4b59-91cd-c1b9a8cb76c9"
      },
      "source": [
        "#Thuộc tính number_customer_service_calls\n",
        "\n",
        "df_train_temp[[\"number_customer_service_calls\", \"churn\"]].groupby([\"number_customer_service_calls\"], as_index = False).mean().sort_values(by = \"churn\", ascending = False)"
      ],
      "execution_count": null,
      "outputs": [
        {
          "output_type": "execute_result",
          "data": {
            "text/html": [
              "<div>\n",
              "<style scoped>\n",
              "    .dataframe tbody tr th:only-of-type {\n",
              "        vertical-align: middle;\n",
              "    }\n",
              "\n",
              "    .dataframe tbody tr th {\n",
              "        vertical-align: top;\n",
              "    }\n",
              "\n",
              "    .dataframe thead th {\n",
              "        text-align: right;\n",
              "    }\n",
              "</style>\n",
              "<table border=\"1\" class=\"dataframe\">\n",
              "  <thead>\n",
              "    <tr style=\"text-align: right;\">\n",
              "      <th></th>\n",
              "      <th>number_customer_service_calls</th>\n",
              "      <th>churn</th>\n",
              "    </tr>\n",
              "  </thead>\n",
              "  <tbody>\n",
              "    <tr>\n",
              "      <th>9</th>\n",
              "      <td>9</td>\n",
              "      <td>1.000000</td>\n",
              "    </tr>\n",
              "    <tr>\n",
              "      <th>6</th>\n",
              "      <td>6</td>\n",
              "      <td>0.678571</td>\n",
              "    </tr>\n",
              "    <tr>\n",
              "      <th>5</th>\n",
              "      <td>5</td>\n",
              "      <td>0.604938</td>\n",
              "    </tr>\n",
              "    <tr>\n",
              "      <th>7</th>\n",
              "      <td>7</td>\n",
              "      <td>0.538462</td>\n",
              "    </tr>\n",
              "    <tr>\n",
              "      <th>8</th>\n",
              "      <td>8</td>\n",
              "      <td>0.500000</td>\n",
              "    </tr>\n",
              "    <tr>\n",
              "      <th>4</th>\n",
              "      <td>4</td>\n",
              "      <td>0.440191</td>\n",
              "    </tr>\n",
              "    <tr>\n",
              "      <th>3</th>\n",
              "      <td>3</td>\n",
              "      <td>0.112903</td>\n",
              "    </tr>\n",
              "    <tr>\n",
              "      <th>0</th>\n",
              "      <td>0</td>\n",
              "      <td>0.109481</td>\n",
              "    </tr>\n",
              "    <tr>\n",
              "      <th>1</th>\n",
              "      <td>1</td>\n",
              "      <td>0.108924</td>\n",
              "    </tr>\n",
              "    <tr>\n",
              "      <th>2</th>\n",
              "      <td>2</td>\n",
              "      <td>0.107709</td>\n",
              "    </tr>\n",
              "  </tbody>\n",
              "</table>\n",
              "</div>"
            ],
            "text/plain": [
              "   number_customer_service_calls     churn\n",
              "9                              9  1.000000\n",
              "6                              6  0.678571\n",
              "5                              5  0.604938\n",
              "7                              7  0.538462\n",
              "8                              8  0.500000\n",
              "4                              4  0.440191\n",
              "3                              3  0.112903\n",
              "0                              0  0.109481\n",
              "1                              1  0.108924\n",
              "2                              2  0.107709"
            ]
          },
          "metadata": {
            "tags": []
          },
          "execution_count": 23
        }
      ]
    },
    {
      "cell_type": "markdown",
      "metadata": {
        "id": "bHkxHjTN0aMH"
      },
      "source": [
        "## III. Trực quan hóa tập dữ liệu\n",
        "---\n",
        "Phân tích tập dữ liệu train sử dụng phương pháp trực quan hóa dữ liệu, ta thu được những kết quả sau:"
      ]
    },
    {
      "cell_type": "code",
      "metadata": {
        "id": "N2--Weyc0w1L",
        "colab": {
          "base_uri": "https://localhost:8080/",
          "height": 283
        },
        "outputId": "c9f232e7-2d77-4109-ef89-c5eadccaba27"
      },
      "source": [
        "#Biểu đồ tần suất theo số tháng sử dụng của dataset\n",
        "\n",
        "plt.figure()\n",
        "df_train[[\"account_length\"]].plot.hist(bins = 25)\n",
        "plt.grid()"
      ],
      "execution_count": null,
      "outputs": [
        {
          "output_type": "display_data",
          "data": {
            "text/plain": [
              "<Figure size 432x288 with 0 Axes>"
            ]
          },
          "metadata": {
            "tags": []
          }
        },
        {
          "output_type": "display_data",
          "data": {
            "image/png": "[encoded data removed]",
            "text/plain": [
              "<Figure size 432x288 with 1 Axes>"
            ]
          },
          "metadata": {
            "tags": [],
            "needs_background": "light"
          }
        }
      ]
    },
    {
      "cell_type": "code",
      "metadata": {
        "colab": {
          "base_uri": "https://localhost:8080/",
          "height": 307
        },
        "id": "dw5uMpR3MAhT",
        "outputId": "f0613736-4a85-4518-f42f-bca4ddde1d47"
      },
      "source": [
        "acc_len = df_train_temp[[\"account_length\",\"churn\"]].dropna().astype(int)\n",
        "acc_len = acc_len.groupby([\"account_length\"]).sum().sort_values(by = \"account_length\", ascending = True)\n",
        "acc_len.plot.bar()"
      ],
      "execution_count": null,
      "outputs": [
        {
          "output_type": "execute_result",
          "data": {
            "text/plain": [
              "<matplotlib.axes._subplots.AxesSubplot at 0x7f687282d7d0>"
            ]
          },
          "metadata": {
            "tags": []
          },
          "execution_count": 25
        },
        {
          "output_type": "display_data",
          "data": {
            "image/png": "[encoded data removed]",
            "text/plain": [
              "<Figure size 432x288 with 1 Axes>"
            ]
          },
          "metadata": {
            "tags": [],
            "needs_background": "light"
          }
        }
      ]
    },
    {
      "cell_type": "code",
      "metadata": {
        "colab": {
          "base_uri": "https://localhost:8080/",
          "height": 243
        },
        "id": "V1f73TzAYNWc",
        "outputId": "4cb08474-fc50-45ac-9eb1-5180bc072e1e"
      },
      "source": [
        "acc_length_grid = sns.FacetGrid(df_train, col = \"churn\")\n",
        "acc_length_grid.map(plt.hist, \"account_length\", bins = 40)"
      ],
      "execution_count": null,
      "outputs": [
        {
          "output_type": "execute_result",
          "data": {
            "text/plain": [
              "<seaborn.axisgrid.FacetGrid at 0x7f6872819b50>"
            ]
          },
          "metadata": {
            "tags": []
          },
          "execution_count": 26
        },
        {
          "output_type": "display_data",
          "data": {
            "image/png": "[encoded data removed]",
            "text/plain": [
              "<Figure size 432x216 with 2 Axes>"
            ]
          },
          "metadata": {
            "tags": [],
            "needs_background": "light"
          }
        }
      ]
    },
    {
      "cell_type": "markdown",
      "metadata": {
        "id": "xi7IsQQtP36g"
      },
      "source": [
        "**MỐI TƯƠNG QUAN GIỮA CÁC THUỘC TÍNH SỐ (account_length)**\n",
        " \n",
        "Quan sát dữ liệu:\n",
        " \n",
        "*   Phần lớn khách hàng đã sử dụng dịch vụ của nhà cung cấp trong khoảng thời gian từ 70 - 150 tháng.\n",
        "*   Những khách hàng nói trên đều chiếm phần lớn trong số những khách hàng đã chuyển sang nhà cung cấp viễn thông khác và số khách hàng vẫn đang sử dụng dịch vụ của nhà cung cấp hiện tại.\n",
        " \n",
        "Xem xét:\n",
        " \n",
        "*   Đưa thuộc tính account_length vào mô hình huấn luyện.\n",
        "*   Cân nhắc chia thời gian sử dụng dịch vụ ra thành từng khoảng."
      ]
    },
    {
      "cell_type": "code",
      "metadata": {
        "colab": {
          "base_uri": "https://localhost:8080/",
          "height": 243
        },
        "id": "V9AY-Ay3jI6h",
        "outputId": "2e0dc5aa-9ea6-4a6e-fc4e-a24ad26eb2d8"
      },
      "source": [
        "cust_serv_grid = sns.FacetGrid(df_train, col = \"churn\")\n",
        "cust_serv_grid.map(plt.hist, \"number_customer_service_calls\", bins = 18)"
      ],
      "execution_count": null,
      "outputs": [
        {
          "output_type": "execute_result",
          "data": {
            "text/plain": [
              "<seaborn.axisgrid.FacetGrid at 0x7f68699ab4d0>"
            ]
          },
          "metadata": {
            "tags": []
          },
          "execution_count": 27
        },
        {
          "output_type": "display_data",
          "data": {
            "image/png": "[encoded data removed]",
            "text/plain": [
              "<Figure size 432x216 with 2 Axes>"
            ]
          },
          "metadata": {
            "tags": [],
            "needs_background": "light"
          }
        }
      ]
    },
    {
      "cell_type": "markdown",
      "metadata": {
        "id": "jHEkC3wvolQy"
      },
      "source": [
        "**MỐI TƯƠNG QUAN GIỮA CÁC THUỘC TÍNH SỐ (number_customer_service_calls)**\n",
        "\n",
        "Quan sát dữ liệu:\n",
        "\n",
        "*   Phần lớn khách hàng đã gọi dịch vụ chăm sóc khách hàng từ 0 - 4 lần.\n",
        "*   Trong số những khách hàng nói trên thì phần lớn đều không chuyển qua sử dụng dịch vụ nhà cung cấp khác.\n",
        "*   Đối với những khách hàng đã gọi cho dịch vụ chăm sóc khách hàng trên 4 lần, khoảng 50% đã chuyển qua sử dụng dịch vụ nhà cung cấp khác.\n",
        "\n",
        "Xem xét:\n",
        "\n",
        "*   Đưa thuộc tính number_customer_service_calls vào mô hình huấn luyện.\n",
        "\n"
      ]
    },
    {
      "cell_type": "code",
      "metadata": {
        "colab": {
          "base_uri": "https://localhost:8080/",
          "height": 297
        },
        "id": "_jx_QU4SEFDH",
        "outputId": "5744070b-83d1-48b9-f7b1-0743aed2ec4a"
      },
      "source": [
        "sns.scatterplot(hue = \"churn\", x = \"total_day_minutes\", y = \"total_day_charge\", data = df_train)"
      ],
      "execution_count": null,
      "outputs": [
        {
          "output_type": "execute_result",
          "data": {
            "text/plain": [
              "<matplotlib.axes._subplots.AxesSubplot at 0x7f6869a9eb50>"
            ]
          },
          "metadata": {
            "tags": []
          },
          "execution_count": 28
        },
        {
          "output_type": "display_data",
          "data": {
            "image/png": "[encoded data removed]",
            "text/plain": [
              "<Figure size 432x288 with 1 Axes>"
            ]
          },
          "metadata": {
            "tags": [],
            "needs_background": "light"
          }
        }
      ]
    },
    {
      "cell_type": "code",
      "metadata": {
        "colab": {
          "base_uri": "https://localhost:8080/",
          "height": 297
        },
        "id": "wpSSRYslEfFD",
        "outputId": "ffd4a679-c8d4-4b68-f01c-4fc5ec192e6d"
      },
      "source": [
        "sns.scatterplot(hue = \"churn\", x = \"total_eve_minutes\", y = \"total_eve_charge\", data = df_train)"
      ],
      "execution_count": null,
      "outputs": [
        {
          "output_type": "execute_result",
          "data": {
            "text/plain": [
              "<matplotlib.axes._subplots.AxesSubplot at 0x7f6869857890>"
            ]
          },
          "metadata": {
            "tags": []
          },
          "execution_count": 29
        },
        {
          "output_type": "display_data",
          "data": {
            "image/png": "[encoded data removed]",
            "text/plain": [
              "<Figure size 432x288 with 1 Axes>"
            ]
          },
          "metadata": {
            "tags": [],
            "needs_background": "light"
          }
        }
      ]
    },
    {
      "cell_type": "code",
      "metadata": {
        "colab": {
          "base_uri": "https://localhost:8080/",
          "height": 297
        },
        "id": "CdCSELnEEgWM",
        "outputId": "2492bcb2-296b-4ceb-e369-f56fb2ec74b2"
      },
      "source": [
        "sns.scatterplot(hue = \"churn\", x = \"total_night_minutes\", y = \"total_night_charge\", data = df_train)"
      ],
      "execution_count": null,
      "outputs": [
        {
          "output_type": "execute_result",
          "data": {
            "text/plain": [
              "<matplotlib.axes._subplots.AxesSubplot at 0x7f6869822cd0>"
            ]
          },
          "metadata": {
            "tags": []
          },
          "execution_count": 30
        },
        {
          "output_type": "display_data",
          "data": {
            "image/png": "[encoded data removed]",
            "text/plain": [
              "<Figure size 432x288 with 1 Axes>"
            ]
          },
          "metadata": {
            "tags": [],
            "needs_background": "light"
          }
        }
      ]
    },
    {
      "cell_type": "code",
      "metadata": {
        "colab": {
          "base_uri": "https://localhost:8080/",
          "height": 297
        },
        "id": "57MhZQOwEhuR",
        "outputId": "b2cfe782-a850-4298-ed02-23014701d6e2"
      },
      "source": [
        "sns.scatterplot(hue = \"churn\", x = \"total_intl_minutes\", y = \"total_intl_charge\", data = df_train)"
      ],
      "execution_count": null,
      "outputs": [
        {
          "output_type": "execute_result",
          "data": {
            "text/plain": [
              "<matplotlib.axes._subplots.AxesSubplot at 0x7f6872d5bc10>"
            ]
          },
          "metadata": {
            "tags": []
          },
          "execution_count": 31
        },
        {
          "output_type": "display_data",
          "data": {
            "image/png": "[encoded data removed]",
            "text/plain": [
              "<Figure size 432x288 with 1 Axes>"
            ]
          },
          "metadata": {
            "tags": [],
            "needs_background": "light"
          }
        }
      ]
    },
    {
      "cell_type": "markdown",
      "metadata": {
        "id": "HMCuv2RtEZcx"
      },
      "source": [
        "**MỐI TƯƠNG QUAN GIỮA CÁC THUỘC TÍNH SỐ (total_XXX_minutes, total_XXX_charge)**\n",
        "\n",
        "Quan sát dữ liệu:\n",
        "\n",
        "*   Phần lớn khách hàng bỏ đi nằm sau trung vị (median - 50th percentile).\n",
        "*   Thuộc tính total_XXX_charge (cước phí) có thể được biểu diễn bằng một hàm tuyến tính có dạng total_XXX_charge = m * total_XXX_minute, với m là cước phí mỗi phút gọi.\n",
        "\n",
        "Xem xét:\n",
        "\n",
        "*   Chỉ cần sử dụng một trong hai thuộc tính total_XXX_charge hoặc total_XXX_minute trong mô hình huấn luyện. Để bám sát với thực tế hơn, ta sẽ sử dụng thuộc tính total_XXX_charge (cước phí).\n",
        "*   Cân nhắc chia các thuộc tính cước phí ra thành từng khoảng."
      ]
    },
    {
      "cell_type": "markdown",
      "metadata": {
        "id": "hXOtpVAOqtyj"
      },
      "source": [
        "## IV. Tiền xử lý dữ liệu\n",
        "---\n",
        "Cả tập train lẫn tập test đều không có giá trị null nên ta sẽ không cần đến bước xử lý dữ liệu mất mát."
      ]
    },
    {
      "cell_type": "markdown",
      "metadata": {
        "id": "U5DPYGtGq3NB"
      },
      "source": [
        "### 1) Loại bỏ các thuộc tính không dùng đến\n",
        "---\n",
        "Loại bỏ các thuộc tính sau: state, area_code, total_XXX_calls, total_XXX_minutes và number_vmail_messages"
      ]
    },
    {
      "cell_type": "code",
      "metadata": {
        "id": "v_ancnInvid-"
      },
      "source": [
        "#Loại bỏ thuộc tính tập train\n",
        "\n",
        "df_train_pp = df_train.drop([\"state\", \"area_code\", \"total_day_calls\",\n",
        "                             \"total_eve_calls\", \"total_night_calls\", \"total_intl_calls\",\n",
        "                             \"total_day_minutes\", \"total_eve_minutes\", \"total_night_minutes\",\n",
        "                             \"total_intl_minutes\", \"number_vmail_messages\"], axis = 1)"
      ],
      "execution_count": null,
      "outputs": []
    },
    {
      "cell_type": "code",
      "metadata": {
        "id": "eqNoeG_REnJy"
      },
      "source": [
        "#Loại bỏ thuộc tính tập test\n",
        "\n",
        "df_test_pp = df_test.drop([\"id\", \"state\", \"area_code\",\n",
        "                           \"total_day_calls\", \"total_eve_calls\", \"total_night_calls\",\n",
        "                           \"total_intl_calls\", \"total_day_minutes\", \"total_eve_minutes\",\n",
        "                           \"total_night_minutes\", \"total_intl_minutes\", \"number_vmail_messages\"], axis = 1)"
      ],
      "execution_count": null,
      "outputs": []
    },
    {
      "cell_type": "code",
      "metadata": {
        "colab": {
          "base_uri": "https://localhost:8080/"
        },
        "id": "4DzISw6BwIjC",
        "outputId": "6dc83172-a212-4553-b67e-cf1b87f6c0f1"
      },
      "source": [
        "#Liệt kê danh sách thuộc tính của df_train_pp\n",
        "\n",
        "df_train_pp.columns.values"
      ],
      "execution_count": null,
      "outputs": [
        {
          "output_type": "execute_result",
          "data": {
            "text/plain": [
              "array(['account_length', 'international_plan', 'voice_mail_plan',\n",
              "       'total_day_charge', 'total_eve_charge', 'total_night_charge',\n",
              "       'total_intl_charge', 'number_customer_service_calls', 'churn'],\n",
              "      dtype=object)"
            ]
          },
          "metadata": {
            "tags": []
          },
          "execution_count": 34
        }
      ]
    },
    {
      "cell_type": "code",
      "metadata": {
        "colab": {
          "base_uri": "https://localhost:8080/"
        },
        "id": "oIzTMEtuE2yC",
        "outputId": "0b0ca527-91b4-4f72-ffc7-d2a87f73dd70"
      },
      "source": [
        "#Liệt kê danh sách thuộc tính của df_test_pp\n",
        "\n",
        "df_test_pp.columns.values"
      ],
      "execution_count": null,
      "outputs": [
        {
          "output_type": "execute_result",
          "data": {
            "text/plain": [
              "array(['account_length', 'international_plan', 'voice_mail_plan',\n",
              "       'total_day_charge', 'total_eve_charge', 'total_night_charge',\n",
              "       'total_intl_charge', 'number_customer_service_calls'], dtype=object)"
            ]
          },
          "metadata": {
            "tags": []
          },
          "execution_count": 35
        }
      ]
    },
    {
      "cell_type": "markdown",
      "metadata": {
        "id": "n9FV89DUvFL9"
      },
      "source": [
        "### 2) Chuyển đổi dữ liệu thuộc tính dạng object thành dạng số\n",
        "---\n",
        "Chuyển đổi dữ liệu của 3 thuộc tính churn, international_plan và voice_mail_plan"
      ]
    },
    {
      "cell_type": "code",
      "metadata": {
        "id": "LNeBenmyrWnA"
      },
      "source": [
        "#Chuẩn hóa các thuộc tính dạng Classification (yes/no) về dạng số\n",
        "#0: no - 1: yes\n",
        "\n",
        "oe = pp.OrdinalEncoder()\n",
        "\n",
        "df_train_pp[[\"churn\", \"international_plan\", \"voice_mail_plan\"]] = oe.fit_transform(df_train_pp[[\"churn\", \"international_plan\", \"voice_mail_plan\"]]).astype(int)\n",
        "df_test_pp[[\"international_plan\", \"voice_mail_plan\"]] = oe.fit_transform(df_test_pp[[\"international_plan\", \"voice_mail_plan\"]]).astype(int)"
      ],
      "execution_count": null,
      "outputs": []
    },
    {
      "cell_type": "code",
      "metadata": {
        "colab": {
          "base_uri": "https://localhost:8080/",
          "height": 435
        },
        "id": "94XJBfsRrdGL",
        "outputId": "aba7c2e2-f2e9-48b5-b83f-00f798af8d70"
      },
      "source": [
        "df_train_pp"
      ],
      "execution_count": null,
      "outputs": [
        {
          "output_type": "execute_result",
          "data": {
            "text/html": [
              "<div>\n",
              "<style scoped>\n",
              "    .dataframe tbody tr th:only-of-type {\n",
              "        vertical-align: middle;\n",
              "    }\n",
              "\n",
              "    .dataframe tbody tr th {\n",
              "        vertical-align: top;\n",
              "    }\n",
              "\n",
              "    .dataframe thead th {\n",
              "        text-align: right;\n",
              "    }\n",
              "</style>\n",
              "<table border=\"1\" class=\"dataframe\">\n",
              "  <thead>\n",
              "    <tr style=\"text-align: right;\">\n",
              "      <th></th>\n",
              "      <th>account_length</th>\n",
              "      <th>international_plan</th>\n",
              "      <th>voice_mail_plan</th>\n",
              "      <th>total_day_charge</th>\n",
              "      <th>total_eve_charge</th>\n",
              "      <th>total_night_charge</th>\n",
              "      <th>total_intl_charge</th>\n",
              "      <th>number_customer_service_calls</th>\n",
              "      <th>churn</th>\n",
              "    </tr>\n",
              "  </thead>\n",
              "  <tbody>\n",
              "    <tr>\n",
              "      <th>0</th>\n",
              "      <td>107</td>\n",
              "      <td>0</td>\n",
              "      <td>1</td>\n",
              "      <td>27.47</td>\n",
              "      <td>16.62</td>\n",
              "      <td>11.45</td>\n",
              "      <td>3.70</td>\n",
              "      <td>1</td>\n",
              "      <td>0</td>\n",
              "    </tr>\n",
              "    <tr>\n",
              "      <th>1</th>\n",
              "      <td>137</td>\n",
              "      <td>0</td>\n",
              "      <td>0</td>\n",
              "      <td>41.38</td>\n",
              "      <td>10.30</td>\n",
              "      <td>7.32</td>\n",
              "      <td>3.29</td>\n",
              "      <td>0</td>\n",
              "      <td>0</td>\n",
              "    </tr>\n",
              "    <tr>\n",
              "      <th>2</th>\n",
              "      <td>84</td>\n",
              "      <td>1</td>\n",
              "      <td>0</td>\n",
              "      <td>50.90</td>\n",
              "      <td>5.26</td>\n",
              "      <td>8.86</td>\n",
              "      <td>1.78</td>\n",
              "      <td>2</td>\n",
              "      <td>0</td>\n",
              "    </tr>\n",
              "    <tr>\n",
              "      <th>3</th>\n",
              "      <td>75</td>\n",
              "      <td>1</td>\n",
              "      <td>0</td>\n",
              "      <td>28.34</td>\n",
              "      <td>12.61</td>\n",
              "      <td>8.41</td>\n",
              "      <td>2.73</td>\n",
              "      <td>3</td>\n",
              "      <td>0</td>\n",
              "    </tr>\n",
              "    <tr>\n",
              "      <th>4</th>\n",
              "      <td>121</td>\n",
              "      <td>0</td>\n",
              "      <td>1</td>\n",
              "      <td>37.09</td>\n",
              "      <td>29.62</td>\n",
              "      <td>9.57</td>\n",
              "      <td>2.03</td>\n",
              "      <td>3</td>\n",
              "      <td>0</td>\n",
              "    </tr>\n",
              "    <tr>\n",
              "      <th>...</th>\n",
              "      <td>...</td>\n",
              "      <td>...</td>\n",
              "      <td>...</td>\n",
              "      <td>...</td>\n",
              "      <td>...</td>\n",
              "      <td>...</td>\n",
              "      <td>...</td>\n",
              "      <td>...</td>\n",
              "      <td>...</td>\n",
              "    </tr>\n",
              "    <tr>\n",
              "      <th>4245</th>\n",
              "      <td>83</td>\n",
              "      <td>0</td>\n",
              "      <td>0</td>\n",
              "      <td>32.01</td>\n",
              "      <td>20.72</td>\n",
              "      <td>9.62</td>\n",
              "      <td>2.78</td>\n",
              "      <td>0</td>\n",
              "      <td>0</td>\n",
              "    </tr>\n",
              "    <tr>\n",
              "      <th>4246</th>\n",
              "      <td>73</td>\n",
              "      <td>0</td>\n",
              "      <td>0</td>\n",
              "      <td>30.24</td>\n",
              "      <td>11.15</td>\n",
              "      <td>8.38</td>\n",
              "      <td>3.11</td>\n",
              "      <td>3</td>\n",
              "      <td>0</td>\n",
              "    </tr>\n",
              "    <tr>\n",
              "      <th>4247</th>\n",
              "      <td>75</td>\n",
              "      <td>0</td>\n",
              "      <td>0</td>\n",
              "      <td>29.02</td>\n",
              "      <td>16.41</td>\n",
              "      <td>5.81</td>\n",
              "      <td>1.86</td>\n",
              "      <td>1</td>\n",
              "      <td>0</td>\n",
              "    </tr>\n",
              "    <tr>\n",
              "      <th>4248</th>\n",
              "      <td>50</td>\n",
              "      <td>0</td>\n",
              "      <td>1</td>\n",
              "      <td>40.07</td>\n",
              "      <td>18.96</td>\n",
              "      <td>13.39</td>\n",
              "      <td>2.67</td>\n",
              "      <td>2</td>\n",
              "      <td>0</td>\n",
              "    </tr>\n",
              "    <tr>\n",
              "      <th>4249</th>\n",
              "      <td>86</td>\n",
              "      <td>0</td>\n",
              "      <td>1</td>\n",
              "      <td>22.00</td>\n",
              "      <td>22.70</td>\n",
              "      <td>6.97</td>\n",
              "      <td>2.51</td>\n",
              "      <td>0</td>\n",
              "      <td>0</td>\n",
              "    </tr>\n",
              "  </tbody>\n",
              "</table>\n",
              "<p>4250 rows × 9 columns</p>\n",
              "</div>"
            ],
            "text/plain": [
              "      account_length  international_plan  ...  number_customer_service_calls  churn\n",
              "0                107                   0  ...                              1      0\n",
              "1                137                   0  ...                              0      0\n",
              "2                 84                   1  ...                              2      0\n",
              "3                 75                   1  ...                              3      0\n",
              "4                121                   0  ...                              3      0\n",
              "...              ...                 ...  ...                            ...    ...\n",
              "4245              83                   0  ...                              0      0\n",
              "4246              73                   0  ...                              3      0\n",
              "4247              75                   0  ...                              1      0\n",
              "4248              50                   0  ...                              2      0\n",
              "4249              86                   0  ...                              0      0\n",
              "\n",
              "[4250 rows x 9 columns]"
            ]
          },
          "metadata": {
            "tags": []
          },
          "execution_count": 37
        }
      ]
    },
    {
      "cell_type": "code",
      "metadata": {
        "colab": {
          "base_uri": "https://localhost:8080/",
          "height": 435
        },
        "id": "NIi56itZFb-4",
        "outputId": "b073f8f8-333e-4179-c3d4-cf222d57a57f"
      },
      "source": [
        "df_test_pp"
      ],
      "execution_count": null,
      "outputs": [
        {
          "output_type": "execute_result",
          "data": {
            "text/html": [
              "<div>\n",
              "<style scoped>\n",
              "    .dataframe tbody tr th:only-of-type {\n",
              "        vertical-align: middle;\n",
              "    }\n",
              "\n",
              "    .dataframe tbody tr th {\n",
              "        vertical-align: top;\n",
              "    }\n",
              "\n",
              "    .dataframe thead th {\n",
              "        text-align: right;\n",
              "    }\n",
              "</style>\n",
              "<table border=\"1\" class=\"dataframe\">\n",
              "  <thead>\n",
              "    <tr style=\"text-align: right;\">\n",
              "      <th></th>\n",
              "      <th>account_length</th>\n",
              "      <th>international_plan</th>\n",
              "      <th>voice_mail_plan</th>\n",
              "      <th>total_day_charge</th>\n",
              "      <th>total_eve_charge</th>\n",
              "      <th>total_night_charge</th>\n",
              "      <th>total_intl_charge</th>\n",
              "      <th>number_customer_service_calls</th>\n",
              "    </tr>\n",
              "  </thead>\n",
              "  <tbody>\n",
              "    <tr>\n",
              "      <th>0</th>\n",
              "      <td>128</td>\n",
              "      <td>0</td>\n",
              "      <td>1</td>\n",
              "      <td>45.07</td>\n",
              "      <td>16.78</td>\n",
              "      <td>11.01</td>\n",
              "      <td>2.70</td>\n",
              "      <td>1</td>\n",
              "    </tr>\n",
              "    <tr>\n",
              "      <th>1</th>\n",
              "      <td>118</td>\n",
              "      <td>1</td>\n",
              "      <td>0</td>\n",
              "      <td>37.98</td>\n",
              "      <td>18.75</td>\n",
              "      <td>9.18</td>\n",
              "      <td>1.70</td>\n",
              "      <td>0</td>\n",
              "    </tr>\n",
              "    <tr>\n",
              "      <th>2</th>\n",
              "      <td>62</td>\n",
              "      <td>0</td>\n",
              "      <td>0</td>\n",
              "      <td>20.52</td>\n",
              "      <td>26.11</td>\n",
              "      <td>9.14</td>\n",
              "      <td>3.54</td>\n",
              "      <td>4</td>\n",
              "    </tr>\n",
              "    <tr>\n",
              "      <th>3</th>\n",
              "      <td>93</td>\n",
              "      <td>0</td>\n",
              "      <td>0</td>\n",
              "      <td>32.42</td>\n",
              "      <td>18.55</td>\n",
              "      <td>5.83</td>\n",
              "      <td>2.19</td>\n",
              "      <td>3</td>\n",
              "    </tr>\n",
              "    <tr>\n",
              "      <th>4</th>\n",
              "      <td>174</td>\n",
              "      <td>0</td>\n",
              "      <td>0</td>\n",
              "      <td>21.13</td>\n",
              "      <td>23.55</td>\n",
              "      <td>11.28</td>\n",
              "      <td>4.19</td>\n",
              "      <td>3</td>\n",
              "    </tr>\n",
              "    <tr>\n",
              "      <th>...</th>\n",
              "      <td>...</td>\n",
              "      <td>...</td>\n",
              "      <td>...</td>\n",
              "      <td>...</td>\n",
              "      <td>...</td>\n",
              "      <td>...</td>\n",
              "      <td>...</td>\n",
              "      <td>...</td>\n",
              "    </tr>\n",
              "    <tr>\n",
              "      <th>745</th>\n",
              "      <td>130</td>\n",
              "      <td>0</td>\n",
              "      <td>0</td>\n",
              "      <td>20.30</td>\n",
              "      <td>19.24</td>\n",
              "      <td>9.12</td>\n",
              "      <td>3.05</td>\n",
              "      <td>0</td>\n",
              "    </tr>\n",
              "    <tr>\n",
              "      <th>746</th>\n",
              "      <td>73</td>\n",
              "      <td>0</td>\n",
              "      <td>0</td>\n",
              "      <td>30.12</td>\n",
              "      <td>22.99</td>\n",
              "      <td>10.88</td>\n",
              "      <td>3.32</td>\n",
              "      <td>3</td>\n",
              "    </tr>\n",
              "    <tr>\n",
              "      <th>747</th>\n",
              "      <td>152</td>\n",
              "      <td>0</td>\n",
              "      <td>0</td>\n",
              "      <td>31.31</td>\n",
              "      <td>21.83</td>\n",
              "      <td>9.61</td>\n",
              "      <td>3.97</td>\n",
              "      <td>3</td>\n",
              "    </tr>\n",
              "    <tr>\n",
              "      <th>748</th>\n",
              "      <td>61</td>\n",
              "      <td>0</td>\n",
              "      <td>0</td>\n",
              "      <td>23.90</td>\n",
              "      <td>14.69</td>\n",
              "      <td>9.56</td>\n",
              "      <td>3.67</td>\n",
              "      <td>1</td>\n",
              "    </tr>\n",
              "    <tr>\n",
              "      <th>749</th>\n",
              "      <td>109</td>\n",
              "      <td>0</td>\n",
              "      <td>0</td>\n",
              "      <td>32.10</td>\n",
              "      <td>14.59</td>\n",
              "      <td>10.10</td>\n",
              "      <td>2.30</td>\n",
              "      <td>0</td>\n",
              "    </tr>\n",
              "  </tbody>\n",
              "</table>\n",
              "<p>750 rows × 8 columns</p>\n",
              "</div>"
            ],
            "text/plain": [
              "     account_length  ...  number_customer_service_calls\n",
              "0               128  ...                              1\n",
              "1               118  ...                              0\n",
              "2                62  ...                              4\n",
              "3                93  ...                              3\n",
              "4               174  ...                              3\n",
              "..              ...  ...                            ...\n",
              "745             130  ...                              0\n",
              "746              73  ...                              3\n",
              "747             152  ...                              3\n",
              "748              61  ...                              1\n",
              "749             109  ...                              0\n",
              "\n",
              "[750 rows x 8 columns]"
            ]
          },
          "metadata": {
            "tags": []
          },
          "execution_count": 38
        }
      ]
    },
    {
      "cell_type": "code",
      "metadata": {
        "colab": {
          "base_uri": "https://localhost:8080/"
        },
        "id": "w70bdOF_46vO",
        "outputId": "cc2bb1c6-97e7-430a-f61b-16a5e203c9ef"
      },
      "source": [
        "df_train_pp.shape"
      ],
      "execution_count": null,
      "outputs": [
        {
          "output_type": "execute_result",
          "data": {
            "text/plain": [
              "(4250, 9)"
            ]
          },
          "metadata": {
            "tags": []
          },
          "execution_count": 39
        }
      ]
    },
    {
      "cell_type": "code",
      "metadata": {
        "colab": {
          "base_uri": "https://localhost:8080/"
        },
        "id": "mgLvhWfzGLuR",
        "outputId": "3d83b89b-4f9a-499a-9e5f-c1cbc4152f9d"
      },
      "source": [
        "df_test_pp.shape"
      ],
      "execution_count": null,
      "outputs": [
        {
          "output_type": "execute_result",
          "data": {
            "text/plain": [
              "(750, 8)"
            ]
          },
          "metadata": {
            "tags": []
          },
          "execution_count": 40
        }
      ]
    },
    {
      "cell_type": "markdown",
      "metadata": {
        "id": "bqj0cTiZkc03"
      },
      "source": [
        "### 3) Lưu dữ liệu sau khi xử lý vào file .csv\n",
        "---\n",
        "Lưu dữ liệu đã được chuẩn hóa vào file:\n",
        "\n",
        "*   Tập train: train_processed.csv\n",
        "*   Tập test: test_processed.csv\n",
        "\n"
      ]
    },
    {
      "cell_type": "code",
      "metadata": {
        "id": "jl7vA8L0ldUP"
      },
      "source": [
        "#Lưu dataset train và test đã xử lý vào 2 file thuộc folder của project\n",
        "\n",
        "df_train_pp.to_csv(\"/content/gdrive/My Drive/Colab Notebooks/Customer Churn Prediction/train_processed.csv\", index = False)\n",
        "\n",
        "df_test_pp.to_csv(\"/content/gdrive/My Drive/Colab Notebooks/Customer Churn Prediction/test_processed.csv\", index = False)"
      ],
      "execution_count": null,
      "outputs": []
    },
    {
      "cell_type": "markdown",
      "metadata": {
        "id": "0q9ZJ9lY39f8"
      },
      "source": [
        "## V. Xây dựng Machine Learning Model bằng sci-kit learn\n",
        "---"
      ]
    },
    {
      "cell_type": "markdown",
      "metadata": {
        "id": "T_e2HpEW4HAz"
      },
      "source": [
        "### 1) Chuẩn bị dữ liệu\n",
        "---\n",
        "Tập dữ liệu huấn luyện model bao gồm:\n",
        "\n",
        "*   Tập X_train: bao gồm 8 thuộc tính sau: account_length, international_plan, voice_mail_plan, total_day_charge, total_eve_charge, total_night_charge, total_intl_charge, number_customer_service_calls\n",
        "*   Tập Y_train: thuộc tính churn\n",
        "\n",
        "Tập dữ liệu kiểm thử: tập X_test, cũng bao gồm 8 thuộc tính như tập X_train."
      ]
    },
    {
      "cell_type": "code",
      "metadata": {
        "id": "Xz9dVjXHmCap"
      },
      "source": [
        "#Tải các dataset train và test đã qua xử lý từ Drive\n",
        "\n",
        "train_dataset = pd.read_csv(\"/content/gdrive/My Drive/Colab Notebooks/Customer Churn Prediction/train_processed.csv\")\n",
        "\n",
        "test_dataset = pd.read_csv(\"/content/gdrive/My Drive/Colab Notebooks/Customer Churn Prediction/test_processed.csv\")"
      ],
      "execution_count": null,
      "outputs": []
    },
    {
      "cell_type": "code",
      "metadata": {
        "id": "telJW4DFImiX"
      },
      "source": [
        "X_train = train_dataset.drop(\"churn\", axis = 1)\n",
        "Y_train = train_dataset[\"churn\"]\n",
        "\n",
        "X_test = test_dataset"
      ],
      "execution_count": null,
      "outputs": []
    },
    {
      "cell_type": "markdown",
      "metadata": {
        "id": "bEaySddLKlUl"
      },
      "source": [
        "### 2) Sử dụng các model Machine Learning để giải quyết bài toán\n",
        "---\n",
        "Những model sẽ được sử dụng: K-Nearest Neighbors, Random Forest, Decision Tree, Support Vector Machines, Logistic Regression, Gaussian Process, Naive Bayes và Multi-layer Perceptron."
      ]
    },
    {
      "cell_type": "markdown",
      "metadata": {
        "id": "lWlPoO9qMb5h"
      },
      "source": [
        "#### a) K-Nearest Neighbors\n",
        "---"
      ]
    },
    {
      "cell_type": "code",
      "metadata": {
        "colab": {
          "base_uri": "https://localhost:8080/"
        },
        "id": "XMaCip9kMZD3",
        "outputId": "4f2ed43d-b034-4c17-b2c4-f2bf49861a20"
      },
      "source": [
        "from sklearn.neighbors import KNeighborsClassifier\n",
        "\n",
        "knn = KNeighborsClassifier(n_neighbors = 5)\n",
        "\n",
        "#Huấn luyện mô hình với tập dữ liệu train\n",
        "knn.fit(X_train, Y_train)"
      ],
      "execution_count": null,
      "outputs": [
        {
          "output_type": "execute_result",
          "data": {
            "text/plain": [
              "KNeighborsClassifier(algorithm='auto', leaf_size=30, metric='minkowski',\n",
              "                     metric_params=None, n_jobs=None, n_neighbors=5, p=2,\n",
              "                     weights='uniform')"
            ]
          },
          "metadata": {
            "tags": []
          },
          "execution_count": 44
        }
      ]
    },
    {
      "cell_type": "code",
      "metadata": {
        "colab": {
          "base_uri": "https://localhost:8080/"
        },
        "id": "2egkAWM0PSBi",
        "outputId": "e827cad7-e071-4417-843f-0747678aa39a"
      },
      "source": [
        "#Thực hiện dự đoán kết quả trên tập dữ liệu test\n",
        "Y_pred_knn = knn.predict(X_test)\n",
        "print(Y_pred_knn)"
      ],
      "execution_count": null,
      "outputs": [
        {
          "output_type": "stream",
          "text": [
            "[0 0 0 0 0 0 0 0 0 0 0 0 0 0 0 0 0 0 0 0 0 0 0 0 0 0 0 0 0 0 0 0 0 0 0 0 0\n",
            " 0 0 0 0 0 0 0 0 0 0 0 1 0 0 0 0 0 0 0 1 0 0 0 0 0 1 0 0 0 0 0 1 0 0 0 1 0\n",
            " 0 0 0 0 0 0 0 0 0 0 0 0 0 0 0 0 0 0 0 0 0 0 0 0 0 0 0 0 0 0 0 0 0 0 1 0 0\n",
            " 0 0 0 0 0 0 0 0 0 0 0 0 0 0 0 0 0 0 0 0 0 0 0 0 0 0 1 0 0 1 0 0 0 0 0 0 0\n",
            " 0 1 0 0 0 0 0 0 0 0 0 0 0 1 0 0 0 0 0 0 0 0 0 0 0 0 0 0 0 0 0 0 0 0 0 0 0\n",
            " 0 0 0 0 0 0 0 0 0 0 0 1 0 0 0 0 0 0 0 0 0 0 0 0 1 0 0 0 0 0 0 0 0 0 0 0 0\n",
            " 0 0 0 0 0 0 1 0 0 0 0 0 0 0 0 0 0 0 0 0 0 0 0 0 0 0 0 0 0 0 0 0 0 0 0 0 0\n",
            " 0 0 0 0 0 0 0 0 0 0 0 0 0 0 0 0 0 0 0 0 0 0 0 0 0 0 0 0 0 0 0 0 1 0 0 0 0\n",
            " 0 0 0 0 0 0 0 0 0 0 0 0 0 0 0 0 0 0 0 0 0 0 0 0 0 0 0 0 0 0 0 0 0 0 0 0 0\n",
            " 0 0 0 0 0 0 0 0 0 0 0 0 0 0 0 0 0 0 0 0 0 0 0 0 1 0 0 0 0 0 0 1 0 0 0 0 0\n",
            " 0 0 0 0 0 0 0 0 0 0 0 0 0 0 0 0 0 0 0 0 1 0 1 0 0 0 0 0 0 0 1 0 0 0 0 0 0\n",
            " 0 0 1 0 0 1 0 0 0 0 0 0 0 0 0 0 0 0 0 0 0 0 1 0 0 0 0 0 0 0 0 0 0 0 0 0 0\n",
            " 0 0 0 0 0 0 0 0 0 1 0 0 0 0 0 0 0 0 0 0 0 0 0 0 0 0 0 0 0 0 0 1 0 0 0 0 0\n",
            " 0 1 0 0 0 0 0 0 0 0 0 0 0 0 0 0 0 0 0 0 0 0 0 0 0 0 0 0 0 0 0 0 0 0 0 0 0\n",
            " 0 0 0 0 0 0 0 0 0 0 1 0 0 0 0 0 0 0 0 0 1 0 0 1 0 0 0 0 0 0 0 0 0 0 0 0 0\n",
            " 0 0 0 0 0 0 0 0 0 0 0 0 0 0 0 0 0 0 0 1 1 0 0 0 0 0 0 0 0 0 0 0 0 0 0 0 0\n",
            " 0 0 0 0 0 0 0 0 0 0 0 0 0 0 0 0 0 0 0 0 0 0 0 0 0 0 0 0 0 0 0 0 0 0 0 0 0\n",
            " 0 0 0 0 0 0 0 0 1 0 0 0 0 0 0 0 1 0 0 1 0 0 0 0 0 0 0 0 0 0 0 0 0 1 0 0 0\n",
            " 1 0 0 0 0 0 0 0 0 0 1 0 0 0 0 0 0 0 0 0 0 0 0 0 0 0 0 0 0 0 0 0 0 0 0 0 0\n",
            " 0 0 0 0 1 0 0 0 0 0 0 0 0 0 1 0 0 0 0 0 0 0 0 0 0 0 0 0 0 0 0 0 0 1 0 1 1\n",
            " 0 0 0 0 0 0 0 0 0 0]\n"
          ],
          "name": "stdout"
        }
      ]
    },
    {
      "cell_type": "code",
      "metadata": {
        "colab": {
          "base_uri": "https://localhost:8080/"
        },
        "id": "YAbRiqpfPg7s",
        "outputId": "8f680028-ccb1-473b-e5c5-4ce281a7920a"
      },
      "source": [
        "#Đánh giá độ chính xác của mô hình trên tập dữ liệu train\n",
        "acc_knn = round(knn.score(X_train, Y_train) * 100, 2)\n",
        "\n",
        "print(\"KNN model's accuracy: \", acc_knn, \"%\")\n",
        "print(\"KNN model's parameters: \\n\", knn)"
      ],
      "execution_count": null,
      "outputs": [
        {
          "output_type": "stream",
          "text": [
            "KNN model's accuracy:  90.14 %\n",
            "KNN model's parameters: \n",
            " KNeighborsClassifier(algorithm='auto', leaf_size=30, metric='minkowski',\n",
            "                     metric_params=None, n_jobs=None, n_neighbors=5, p=2,\n",
            "                     weights='uniform')\n"
          ],
          "name": "stdout"
        }
      ]
    },
    {
      "cell_type": "markdown",
      "metadata": {
        "id": "Eusp2rahQqwN"
      },
      "source": [
        "#### b) Random Forest\n",
        "---"
      ]
    },
    {
      "cell_type": "code",
      "metadata": {
        "colab": {
          "base_uri": "https://localhost:8080/"
        },
        "id": "xmM7tNZVVYfr",
        "outputId": "888bfd05-6411-44a5-87f8-b4a5e6d21045"
      },
      "source": [
        "from sklearn.ensemble import RandomForestClassifier\n",
        "\n",
        "# rdf = RandomForestClassifier(criterion = \"entropy\")\n",
        "rdf = RandomForestClassifier()\n",
        "\n",
        "#Huấn luyện mô hình với tập dữ liệu train\n",
        "rdf.fit(X_train, Y_train)"
      ],
      "execution_count": null,
      "outputs": [
        {
          "output_type": "execute_result",
          "data": {
            "text/plain": [
              "RandomForestClassifier(bootstrap=True, ccp_alpha=0.0, class_weight=None,\n",
              "                       criterion='gini', max_depth=None, max_features='auto',\n",
              "                       max_leaf_nodes=None, max_samples=None,\n",
              "                       min_impurity_decrease=0.0, min_impurity_split=None,\n",
              "                       min_samples_leaf=1, min_samples_split=2,\n",
              "                       min_weight_fraction_leaf=0.0, n_estimators=100,\n",
              "                       n_jobs=None, oob_score=False, random_state=None,\n",
              "                       verbose=0, warm_start=False)"
            ]
          },
          "metadata": {
            "tags": []
          },
          "execution_count": 47
        }
      ]
    },
    {
      "cell_type": "code",
      "metadata": {
        "colab": {
          "base_uri": "https://localhost:8080/"
        },
        "id": "ym2jkgP5WFwz",
        "outputId": "bed5557b-0e6f-46b1-aeae-a86329c2f50d"
      },
      "source": [
        "#Thực hiện dự đoán kết quả trên tập dữ liệu test\n",
        "Y_pred_rdf = rdf.predict(X_test)\n",
        "print(Y_pred_rdf)"
      ],
      "execution_count": null,
      "outputs": [
        {
          "output_type": "stream",
          "text": [
            "[0 0 1 0 0 0 0 0 0 1 1 0 0 0 0 0 0 0 0 0 0 0 0 0 0 0 1 0 0 0 0 0 0 0 0 0 0\n",
            " 1 0 0 0 0 0 0 0 0 0 0 0 0 1 0 0 0 0 0 0 0 1 0 0 0 1 0 0 0 0 0 1 0 0 0 1 0\n",
            " 0 0 0 0 0 0 0 0 0 0 0 0 0 0 0 0 0 1 0 1 0 0 0 0 0 1 0 0 0 0 1 0 0 0 1 0 0\n",
            " 0 0 0 0 0 0 0 1 0 0 1 0 0 0 0 0 0 1 0 0 0 0 0 0 0 0 0 0 0 0 0 0 0 0 0 0 0\n",
            " 0 1 0 0 0 0 0 0 0 0 0 0 0 1 0 0 0 0 0 0 0 0 0 0 0 0 0 0 1 0 0 0 0 0 0 1 0\n",
            " 0 1 0 0 0 0 0 0 0 0 0 1 0 0 1 1 0 1 0 0 0 0 0 0 0 0 0 1 0 0 0 0 0 0 0 0 0\n",
            " 0 0 0 0 0 1 0 0 0 0 1 0 0 0 0 0 0 0 0 1 0 0 0 0 0 0 0 0 1 0 0 1 0 0 0 0 0\n",
            " 0 0 0 0 0 0 0 0 0 1 0 0 0 0 0 0 1 0 0 0 0 0 0 0 0 0 0 0 0 0 0 0 1 0 0 0 0\n",
            " 0 0 0 0 0 0 0 0 0 0 0 0 0 0 0 0 0 0 0 0 0 0 1 0 0 0 0 1 0 0 0 0 0 0 0 1 0\n",
            " 0 0 0 0 0 0 0 0 0 0 0 0 0 0 0 0 0 0 0 0 0 0 1 0 1 0 0 1 1 0 0 0 1 0 0 0 0\n",
            " 0 0 0 0 0 0 0 0 0 0 1 0 0 0 0 0 0 0 0 0 1 0 0 0 0 0 0 0 0 1 0 0 0 0 0 0 0\n",
            " 0 0 1 0 0 1 0 0 0 1 1 0 0 0 0 0 0 0 0 1 0 0 0 1 0 0 0 0 0 0 0 0 0 0 0 0 0\n",
            " 1 0 0 0 0 0 0 0 0 1 1 0 0 0 0 0 0 0 0 0 0 0 0 0 0 0 0 0 0 0 0 0 0 0 0 0 0\n",
            " 0 0 0 0 0 0 0 0 1 0 0 1 0 1 0 0 0 0 0 0 0 0 0 0 0 0 0 0 0 0 0 0 0 0 0 0 0\n",
            " 0 0 0 0 0 0 0 0 1 0 0 0 0 0 0 0 0 0 0 0 0 0 0 0 0 0 0 0 0 0 0 0 0 0 0 0 0\n",
            " 0 0 0 0 0 0 0 1 0 1 0 0 0 0 0 0 1 0 0 1 1 0 0 0 0 0 0 0 0 0 0 0 0 0 0 0 0\n",
            " 0 0 0 1 0 1 0 0 0 0 0 0 0 0 0 0 0 0 0 1 0 0 0 0 0 0 0 0 0 0 0 0 0 0 0 0 0\n",
            " 0 0 0 0 0 0 1 0 1 0 0 0 0 0 0 0 1 0 1 0 0 1 0 0 0 0 0 0 1 0 0 0 0 1 0 0 0\n",
            " 0 0 0 0 0 0 0 0 0 0 0 0 0 0 0 0 0 0 0 0 0 0 0 0 0 0 0 0 0 0 0 0 0 0 0 0 0\n",
            " 0 0 0 0 1 0 0 0 0 1 0 0 0 0 0 0 1 0 0 0 0 0 0 0 0 0 0 0 0 0 0 0 0 1 0 1 0\n",
            " 0 0 0 0 0 0 0 0 0 0]\n"
          ],
          "name": "stdout"
        }
      ]
    },
    {
      "cell_type": "code",
      "metadata": {
        "colab": {
          "base_uri": "https://localhost:8080/"
        },
        "id": "9LVXfhl3W0m_",
        "outputId": "b05380fb-f5f4-428b-92d1-45021dd55c3d"
      },
      "source": [
        "#Đánh giá độ chính xác của mô hình trên tập dữ liệu train\n",
        "acc_rdf = round(rdf.score(X_train, Y_train) * 100, 2)\n",
        "\n",
        "print(\"Random Forest model's accuracy: \", acc_rdf, \"%\")\n",
        "print(\"Random Forest model's parameters: \\n\", rdf)"
      ],
      "execution_count": null,
      "outputs": [
        {
          "output_type": "stream",
          "text": [
            "Random Forest model's accuracy:  100.0 %\n",
            "Random Forest model's parameters: \n",
            " RandomForestClassifier(bootstrap=True, ccp_alpha=0.0, class_weight=None,\n",
            "                       criterion='gini', max_depth=None, max_features='auto',\n",
            "                       max_leaf_nodes=None, max_samples=None,\n",
            "                       min_impurity_decrease=0.0, min_impurity_split=None,\n",
            "                       min_samples_leaf=1, min_samples_split=2,\n",
            "                       min_weight_fraction_leaf=0.0, n_estimators=100,\n",
            "                       n_jobs=None, oob_score=False, random_state=None,\n",
            "                       verbose=0, warm_start=False)\n"
          ],
          "name": "stdout"
        }
      ]
    },
    {
      "cell_type": "markdown",
      "metadata": {
        "id": "VwpvU3KrXglY"
      },
      "source": [
        "#### c) Decision Tree\n",
        "---"
      ]
    },
    {
      "cell_type": "code",
      "metadata": {
        "colab": {
          "base_uri": "https://localhost:8080/"
        },
        "id": "699vehgWXkYj",
        "outputId": "f280bd33-903c-48ea-8a4c-df10d3386f90"
      },
      "source": [
        "from sklearn.tree import DecisionTreeClassifier\n",
        "\n",
        "de_tree = DecisionTreeClassifier()\n",
        "\n",
        "#Huấn luyện mô hình với tập dữ liệu train\n",
        "de_tree.fit(X_train, Y_train)"
      ],
      "execution_count": null,
      "outputs": [
        {
          "output_type": "execute_result",
          "data": {
            "text/plain": [
              "DecisionTreeClassifier(ccp_alpha=0.0, class_weight=None, criterion='gini',\n",
              "                       max_depth=None, max_features=None, max_leaf_nodes=None,\n",
              "                       min_impurity_decrease=0.0, min_impurity_split=None,\n",
              "                       min_samples_leaf=1, min_samples_split=2,\n",
              "                       min_weight_fraction_leaf=0.0, presort='deprecated',\n",
              "                       random_state=None, splitter='best')"
            ]
          },
          "metadata": {
            "tags": []
          },
          "execution_count": 50
        }
      ]
    },
    {
      "cell_type": "code",
      "metadata": {
        "colab": {
          "base_uri": "https://localhost:8080/"
        },
        "id": "XSClIXGRYnEL",
        "outputId": "c01c05b1-ea2f-4937-be07-a7317f935026"
      },
      "source": [
        "#Thực hiện dự đoán kết quả trên tập dữ liệu test\n",
        "Y_pred_de_tree = de_tree.predict(X_test)\n",
        "print(Y_pred_de_tree)"
      ],
      "execution_count": null,
      "outputs": [
        {
          "output_type": "stream",
          "text": [
            "[0 0 1 0 0 0 0 0 0 1 1 0 0 1 0 0 0 0 0 0 0 0 0 0 0 0 1 0 0 0 0 0 0 0 0 0 0\n",
            " 1 1 0 0 0 0 0 0 0 0 0 0 0 1 0 0 0 0 0 1 0 1 0 1 1 1 0 0 0 0 0 0 0 0 0 1 0\n",
            " 0 0 0 0 0 0 0 0 0 0 0 0 0 0 0 0 0 1 0 1 0 0 0 0 0 1 0 0 0 0 1 0 0 0 1 0 0\n",
            " 0 0 0 0 0 0 0 1 0 0 1 0 0 1 0 0 0 0 0 1 0 0 0 0 0 0 0 0 0 1 1 0 0 0 0 0 0\n",
            " 0 1 0 0 0 0 0 0 0 0 0 0 0 1 0 0 0 0 0 0 1 0 0 0 0 0 0 0 1 0 0 0 0 0 0 1 0\n",
            " 1 1 0 0 0 0 0 0 0 0 0 1 0 0 1 1 0 1 1 0 0 0 0 0 0 0 0 1 0 0 0 0 0 0 1 1 0\n",
            " 0 0 0 0 0 1 0 0 0 0 1 0 0 0 0 0 0 0 0 1 0 0 0 0 0 0 0 0 1 1 0 1 0 1 0 0 0\n",
            " 0 0 0 0 0 0 0 0 0 1 0 0 0 0 0 1 1 0 0 0 0 0 0 0 0 0 0 1 0 0 0 0 1 0 0 0 0\n",
            " 0 0 0 0 0 0 1 0 1 0 0 0 0 0 1 0 1 0 0 0 0 0 1 0 0 0 0 1 0 1 0 0 1 0 0 1 0\n",
            " 0 0 0 0 0 0 0 0 0 0 0 1 0 0 0 0 0 0 1 0 1 0 1 0 1 0 1 0 1 0 0 0 1 0 0 0 0\n",
            " 0 0 1 0 0 0 0 0 0 0 0 0 0 0 0 0 0 0 0 0 1 0 0 0 1 0 0 0 0 1 0 0 0 0 0 0 1\n",
            " 0 0 1 0 0 1 0 0 0 0 1 0 0 0 0 0 0 0 0 1 0 0 0 0 0 0 0 0 0 0 0 0 0 0 0 0 0\n",
            " 1 0 0 0 0 0 0 0 0 1 1 0 0 0 0 0 0 0 0 0 0 0 0 1 0 0 0 0 0 0 0 0 0 0 0 0 1\n",
            " 0 1 0 0 0 0 0 0 1 0 0 1 0 1 1 0 0 0 0 0 0 0 0 0 0 0 0 0 0 0 0 0 0 0 0 0 0\n",
            " 0 0 0 0 0 0 0 0 1 0 1 0 0 0 0 0 0 1 0 0 0 0 0 0 0 0 0 0 0 0 0 0 1 0 0 0 0\n",
            " 0 0 0 0 1 0 0 1 0 1 0 0 0 0 0 0 1 0 0 1 1 0 0 0 0 0 0 0 0 0 0 0 0 0 0 0 0\n",
            " 0 0 0 1 0 1 0 0 1 0 0 0 0 0 0 0 0 0 0 1 0 0 0 0 1 0 0 0 0 0 0 0 0 0 0 0 0\n",
            " 0 0 0 0 0 0 1 0 1 0 0 0 0 0 0 0 1 0 1 0 0 1 0 0 0 0 0 0 1 0 1 0 0 1 0 0 0\n",
            " 1 0 0 0 0 0 1 0 0 0 0 0 0 0 0 0 0 0 1 0 0 0 0 0 0 0 0 0 0 0 0 1 0 0 0 0 0\n",
            " 0 0 0 0 1 0 0 0 0 0 0 0 0 0 0 0 1 0 0 0 0 0 0 1 0 0 0 0 0 0 0 0 1 1 0 1 0\n",
            " 0 0 0 0 0 0 0 1 0 0]\n"
          ],
          "name": "stdout"
        }
      ]
    },
    {
      "cell_type": "code",
      "metadata": {
        "colab": {
          "base_uri": "https://localhost:8080/"
        },
        "id": "baL5Q8d8Yw2H",
        "outputId": "e83caa87-8f34-4815-f9d4-901729dc81bb"
      },
      "source": [
        "#Đánh giá độ chính xác của mô hình trên tập dữ liệu train\n",
        "acc_de_tree = round(de_tree.score(X_train, Y_train) * 100, 2)\n",
        "\n",
        "print(\"Decision Tree model's accuracy: \", acc_de_tree, \"%\")\n",
        "print(\"Decision Tree model's parameters: \\n\", de_tree)"
      ],
      "execution_count": null,
      "outputs": [
        {
          "output_type": "stream",
          "text": [
            "Decision Tree model's accuracy:  100.0 %\n",
            "Decision Tree model's parameters: \n",
            " DecisionTreeClassifier(ccp_alpha=0.0, class_weight=None, criterion='gini',\n",
            "                       max_depth=None, max_features=None, max_leaf_nodes=None,\n",
            "                       min_impurity_decrease=0.0, min_impurity_split=None,\n",
            "                       min_samples_leaf=1, min_samples_split=2,\n",
            "                       min_weight_fraction_leaf=0.0, presort='deprecated',\n",
            "                       random_state=None, splitter='best')\n"
          ],
          "name": "stdout"
        }
      ]
    },
    {
      "cell_type": "markdown",
      "metadata": {
        "id": "aig0fdpuZeMi"
      },
      "source": [
        "#### d) Support Vector Machine\n",
        "---"
      ]
    },
    {
      "cell_type": "code",
      "metadata": {
        "colab": {
          "base_uri": "https://localhost:8080/"
        },
        "id": "KwY47Z0tZo1Q",
        "outputId": "2a9dfdca-05d0-4503-b420-ce4cc7907b4c"
      },
      "source": [
        "from sklearn.svm import SVC\n",
        "\n",
        "svc = SVC(gamma = \"auto\")\n",
        "\n",
        "#Huấn luyện mô hình với tập dữ liệu train\n",
        "svc.fit(X_train, Y_train)"
      ],
      "execution_count": null,
      "outputs": [
        {
          "output_type": "execute_result",
          "data": {
            "text/plain": [
              "SVC(C=1.0, break_ties=False, cache_size=200, class_weight=None, coef0=0.0,\n",
              "    decision_function_shape='ovr', degree=3, gamma='auto', kernel='rbf',\n",
              "    max_iter=-1, probability=False, random_state=None, shrinking=True,\n",
              "    tol=0.001, verbose=False)"
            ]
          },
          "metadata": {
            "tags": []
          },
          "execution_count": 53
        }
      ]
    },
    {
      "cell_type": "code",
      "metadata": {
        "colab": {
          "base_uri": "https://localhost:8080/"
        },
        "id": "wLoacr-LZq_S",
        "outputId": "66fe7a7b-6f2b-4856-c387-25db7d82ebbc"
      },
      "source": [
        "#Thực hiện dự đoán kết quả trên tập dữ liệu test\n",
        "Y_pred_svc = svc.predict(X_test)\n",
        "print(Y_pred_svc)"
      ],
      "execution_count": null,
      "outputs": [
        {
          "output_type": "stream",
          "text": [
            "[0 0 0 0 0 0 0 0 0 0 0 0 0 0 0 0 0 0 0 0 0 0 0 0 0 0 0 0 0 0 0 0 0 0 0 0 0\n",
            " 0 0 0 0 0 0 0 0 0 0 0 0 0 0 0 0 0 0 0 0 0 0 0 0 0 0 0 0 0 0 0 0 0 0 0 1 0\n",
            " 0 0 0 0 0 0 0 0 0 0 0 0 0 0 0 0 0 0 0 0 0 0 0 0 0 0 0 0 0 0 0 0 0 0 0 0 0\n",
            " 0 0 0 0 0 0 0 0 0 0 0 0 0 0 0 0 0 0 0 0 0 0 0 0 0 0 0 0 0 0 0 0 0 0 0 0 0\n",
            " 0 0 0 0 0 0 0 0 0 0 0 0 0 0 0 0 0 0 0 0 0 0 0 0 0 0 0 0 0 0 0 0 0 0 0 0 0\n",
            " 0 0 0 0 0 0 0 0 0 0 0 0 0 0 0 0 0 0 0 0 0 0 0 0 1 0 0 0 0 0 0 0 0 0 0 0 0\n",
            " 0 0 0 0 0 0 0 0 0 0 0 0 0 0 0 0 0 0 0 0 0 0 0 0 0 0 0 0 0 0 0 0 0 0 0 0 0\n",
            " 0 0 0 0 0 0 0 0 0 0 0 0 0 0 0 0 0 0 0 0 0 0 0 0 0 0 0 0 0 0 0 0 0 0 0 0 0\n",
            " 0 0 0 0 0 0 0 0 0 0 0 0 0 0 0 0 0 0 0 0 0 0 0 0 0 0 0 0 0 0 0 0 0 0 0 0 0\n",
            " 0 0 0 0 0 0 0 0 0 0 0 0 0 0 0 0 0 0 0 0 0 0 0 0 0 0 0 0 0 0 0 0 0 0 0 0 0\n",
            " 0 0 0 0 0 0 0 0 0 0 0 0 0 0 0 0 0 0 0 0 0 0 1 0 0 0 0 0 0 0 0 0 0 0 0 0 0\n",
            " 0 0 0 0 0 0 0 0 0 0 0 0 0 0 0 0 0 0 0 0 0 0 1 0 0 0 0 0 0 0 0 0 0 0 0 0 0\n",
            " 0 0 0 0 0 0 0 0 0 0 0 0 0 0 0 0 0 0 0 0 0 0 0 0 0 0 0 0 0 0 0 1 0 0 0 0 0\n",
            " 0 0 0 0 0 0 0 0 0 0 0 0 0 0 0 0 0 0 0 0 0 0 0 0 0 0 0 0 0 0 0 0 0 0 0 0 0\n",
            " 0 0 0 0 0 0 0 0 0 0 1 0 0 0 0 0 0 0 0 0 0 0 0 0 0 0 0 0 0 0 0 0 0 0 0 0 0\n",
            " 0 0 0 0 0 0 0 0 0 0 0 0 0 0 0 0 0 0 0 0 0 0 0 0 0 0 0 0 0 0 0 0 0 0 0 0 0\n",
            " 0 0 0 0 0 0 0 0 0 0 0 0 0 0 0 0 0 0 0 0 0 0 0 0 0 0 0 0 0 0 0 0 0 0 0 0 0\n",
            " 0 0 0 0 0 0 0 0 1 0 0 0 0 0 0 0 0 0 0 0 0 0 0 0 0 0 0 0 0 0 0 0 0 0 0 0 0\n",
            " 0 0 0 0 0 0 0 0 0 0 0 0 0 0 0 0 0 0 0 0 0 0 0 0 0 0 0 0 0 0 0 0 0 0 0 0 0\n",
            " 0 0 0 0 0 0 0 0 0 0 0 0 0 0 0 0 0 0 0 0 0 0 0 0 0 0 0 0 0 0 0 0 0 0 0 1 0\n",
            " 0 0 0 0 0 0 0 0 0 0]\n"
          ],
          "name": "stdout"
        }
      ]
    },
    {
      "cell_type": "code",
      "metadata": {
        "colab": {
          "base_uri": "https://localhost:8080/"
        },
        "id": "14xyG--QZsRQ",
        "outputId": "7489c94b-496c-4d63-9431-a3ba94253b58"
      },
      "source": [
        "#Đánh giá độ chính xác của mô hình trên tập dữ liệu train\n",
        "acc_svc = round(svc.score(X_train, Y_train) * 100, 2)\n",
        "\n",
        "print(\"Support Vector Machine model's accuracy: \", acc_svc, \"%\")\n",
        "print(\"Support Vector Machine model's parameters: \\n\", svc)"
      ],
      "execution_count": null,
      "outputs": [
        {
          "output_type": "stream",
          "text": [
            "Support Vector Machine model's accuracy:  96.96 %\n",
            "Support Vector Machine model's parameters: \n",
            " SVC(C=1.0, break_ties=False, cache_size=200, class_weight=None, coef0=0.0,\n",
            "    decision_function_shape='ovr', degree=3, gamma='auto', kernel='rbf',\n",
            "    max_iter=-1, probability=False, random_state=None, shrinking=True,\n",
            "    tol=0.001, verbose=False)\n"
          ],
          "name": "stdout"
        }
      ]
    },
    {
      "cell_type": "markdown",
      "metadata": {
        "id": "H1h9tIZJbmSy"
      },
      "source": [
        "#### e) Logistic Regression\n",
        "---"
      ]
    },
    {
      "cell_type": "code",
      "metadata": {
        "colab": {
          "base_uri": "https://localhost:8080/"
        },
        "id": "cmd6sMv1dLJ1",
        "outputId": "9aa420c8-46aa-4088-c2c9-25b3784809ff"
      },
      "source": [
        "from sklearn.linear_model import LogisticRegression\n",
        "\n",
        "# log_reg = LogisticRegression(max_iter = 1000, solver = \"saga\", multi_class = \"multinomial\")\n",
        "log_reg = LogisticRegression(max_iter = 500, multi_class = \"multinomial\")\n",
        "\n",
        "\n",
        "#Huấn luyện mô hình với tập train\n",
        "log_reg.fit(X_train,Y_train)"
      ],
      "execution_count": null,
      "outputs": [
        {
          "output_type": "execute_result",
          "data": {
            "text/plain": [
              "LogisticRegression(C=1.0, class_weight=None, dual=False, fit_intercept=True,\n",
              "                   intercept_scaling=1, l1_ratio=None, max_iter=500,\n",
              "                   multi_class='multinomial', n_jobs=None, penalty='l2',\n",
              "                   random_state=None, solver='lbfgs', tol=0.0001, verbose=0,\n",
              "                   warm_start=False)"
            ]
          },
          "metadata": {
            "tags": []
          },
          "execution_count": 56
        }
      ]
    },
    {
      "cell_type": "code",
      "metadata": {
        "colab": {
          "base_uri": "https://localhost:8080/"
        },
        "id": "P9UcqmR0d-lB",
        "outputId": "2e4ca015-d318-48ef-d131-0c413cad49b1"
      },
      "source": [
        "#Thực hiện dự đoán kết quả trên tập dữ liệu test\n",
        "Y_pred_log_reg = log_reg.predict(X_test)\n",
        "print(Y_pred_log_reg)"
      ],
      "execution_count": null,
      "outputs": [
        {
          "output_type": "stream",
          "text": [
            "[0 0 0 0 0 0 0 0 0 0 0 0 0 0 0 0 0 0 0 0 0 0 0 0 0 0 1 0 0 0 0 0 0 0 0 0 0\n",
            " 1 0 0 0 0 0 0 0 0 0 0 0 0 0 0 0 0 0 0 0 0 0 0 1 0 1 0 0 0 0 0 0 0 0 0 0 0\n",
            " 0 0 0 0 0 0 0 0 0 0 0 0 0 0 0 0 0 1 0 0 0 0 0 0 0 1 0 0 0 0 0 0 0 0 0 0 0\n",
            " 0 0 0 0 0 0 0 0 0 0 0 0 0 0 0 0 0 1 0 0 0 0 0 0 0 0 0 0 0 1 0 0 0 0 0 0 0\n",
            " 0 1 0 0 0 0 0 0 0 0 0 0 0 0 0 0 0 0 0 0 0 0 0 0 0 0 0 0 0 0 0 0 0 0 0 0 0\n",
            " 0 0 0 0 0 0 0 0 0 0 0 0 0 0 1 0 0 0 0 0 0 0 0 0 0 0 0 1 0 0 0 0 0 0 0 1 0\n",
            " 0 0 0 0 0 0 0 0 0 0 0 0 0 0 0 0 0 0 0 0 0 0 0 0 0 0 0 0 1 0 0 0 0 0 0 0 0\n",
            " 0 0 0 0 0 0 0 0 0 0 0 0 0 0 0 0 0 0 0 0 0 0 0 0 0 0 0 0 0 0 0 0 0 0 0 0 0\n",
            " 0 0 0 0 0 0 0 0 0 0 0 0 0 0 0 0 0 0 0 0 0 0 0 0 0 0 0 0 0 0 0 0 0 0 0 0 0\n",
            " 0 0 0 0 0 0 0 0 0 0 0 0 0 0 0 0 0 0 0 0 0 0 0 0 0 0 0 0 0 0 0 0 0 0 0 0 0\n",
            " 0 0 0 0 0 0 0 0 0 0 0 0 0 1 0 0 0 0 0 0 0 0 0 0 0 0 0 0 0 0 0 0 0 0 1 0 0\n",
            " 0 0 1 0 0 0 0 0 0 1 0 0 0 0 0 0 0 0 0 0 0 0 0 1 0 0 0 0 0 0 0 0 0 0 0 0 0\n",
            " 0 0 0 0 0 0 0 0 0 0 0 0 0 0 0 0 0 0 0 0 0 0 0 0 0 0 0 0 0 0 0 0 0 0 0 0 0\n",
            " 0 0 0 0 0 0 0 0 0 0 0 1 0 0 0 0 0 0 0 0 0 0 0 0 0 0 0 0 0 0 0 0 0 0 0 0 1\n",
            " 0 0 0 0 0 0 0 0 0 0 0 0 0 0 0 0 1 0 0 0 0 0 0 0 0 0 0 0 0 0 0 0 0 0 0 0 0\n",
            " 0 0 0 0 0 0 0 0 0 1 0 0 0 0 0 0 0 0 0 0 0 0 0 0 0 0 0 0 0 0 0 0 0 0 0 0 0\n",
            " 0 0 0 0 0 0 0 0 0 0 0 0 0 0 0 0 0 0 0 1 0 0 0 0 0 0 0 0 0 0 0 0 0 0 0 0 1\n",
            " 0 0 0 0 0 0 0 0 0 0 0 0 0 0 0 0 1 0 0 0 0 0 0 0 0 0 0 0 0 0 0 0 0 0 1 0 0\n",
            " 0 0 0 0 0 0 0 0 0 0 0 0 0 0 0 0 1 0 0 0 0 0 0 0 0 0 0 0 0 0 0 0 0 0 0 0 0\n",
            " 0 0 0 0 1 0 0 0 0 0 0 0 0 0 0 0 0 0 0 1 0 0 0 0 0 0 0 0 0 0 0 0 0 1 0 0 0\n",
            " 0 0 0 0 0 0 0 0 0 0]\n"
          ],
          "name": "stdout"
        }
      ]
    },
    {
      "cell_type": "code",
      "metadata": {
        "colab": {
          "base_uri": "https://localhost:8080/"
        },
        "id": "WqTxX1pqeD5E",
        "outputId": "3f490951-5dbd-4d97-f5b7-3a5798bd55c8"
      },
      "source": [
        "#Đánh giá độ chính xác của mô hình trên tập dữ liệu train\n",
        "acc_log_reg = round(log_reg.score(X_train, Y_train) * 100, 2)\n",
        "\n",
        "print(\"Logistic Regression model's accuracy: \", acc_log_reg, \"%\")\n",
        "print(\"Logistic Regression model's parameters: \\n\", log_reg)"
      ],
      "execution_count": null,
      "outputs": [
        {
          "output_type": "stream",
          "text": [
            "Logistic Regression model's accuracy:  86.78 %\n",
            "Logistic Regression model's parameters: \n",
            " LogisticRegression(C=1.0, class_weight=None, dual=False, fit_intercept=True,\n",
            "                   intercept_scaling=1, l1_ratio=None, max_iter=500,\n",
            "                   multi_class='multinomial', n_jobs=None, penalty='l2',\n",
            "                   random_state=None, solver='lbfgs', tol=0.0001, verbose=0,\n",
            "                   warm_start=False)\n"
          ],
          "name": "stdout"
        }
      ]
    },
    {
      "cell_type": "markdown",
      "metadata": {
        "id": "n7NywpSgbmf3"
      },
      "source": [
        "#### f) Gaussian Process\n",
        "---"
      ]
    },
    {
      "cell_type": "code",
      "metadata": {
        "colab": {
          "base_uri": "https://localhost:8080/"
        },
        "id": "WXiXJ2scg8EX",
        "outputId": "c424c094-3daa-4152-81b0-894b608f53f3"
      },
      "source": [
        "from sklearn.gaussian_process import GaussianProcessClassifier\n",
        "\n",
        "gpc = GaussianProcessClassifier()\n",
        "\n",
        "\n",
        "#Huấn luyện mô hình với tập dữ liệu train\n",
        "gpc.fit(X_train, Y_train)"
      ],
      "execution_count": null,
      "outputs": [
        {
          "output_type": "execute_result",
          "data": {
            "text/plain": [
              "GaussianProcessClassifier(copy_X_train=True, kernel=None, max_iter_predict=100,\n",
              "                          multi_class='one_vs_rest', n_jobs=None,\n",
              "                          n_restarts_optimizer=0, optimizer='fmin_l_bfgs_b',\n",
              "                          random_state=None, warm_start=False)"
            ]
          },
          "metadata": {
            "tags": []
          },
          "execution_count": 59
        }
      ]
    },
    {
      "cell_type": "code",
      "metadata": {
        "colab": {
          "base_uri": "https://localhost:8080/"
        },
        "id": "CrXlthSjhhQE",
        "outputId": "2d40983d-1353-4376-ce3a-bbd76aa90893"
      },
      "source": [
        "#Thực hiện dự đoán kết quả trên tập dữ liệu test\n",
        "Y_pred_gpc = gpc.predict(X_test)\n",
        "print(Y_pred_gpc)"
      ],
      "execution_count": null,
      "outputs": [
        {
          "output_type": "stream",
          "text": [
            "[0 0 0 0 0 0 0 0 0 1 0 0 0 0 0 0 0 0 0 0 0 0 0 0 0 0 1 0 0 0 0 0 0 0 0 0 0\n",
            " 0 0 0 0 0 0 0 0 0 0 0 1 0 0 0 0 0 0 0 1 0 0 0 0 0 1 0 0 1 0 0 1 0 0 0 1 0\n",
            " 0 0 0 0 0 0 1 0 0 0 0 0 0 0 0 0 0 0 0 0 0 0 0 0 0 0 0 1 0 0 0 0 0 0 1 0 0\n",
            " 0 0 0 0 0 0 0 0 1 0 0 0 0 0 0 0 0 0 0 0 0 0 0 0 0 0 1 0 0 0 0 0 0 0 0 0 0\n",
            " 0 0 0 0 0 0 0 0 0 0 0 0 1 0 0 0 0 0 1 0 0 1 1 0 1 0 0 0 0 0 0 0 0 0 0 0 0\n",
            " 0 1 0 1 1 1 0 0 0 0 0 0 0 1 0 0 0 1 0 0 0 0 0 0 1 0 0 0 0 0 0 0 0 0 0 0 0\n",
            " 0 0 0 0 0 0 0 0 0 0 0 0 0 0 0 0 0 0 0 0 0 0 0 0 0 0 0 0 1 0 0 0 0 0 0 0 0\n",
            " 0 0 0 0 0 0 0 0 0 0 0 0 0 0 0 0 1 0 0 0 0 0 0 0 0 0 0 0 0 0 1 0 1 0 0 0 0\n",
            " 0 0 0 0 0 0 1 0 0 0 0 1 0 0 0 0 0 0 0 0 0 0 0 0 0 0 0 0 0 0 0 0 0 0 0 0 0\n",
            " 0 0 0 0 0 0 0 0 0 0 1 0 1 0 0 0 0 0 0 0 0 0 0 0 0 0 1 0 0 0 0 1 1 0 0 0 0\n",
            " 0 0 0 0 0 0 0 0 0 0 0 0 0 0 0 0 0 0 0 0 1 0 1 0 0 0 0 0 0 0 0 0 0 0 0 0 0\n",
            " 0 0 1 0 0 1 0 0 0 1 0 0 0 0 0 0 0 0 0 0 0 0 1 0 0 0 0 1 0 0 0 0 0 0 0 0 0\n",
            " 0 0 0 0 0 0 0 0 0 1 0 0 0 0 0 0 0 0 0 0 0 0 0 0 0 0 1 0 0 0 0 1 0 0 0 0 0\n",
            " 1 1 0 0 0 0 0 0 1 0 0 0 0 0 0 0 0 0 0 0 0 1 0 0 0 0 0 0 0 0 0 0 0 0 0 0 0\n",
            " 0 0 0 0 0 0 0 0 0 0 1 0 0 0 0 0 0 0 0 0 1 0 0 1 0 0 0 0 0 0 0 0 0 0 0 0 0\n",
            " 0 0 0 1 0 0 0 0 0 0 1 0 0 0 0 0 1 0 0 1 1 0 0 0 0 0 0 0 0 0 0 0 0 0 0 0 0\n",
            " 0 0 0 0 0 0 0 0 0 0 0 0 0 0 0 0 0 0 0 0 0 0 0 0 0 0 0 0 0 0 0 0 0 0 0 0 1\n",
            " 0 0 0 0 0 0 0 0 1 1 0 0 0 0 0 1 1 0 0 1 0 0 0 0 0 0 0 0 0 0 1 0 0 1 0 0 0\n",
            " 1 0 0 0 0 0 0 0 0 0 0 0 0 0 0 0 0 0 0 0 0 0 0 0 0 0 0 0 0 1 0 0 0 0 0 0 0\n",
            " 0 0 0 0 1 0 0 0 0 0 0 0 0 0 1 0 1 0 0 0 0 0 0 0 0 0 0 0 0 0 0 0 0 1 0 1 0\n",
            " 0 0 0 0 0 0 1 1 0 0]\n"
          ],
          "name": "stdout"
        }
      ]
    },
    {
      "cell_type": "code",
      "metadata": {
        "colab": {
          "base_uri": "https://localhost:8080/"
        },
        "id": "3Vr_3GaQhjFA",
        "outputId": "f8fa0cbe-3bac-4d89-8d7f-01577a960acd"
      },
      "source": [
        "#Đánh giá độ chính xác của mô hình trên tập dữ liệu train\n",
        "acc_gpc = round(gpc.score(X_train, Y_train) * 100, 2)\n",
        "\n",
        "print(\"Gaussian Process model's accuracy: \", acc_gpc, \"%\")\n",
        "print(\"Gaussian Process model's parameters: \\n\", gpc)"
      ],
      "execution_count": null,
      "outputs": [
        {
          "output_type": "stream",
          "text": [
            "Gaussian Process model's accuracy:  100.0 %\n",
            "Gaussian Process model's parameters: \n",
            " GaussianProcessClassifier(copy_X_train=True, kernel=None, max_iter_predict=100,\n",
            "                          multi_class='one_vs_rest', n_jobs=None,\n",
            "                          n_restarts_optimizer=0, optimizer='fmin_l_bfgs_b',\n",
            "                          random_state=None, warm_start=False)\n"
          ],
          "name": "stdout"
        }
      ]
    },
    {
      "cell_type": "markdown",
      "metadata": {
        "id": "oFWceLAPbmo-"
      },
      "source": [
        "#### g) Naive Bayes\n",
        "---"
      ]
    },
    {
      "cell_type": "code",
      "metadata": {
        "colab": {
          "base_uri": "https://localhost:8080/"
        },
        "id": "W2xG8qiqgXAQ",
        "outputId": "70dd9596-74b7-4b42-c717-7ea50f2ba584"
      },
      "source": [
        "from sklearn.naive_bayes import GaussianNB\n",
        "\n",
        "gnb = GaussianNB()\n",
        "\n",
        "#Huấn luyện mô hình với tập dữ liệu train\n",
        "gnb.fit(X_train, Y_train)"
      ],
      "execution_count": null,
      "outputs": [
        {
          "output_type": "execute_result",
          "data": {
            "text/plain": [
              "GaussianNB(priors=None, var_smoothing=1e-09)"
            ]
          },
          "metadata": {
            "tags": []
          },
          "execution_count": 62
        }
      ]
    },
    {
      "cell_type": "code",
      "metadata": {
        "colab": {
          "base_uri": "https://localhost:8080/"
        },
        "id": "PxxUzzsEghZm",
        "outputId": "e8598fe2-1475-411d-8a84-a21b2b0ed4d9"
      },
      "source": [
        "#Thực hiện dự đoán kết quả trên tập dữ liệu test\n",
        "Y_pred_gnb = gnb.predict(X_test)\n",
        "print(Y_pred_gnb)"
      ],
      "execution_count": null,
      "outputs": [
        {
          "output_type": "stream",
          "text": [
            "[0 1 0 0 0 0 0 0 0 1 1 0 0 0 0 0 0 0 0 0 0 0 0 0 0 0 1 0 0 0 0 0 0 0 0 0 0\n",
            " 1 0 0 0 0 0 0 0 0 0 0 0 0 0 0 0 0 1 0 0 0 0 0 1 1 1 0 0 0 0 0 0 0 0 0 0 0\n",
            " 0 0 0 0 0 0 0 0 0 0 0 0 0 0 0 0 0 1 0 0 0 1 0 0 0 1 0 0 0 0 1 0 0 0 0 0 0\n",
            " 0 0 0 0 0 0 0 0 0 0 1 0 0 1 0 0 0 1 0 0 0 1 0 0 1 0 0 0 0 1 1 0 0 0 0 0 1\n",
            " 0 1 0 0 0 0 0 0 0 0 0 0 0 0 1 0 0 0 0 0 1 0 0 0 1 0 0 0 0 0 0 0 1 0 0 1 0\n",
            " 1 1 0 0 0 0 0 0 0 0 0 0 0 0 1 0 0 0 1 0 0 0 0 0 0 0 0 1 0 0 0 0 0 0 1 1 0\n",
            " 1 0 0 0 0 1 0 0 0 0 0 0 1 0 0 0 0 0 0 1 0 0 0 0 0 0 0 0 1 0 0 0 0 0 0 0 0\n",
            " 0 0 0 0 0 0 0 0 0 0 0 0 0 0 0 0 0 0 0 0 0 0 0 1 0 0 0 0 0 0 0 0 0 0 0 0 0\n",
            " 0 0 0 0 0 0 0 0 0 0 0 0 0 0 0 0 0 0 0 0 0 0 1 0 0 0 0 1 0 0 0 0 0 0 0 0 0\n",
            " 0 0 0 0 0 0 0 0 0 0 0 0 0 0 0 0 0 0 0 0 1 0 0 0 0 0 0 0 0 1 0 0 0 0 1 0 0\n",
            " 1 0 0 0 0 0 0 0 0 0 1 0 0 1 0 0 0 0 0 0 0 0 0 0 0 0 0 1 0 0 0 0 0 0 1 0 0\n",
            " 0 0 1 0 0 0 0 0 0 1 1 0 0 0 0 0 0 0 0 1 0 0 0 1 0 0 1 0 0 0 0 0 0 0 0 0 0\n",
            " 0 0 0 0 0 0 0 1 0 1 0 0 0 0 0 0 0 0 0 0 0 0 0 0 0 0 0 0 0 0 0 0 1 0 0 0 0\n",
            " 0 0 0 1 1 0 0 1 1 0 0 0 0 0 0 0 0 0 0 0 0 0 0 0 0 0 0 0 1 0 0 0 0 0 0 0 1\n",
            " 0 0 0 0 0 0 0 0 1 0 0 0 0 0 0 0 1 1 0 0 0 0 0 0 0 0 0 0 0 0 0 0 0 0 0 0 1\n",
            " 1 0 0 0 0 0 0 0 0 1 0 0 1 0 1 0 0 0 0 0 0 0 0 1 0 0 0 1 0 0 0 0 0 0 0 0 0\n",
            " 0 0 0 0 0 0 0 0 0 0 1 0 0 0 1 0 0 0 0 1 1 0 0 0 0 0 1 0 0 0 0 0 0 0 0 0 1\n",
            " 0 0 0 0 0 0 1 0 0 0 0 0 0 0 1 0 1 0 0 0 0 1 0 0 0 0 0 0 1 0 0 0 0 0 1 0 0\n",
            " 1 0 0 0 0 0 0 0 0 0 0 0 0 0 0 0 1 0 1 0 0 0 0 0 0 1 1 0 0 0 0 1 1 0 0 0 0\n",
            " 0 0 0 0 0 0 0 0 0 1 0 0 0 0 0 0 0 0 0 1 0 0 0 0 0 0 0 0 1 0 0 0 0 1 0 0 0\n",
            " 0 0 0 0 0 0 0 0 0 0]\n"
          ],
          "name": "stdout"
        }
      ]
    },
    {
      "cell_type": "code",
      "metadata": {
        "colab": {
          "base_uri": "https://localhost:8080/"
        },
        "id": "qWwE1dGkgnGd",
        "outputId": "def791a4-1688-4e38-c00c-b8af362e253f"
      },
      "source": [
        "#Đánh giá độ chính xác của mô hình trên tập dữ liệu train\n",
        "acc_gnb = round(gnb.score(X_train, Y_train) * 100, 2)\n",
        "\n",
        "print(\"Naive Bayes model's accuracy: \", acc_gnb, \"%\")\n",
        "print(\"Naive Bayes model's parameters: \\n\", gnb)"
      ],
      "execution_count": null,
      "outputs": [
        {
          "output_type": "stream",
          "text": [
            "Naive Bayes model's accuracy:  85.51 %\n",
            "Naive Bayes model's parameters: \n",
            " GaussianNB(priors=None, var_smoothing=1e-09)\n"
          ],
          "name": "stdout"
        }
      ]
    },
    {
      "cell_type": "markdown",
      "metadata": {
        "id": "qoEP7clriXho"
      },
      "source": [
        "#### h) Neural Network: Multi-layer Perceptron\n",
        "---"
      ]
    },
    {
      "cell_type": "code",
      "metadata": {
        "colab": {
          "base_uri": "https://localhost:8080/"
        },
        "id": "aTfmShHxijuR",
        "outputId": "9b1eef6b-7ede-47ad-9ce9-4bc848cc233a"
      },
      "source": [
        "from sklearn.neural_network import MLPClassifier\n",
        "\n",
        "mlpc = MLPClassifier(max_iter = 500)\n",
        "\n",
        "#Huấn luyện mô hình với tập dữ liệu train\n",
        "mlpc.fit(X_train, Y_train)"
      ],
      "execution_count": null,
      "outputs": [
        {
          "output_type": "execute_result",
          "data": {
            "text/plain": [
              "MLPClassifier(activation='relu', alpha=0.0001, batch_size='auto', beta_1=0.9,\n",
              "              beta_2=0.999, early_stopping=False, epsilon=1e-08,\n",
              "              hidden_layer_sizes=(100,), learning_rate='constant',\n",
              "              learning_rate_init=0.001, max_fun=15000, max_iter=500,\n",
              "              momentum=0.9, n_iter_no_change=10, nesterovs_momentum=True,\n",
              "              power_t=0.5, random_state=None, shuffle=True, solver='adam',\n",
              "              tol=0.0001, validation_fraction=0.1, verbose=False,\n",
              "              warm_start=False)"
            ]
          },
          "metadata": {
            "tags": []
          },
          "execution_count": 65
        }
      ]
    },
    {
      "cell_type": "code",
      "metadata": {
        "colab": {
          "base_uri": "https://localhost:8080/"
        },
        "id": "sxWo-h74i6zE",
        "outputId": "b578056d-905d-42ef-ca6b-dfccb20c1fd2"
      },
      "source": [
        "#Thực hiện dự đoán kết quả trên tập dữ liệu test\n",
        "Y_pred_mlpc = mlpc.predict(X_test)\n",
        "print(Y_pred_mlpc)"
      ],
      "execution_count": null,
      "outputs": [
        {
          "output_type": "stream",
          "text": [
            "[0 1 1 0 0 0 0 0 0 0 1 0 0 0 0 0 0 0 0 0 0 0 0 0 0 0 1 0 0 0 0 0 0 0 0 0 0\n",
            " 1 0 1 0 0 0 0 0 0 0 0 0 0 1 0 0 0 0 0 0 0 1 0 1 0 1 0 0 0 0 0 1 0 0 0 1 0\n",
            " 0 0 0 0 0 0 0 0 0 0 0 0 0 0 0 0 0 0 0 0 0 1 0 0 0 0 0 0 0 0 0 0 0 0 1 0 0\n",
            " 0 0 0 0 0 0 0 0 0 0 1 0 0 0 0 0 0 1 0 0 0 0 0 0 0 0 0 0 0 1 0 0 0 0 0 0 0\n",
            " 0 1 0 0 0 0 0 0 0 0 0 0 0 1 0 0 0 0 0 0 0 0 0 0 1 0 0 0 1 0 0 0 0 0 0 1 0\n",
            " 1 1 0 0 0 0 0 0 0 0 0 1 0 0 1 0 0 0 0 0 0 0 0 0 0 0 0 1 0 0 0 0 0 0 0 0 0\n",
            " 1 0 0 0 0 0 0 0 0 0 1 0 0 0 0 0 0 0 0 1 0 0 0 0 0 0 0 0 1 0 0 0 0 0 0 0 0\n",
            " 0 0 0 0 0 0 1 0 0 0 0 0 0 0 0 0 0 0 0 0 0 0 0 0 0 1 0 0 0 0 1 0 1 0 0 0 0\n",
            " 0 0 0 0 0 0 0 0 0 0 0 0 0 1 0 0 0 0 0 0 0 0 1 0 0 0 0 0 0 0 0 1 0 0 0 0 0\n",
            " 0 0 0 0 0 0 0 0 0 0 0 0 0 0 0 0 0 0 0 0 0 0 0 0 1 0 0 1 0 0 0 0 0 0 0 0 0\n",
            " 0 0 0 0 0 0 0 0 0 0 1 0 0 1 0 0 0 0 0 0 0 0 0 0 0 0 0 1 0 0 1 0 0 0 1 0 0\n",
            " 0 0 1 0 0 1 0 0 0 1 0 0 0 0 0 0 0 0 0 0 0 0 0 1 0 0 1 0 0 0 0 0 0 0 0 0 0\n",
            " 1 0 0 0 0 0 0 1 0 1 0 0 0 0 0 0 0 0 0 0 0 0 0 0 0 0 0 0 0 0 0 0 0 0 0 0 0\n",
            " 0 0 0 0 1 0 0 0 1 0 0 0 0 1 0 0 0 0 0 0 0 0 0 0 0 0 0 0 0 0 0 0 0 0 0 0 1\n",
            " 0 0 0 0 0 0 0 0 0 0 0 0 0 0 0 0 1 0 0 0 0 0 0 0 0 0 0 0 0 0 0 0 0 0 0 0 1\n",
            " 0 0 0 0 0 0 0 0 0 1 0 0 0 0 0 0 0 0 0 1 0 0 0 1 0 1 0 0 0 0 0 0 0 0 0 0 0\n",
            " 0 0 0 0 0 0 0 0 0 0 0 0 0 0 0 0 0 0 0 0 0 0 0 0 0 0 0 0 0 0 0 0 0 0 0 0 1\n",
            " 0 0 0 0 0 0 0 0 1 0 0 0 0 0 0 0 1 0 0 1 0 1 0 0 0 0 0 0 1 0 0 0 0 1 0 0 0\n",
            " 1 0 0 0 0 0 0 0 0 0 0 0 0 0 0 0 0 0 0 0 0 0 0 0 0 0 0 0 0 0 0 0 0 0 0 0 0\n",
            " 0 0 0 0 1 0 0 0 0 1 0 0 0 0 0 0 1 0 0 0 0 0 0 0 0 0 0 0 0 0 0 0 0 1 0 1 0\n",
            " 0 0 0 0 0 0 0 0 0 0]\n"
          ],
          "name": "stdout"
        }
      ]
    },
    {
      "cell_type": "code",
      "metadata": {
        "colab": {
          "base_uri": "https://localhost:8080/"
        },
        "id": "9Rj-HPAyjAiA",
        "outputId": "e1f20c77-7f52-4ea1-decd-d2fa6477fe0a"
      },
      "source": [
        "#Đánh giá độ chính xác của mô hình trên tập dữ liệu train\n",
        "acc_mlpc = round(mlpc.score(X_train, Y_train) * 100, 2)\n",
        "\n",
        "print(\"Multi-layer Perceptron model's accuracy: \", acc_mlpc, \"%\")\n",
        "print(\"Multi-layer Perceptron model's parameters: \\n\", mlpc)"
      ],
      "execution_count": null,
      "outputs": [
        {
          "output_type": "stream",
          "text": [
            "Multi-layer Perceptron model's accuracy:  90.99 %\n",
            "Multi-layer Perceptron model's parameters: \n",
            " MLPClassifier(activation='relu', alpha=0.0001, batch_size='auto', beta_1=0.9,\n",
            "              beta_2=0.999, early_stopping=False, epsilon=1e-08,\n",
            "              hidden_layer_sizes=(100,), learning_rate='constant',\n",
            "              learning_rate_init=0.001, max_fun=15000, max_iter=500,\n",
            "              momentum=0.9, n_iter_no_change=10, nesterovs_momentum=True,\n",
            "              power_t=0.5, random_state=None, shuffle=True, solver='adam',\n",
            "              tol=0.0001, validation_fraction=0.1, verbose=False,\n",
            "              warm_start=False)\n"
          ],
          "name": "stdout"
        }
      ]
    },
    {
      "cell_type": "markdown",
      "metadata": {
        "id": "3-8TDVFHocp1"
      },
      "source": [
        "## VI. Tổng hợp kết quả của các model\n",
        "---"
      ]
    },
    {
      "cell_type": "code",
      "metadata": {
        "id": "4QEA09M1ppMO"
      },
      "source": [
        "#Thống kê độ chính xác của các model\n",
        "\n",
        "#Tạo một dataframe lưu trữ tên, độ chính xác và tham số của từng của model\n",
        "models = pd.DataFrame({\n",
        "    \"Model\": [\"K-Nearest Neighbors\", \"Random Forest\", \"Decision Tree\",\n",
        "              \"Support Vector Machine\", \"Logistic Regression\", \"Gaussian Process\",\n",
        "              \"Naive Bayes\", \"Multi-layer Perceptron\"],\n",
        "    \"Score\": [acc_knn, acc_rdf, acc_de_tree, acc_svc, acc_log_reg, acc_gpc, acc_gnb, acc_mlpc],\n",
        "    \"Parameter\":[knn, rdf, de_tree, svc, log_reg, gpc, gnb, mlpc]})"
      ],
      "execution_count": null,
      "outputs": []
    },
    {
      "cell_type": "code",
      "metadata": {
        "colab": {
          "base_uri": "https://localhost:8080/",
          "height": 294
        },
        "id": "lytL4v6QsacA",
        "outputId": "c833e414-cfcf-45f4-b1ad-5fc0fd5b3eb9"
      },
      "source": [
        "#In dataframe tổng hợp kết quả của các model, sắp xếp theo thứ tự giảm dần của độ chính xác\n",
        "\n",
        "models_sorted = models.sort_values(by = \"Score\", ascending = False)\n",
        "models_sorted[\"Score\"] = models_sorted[\"Score\"].astype(str) + \"%\"\n",
        "\n",
        "models_sorted"
      ],
      "execution_count": null,
      "outputs": [
        {
          "output_type": "execute_result",
          "data": {
            "text/html": [
              "<div>\n",
              "<style scoped>\n",
              "    .dataframe tbody tr th:only-of-type {\n",
              "        vertical-align: middle;\n",
              "    }\n",
              "\n",
              "    .dataframe tbody tr th {\n",
              "        vertical-align: top;\n",
              "    }\n",
              "\n",
              "    .dataframe thead th {\n",
              "        text-align: right;\n",
              "    }\n",
              "</style>\n",
              "<table border=\"1\" class=\"dataframe\">\n",
              "  <thead>\n",
              "    <tr style=\"text-align: right;\">\n",
              "      <th></th>\n",
              "      <th>Model</th>\n",
              "      <th>Score</th>\n",
              "      <th>Parameter</th>\n",
              "    </tr>\n",
              "  </thead>\n",
              "  <tbody>\n",
              "    <tr>\n",
              "      <th>1</th>\n",
              "      <td>Random Forest</td>\n",
              "      <td>100.0%</td>\n",
              "      <td>(DecisionTreeClassifier(ccp_alpha=0.0, class_w...</td>\n",
              "    </tr>\n",
              "    <tr>\n",
              "      <th>2</th>\n",
              "      <td>Decision Tree</td>\n",
              "      <td>100.0%</td>\n",
              "      <td>DecisionTreeClassifier(ccp_alpha=0.0, class_we...</td>\n",
              "    </tr>\n",
              "    <tr>\n",
              "      <th>5</th>\n",
              "      <td>Gaussian Process</td>\n",
              "      <td>100.0%</td>\n",
              "      <td>GaussianProcessClassifier(copy_X_train=True, k...</td>\n",
              "    </tr>\n",
              "    <tr>\n",
              "      <th>3</th>\n",
              "      <td>Support Vector Machine</td>\n",
              "      <td>96.96%</td>\n",
              "      <td>SVC(C=1.0, break_ties=False, cache_size=200, c...</td>\n",
              "    </tr>\n",
              "    <tr>\n",
              "      <th>7</th>\n",
              "      <td>Multi-layer Perceptron</td>\n",
              "      <td>90.99%</td>\n",
              "      <td>MLPClassifier(activation='relu', alpha=0.0001,...</td>\n",
              "    </tr>\n",
              "    <tr>\n",
              "      <th>0</th>\n",
              "      <td>K-Nearest Neighbors</td>\n",
              "      <td>90.14%</td>\n",
              "      <td>KNeighborsClassifier(algorithm='auto', leaf_si...</td>\n",
              "    </tr>\n",
              "    <tr>\n",
              "      <th>4</th>\n",
              "      <td>Logistic Regression</td>\n",
              "      <td>86.78%</td>\n",
              "      <td>LogisticRegression(C=1.0, class_weight=None, d...</td>\n",
              "    </tr>\n",
              "    <tr>\n",
              "      <th>6</th>\n",
              "      <td>Naive Bayes</td>\n",
              "      <td>85.51%</td>\n",
              "      <td>GaussianNB(priors=None, var_smoothing=1e-09)</td>\n",
              "    </tr>\n",
              "  </tbody>\n",
              "</table>\n",
              "</div>"
            ],
            "text/plain": [
              "                    Model  ...                                          Parameter\n",
              "1           Random Forest  ...  (DecisionTreeClassifier(ccp_alpha=0.0, class_w...\n",
              "2           Decision Tree  ...  DecisionTreeClassifier(ccp_alpha=0.0, class_we...\n",
              "5        Gaussian Process  ...  GaussianProcessClassifier(copy_X_train=True, k...\n",
              "3  Support Vector Machine  ...  SVC(C=1.0, break_ties=False, cache_size=200, c...\n",
              "7  Multi-layer Perceptron  ...  MLPClassifier(activation='relu', alpha=0.0001,...\n",
              "0     K-Nearest Neighbors  ...  KNeighborsClassifier(algorithm='auto', leaf_si...\n",
              "4     Logistic Regression  ...  LogisticRegression(C=1.0, class_weight=None, d...\n",
              "6             Naive Bayes  ...       GaussianNB(priors=None, var_smoothing=1e-09)\n",
              "\n",
              "[8 rows x 3 columns]"
            ]
          },
          "metadata": {
            "tags": []
          },
          "execution_count": 252
        }
      ]
    },
    {
      "cell_type": "markdown",
      "metadata": {
        "id": "7O5evVL0rX-D"
      },
      "source": [
        "# **PHỤ LỤC:** GIẢI QUYẾT BÀI TOÁN SỬ DỤNG TẬP DỮ LIỆU ĐÃ PHÂN ĐOẠN GIÁ TRỊ CHO MỘT SỐ THUỘC TÍNH\n",
        "---\n",
        "Trong quá trình trực quan hóa dữ liệu, các thuộc tính sau đã được cân nhắc phân đoạn giá trị rồi chuẩn hóa để đưa vào các model nhưng nhóm đã đưa ra quyết định giữ nguyên giá trị của các thuộc tính ấy:\n",
        "\n",
        "*   account_length\n",
        "*   total_day_charge\n",
        "*   total_eve_charge\n",
        "*   total_night_charge\n",
        "*   total_intl_charge\n",
        "\n",
        "Trong phần phụ lục này, ta sẽ xử lý các thuộc tính trên bằng cách nhóm giá trị của từng thuộc tính theo từng khoảng rồi đưa chúng vào các model Machine Learning đã dùng ở trên để so sánh kết quả."
      ]
    },
    {
      "cell_type": "markdown",
      "metadata": {
        "id": "hBxO92LJx4zu"
      },
      "source": [
        "## I. Tải tập dữ liệu train - test\n",
        "---\n",
        "Ta sẽ sử dụng các file dữ liệu đã xử lý được trước đó."
      ]
    },
    {
      "cell_type": "code",
      "metadata": {
        "id": "UFpOmEHQyRgy"
      },
      "source": [
        "#Tải các tập dữ liệu train và test từ Drive\n",
        "\n",
        "df_train_alt = pd.read_csv(\"/content/gdrive/My Drive/Colab Notebooks/Customer Churn Prediction/train_processed.csv\")\n",
        "\n",
        "df_test_alt = pd.read_csv(\"/content/gdrive/My Drive/Colab Notebooks/Customer Churn Prediction/test_processed.csv\")"
      ],
      "execution_count": null,
      "outputs": []
    },
    {
      "cell_type": "markdown",
      "metadata": {
        "id": "ei_YOnESz5ZJ"
      },
      "source": [
        "## II. Tiền xử lý dữ liệu\n",
        "---\n",
        "Ta sẽ phân đoạn các thuộc tính account_length, total_day_charge, total_eve_charge, total_night_charge, total_intl_charge"
      ]
    },
    {
      "cell_type": "markdown",
      "metadata": {
        "id": "aybAQrMM1Iwo"
      },
      "source": [
        "### 1) Thuộc tính account_length\n",
        "---\n",
        "**Tập train:** chia ra thành 5 đoạn, và chuyển đổi giá trị tương ứng với từng đoạn:\n",
        "\n",
        "*   (0.999, 66]: 0\n",
        "*   (66, 90]: 1\n",
        "*   (90, 110]: 2\n",
        "*   (110, 134]: 3\n",
        "*   (134, 243]: 4\n",
        "\n",
        "**Tập test:** chia thành 5 đoạn, tương tự như tập train:\n",
        "\n",
        "*   (0.999, 68]: 0\n",
        "*   (68, 91]: 1\n",
        "*   (91, 111]: 2\n",
        "*   (111, 132]: 3\n",
        "*   (132, 238]: 4"
      ]
    },
    {
      "cell_type": "code",
      "metadata": {
        "colab": {
          "base_uri": "https://localhost:8080/"
        },
        "id": "DyWoa8bY1QwH",
        "outputId": "dab94bae-3376-4c87-b734-aaf79cb8bcf5"
      },
      "source": [
        "#Thống kê tổng quan của thuộc tính (tập train)\n",
        "\n",
        "df_train_alt[\"account_length\"].describe()"
      ],
      "execution_count": null,
      "outputs": [
        {
          "output_type": "execute_result",
          "data": {
            "text/plain": [
              "count    4250.000000\n",
              "mean      100.236235\n",
              "std        39.698401\n",
              "min         1.000000\n",
              "25%        73.000000\n",
              "50%       100.000000\n",
              "75%       127.000000\n",
              "max       243.000000\n",
              "Name: account_length, dtype: float64"
            ]
          },
          "metadata": {
            "tags": []
          },
          "execution_count": 71
        }
      ]
    },
    {
      "cell_type": "code",
      "metadata": {
        "colab": {
          "base_uri": "https://localhost:8080/"
        },
        "id": "QGk2FpvU1jjb",
        "outputId": "bcc3a918-b62e-4431-f325-c1f6d7a153c4"
      },
      "source": [
        "#Thống kê tổng quan của thuộc tính (tập test)\n",
        "\n",
        "df_test_alt[\"account_length\"].describe()"
      ],
      "execution_count": null,
      "outputs": [
        {
          "output_type": "execute_result",
          "data": {
            "text/plain": [
              "count    750.000000\n",
              "mean     100.385333\n",
              "std       39.699029\n",
              "min        1.000000\n",
              "25%       74.000000\n",
              "50%      101.000000\n",
              "75%      126.000000\n",
              "max      238.000000\n",
              "Name: account_length, dtype: float64"
            ]
          },
          "metadata": {
            "tags": []
          },
          "execution_count": 72
        }
      ]
    },
    {
      "cell_type": "code",
      "metadata": {
        "colab": {
          "base_uri": "https://localhost:8080/"
        },
        "id": "jkbMHSII6GAz",
        "outputId": "c2a492e4-e442-4049-833f-c05505765023"
      },
      "source": [
        "#Chia thuộc tính ra thành 5 đoạn giá trị và liệt kê chúng theo thứ tự tăng dần (tập train)\n",
        " \n",
        "acclen_train = pd.qcut(df_train_alt[\"account_length\"], 5)\n",
        " \n",
        "acclen_train.unique().sort_values()"
      ],
      "execution_count": null,
      "outputs": [
        {
          "output_type": "execute_result",
          "data": {
            "text/plain": [
              "[(0.999, 66.0], (66.0, 90.0], (90.0, 110.0], (110.0, 134.0], (134.0, 243.0]]\n",
              "Categories (5, interval[float64]): [(0.999, 66.0] < (66.0, 90.0] < (90.0, 110.0] < (110.0, 134.0] <\n",
              "                                    (134.0, 243.0]]"
            ]
          },
          "metadata": {
            "tags": []
          },
          "execution_count": 73
        }
      ]
    },
    {
      "cell_type": "code",
      "metadata": {
        "colab": {
          "base_uri": "https://localhost:8080/"
        },
        "id": "Jb2ESD247r5Z",
        "outputId": "f30932b8-fda3-4c4a-ddc0-1aee4c9c9aac"
      },
      "source": [
        "#Chia thuộc tính ra thành 5 đoạn giá trị và liệt kê chúng theo thứ tự tăng dần (tập test)\n",
        "\n",
        "acclen_test = pd.qcut(df_test_alt[\"account_length\"], 5)\n",
        "\n",
        "acclen_test.unique().sort_values()"
      ],
      "execution_count": null,
      "outputs": [
        {
          "output_type": "execute_result",
          "data": {
            "text/plain": [
              "[(0.999, 68.0], (68.0, 91.0], (91.0, 111.0], (111.0, 132.0], (132.0, 238.0]]\n",
              "Categories (5, interval[float64]): [(0.999, 68.0] < (68.0, 91.0] < (91.0, 111.0] < (111.0, 132.0] <\n",
              "                                    (132.0, 238.0]]"
            ]
          },
          "metadata": {
            "tags": []
          },
          "execution_count": 74
        }
      ]
    },
    {
      "cell_type": "code",
      "metadata": {
        "id": "bDFb3IdM-Q2u"
      },
      "source": [
        "#Chuyển đổi dữ liệu thuộc tính account_length trong tập train về từng đoạn\n",
        "\n",
        "df_train_alt.loc[df_train_alt[\"account_length\"] <= 66, \"account_length\"] = 0\n",
        "df_train_alt.loc[(df_train_alt[\"account_length\"] > 66) & (df_train_alt[\"account_length\"] <= 90), \"account_length\"] = 1\n",
        "df_train_alt.loc[(df_train_alt[\"account_length\"] > 90) & (df_train_alt[\"account_length\"] <= 110), \"account_length\"] = 2\n",
        "df_train_alt.loc[(df_train_alt[\"account_length\"] > 110) & (df_train_alt[\"account_length\"] <= 134), \"account_length\"] = 3\n",
        "df_train_alt.loc[df_train_alt[\"account_length\"] > 134, \"account_length\"] = 4"
      ],
      "execution_count": null,
      "outputs": []
    },
    {
      "cell_type": "code",
      "metadata": {
        "id": "C0EwwLUC-RYV"
      },
      "source": [
        "#Chuyển đổi dữ liệu thuộc tính account_length trong tập test về từng đoạn\n",
        "\n",
        "df_test_alt.loc[df_test_alt[\"account_length\"] <= 66, \"account_length\"] = 0\n",
        "df_test_alt.loc[(df_test_alt[\"account_length\"] > 66) & (df_test_alt[\"account_length\"] <= 90), \"account_length\"] = 1\n",
        "df_test_alt.loc[(df_test_alt[\"account_length\"] > 90) & (df_test_alt[\"account_length\"] <= 110), \"account_length\"] = 2\n",
        "df_test_alt.loc[(df_test_alt[\"account_length\"] > 110) & (df_test_alt[\"account_length\"] <= 134), \"account_length\"] = 3\n",
        "df_test_alt.loc[df_test_alt[\"account_length\"] > 134, \"account_length\"] = 4"
      ],
      "execution_count": null,
      "outputs": []
    },
    {
      "cell_type": "markdown",
      "metadata": {
        "id": "SnmhhHmIAdE9"
      },
      "source": [
        "### 2) Thuộc tính total_day_charge\n",
        "---\n",
        "**Tập train:** chia ra thành 4 đoạn, và chuyển đổi giá trị tương ứng với từng đoạn:\n",
        "\n",
        "*   (-0.001, 24.365]: 0\n",
        "*   (24.365, 30.68]: 1\n",
        "*   (30.68, 36.75]: 2\n",
        "*   (36.75, 59.76]: 3\n",
        "\n",
        "**Tập test:** chia thành 4 đoạn, tương tự như tập train:\n",
        "\n",
        "*   (2.129, 24.925]: 0\n",
        "*   (24.925, 30.295]: 1\n",
        "*   (30.295, 36.715]: 2\n",
        "*   (36.715, 59.64]: 3"
      ]
    },
    {
      "cell_type": "code",
      "metadata": {
        "colab": {
          "base_uri": "https://localhost:8080/"
        },
        "id": "a2Ywz5e-A0_O",
        "outputId": "491f9565-9c85-4df5-d8f2-03ed1d33665a"
      },
      "source": [
        "#Thống kê tổng quan của thuộc tính (tập train)\n",
        "\n",
        "df_train_alt[\"total_day_charge\"].describe()"
      ],
      "execution_count": null,
      "outputs": [
        {
          "output_type": "execute_result",
          "data": {
            "text/plain": [
              "count    4250.000000\n",
              "mean       30.644682\n",
              "std         9.182096\n",
              "min         0.000000\n",
              "25%        24.365000\n",
              "50%        30.680000\n",
              "75%        36.750000\n",
              "max        59.760000\n",
              "Name: total_day_charge, dtype: float64"
            ]
          },
          "metadata": {
            "tags": []
          },
          "execution_count": 77
        }
      ]
    },
    {
      "cell_type": "code",
      "metadata": {
        "colab": {
          "base_uri": "https://localhost:8080/"
        },
        "id": "u1YZt45KA-5Q",
        "outputId": "0843483e-9b63-4593-9b7f-1bb67b6e29fe"
      },
      "source": [
        "#Thống kê tổng quan của thuộc tính (tập test)\n",
        "\n",
        "df_test_alt[\"total_day_charge\"].describe()"
      ],
      "execution_count": null,
      "outputs": [
        {
          "output_type": "execute_result",
          "data": {
            "text/plain": [
              "count    750.000000\n",
              "mean      30.677920\n",
              "std        9.053756\n",
              "min        2.130000\n",
              "25%       24.925000\n",
              "50%       30.295000\n",
              "75%       36.715000\n",
              "max       59.640000\n",
              "Name: total_day_charge, dtype: float64"
            ]
          },
          "metadata": {
            "tags": []
          },
          "execution_count": 78
        }
      ]
    },
    {
      "cell_type": "code",
      "metadata": {
        "colab": {
          "base_uri": "https://localhost:8080/"
        },
        "id": "9eg-13MsA_Dd",
        "outputId": "9c45be44-e397-49ae-9f47-02b7fc947c52"
      },
      "source": [
        "#Chia thuộc tính ra thành 4 đoạn giá trị và liệt kê chúng theo thứ tự tăng dần (tập train)\n",
        "\n",
        "charge_day_train = pd.qcut(df_train_alt[\"total_day_charge\"], 4)\n",
        "\n",
        "charge_day_train.unique().sort_values()"
      ],
      "execution_count": null,
      "outputs": [
        {
          "output_type": "execute_result",
          "data": {
            "text/plain": [
              "[(-0.001, 24.365], (24.365, 30.68], (30.68, 36.75], (36.75, 59.76]]\n",
              "Categories (4, interval[float64]): [(-0.001, 24.365] < (24.365, 30.68] < (30.68, 36.75] <\n",
              "                                    (36.75, 59.76]]"
            ]
          },
          "metadata": {
            "tags": []
          },
          "execution_count": 79
        }
      ]
    },
    {
      "cell_type": "code",
      "metadata": {
        "colab": {
          "base_uri": "https://localhost:8080/"
        },
        "id": "qzz0Ro8-A_JO",
        "outputId": "716638b5-1bfa-4a3d-8d37-d698feaa6b3d"
      },
      "source": [
        "#Chia thuộc tính ra thành 4 đoạn giá trị và liệt kê chúng theo thứ tự tăng dần (tập test)\n",
        "\n",
        "charge_day_test = pd.qcut(df_test_alt[\"total_day_charge\"], 4)\n",
        "\n",
        "charge_day_test.unique().sort_values()"
      ],
      "execution_count": null,
      "outputs": [
        {
          "output_type": "execute_result",
          "data": {
            "text/plain": [
              "[(2.129, 24.925], (24.925, 30.295], (30.295, 36.715], (36.715, 59.64]]\n",
              "Categories (4, interval[float64]): [(2.129, 24.925] < (24.925, 30.295] < (30.295, 36.715] <\n",
              "                                    (36.715, 59.64]]"
            ]
          },
          "metadata": {
            "tags": []
          },
          "execution_count": 80
        }
      ]
    },
    {
      "cell_type": "code",
      "metadata": {
        "id": "A_ltqi_sA_Pn"
      },
      "source": [
        "#Chuyển đổi dữ liệu thuộc tính total_day_charge trong tập train về từng đoạn\n",
        "\n",
        "df_train_alt.loc[df_train_alt[\"total_day_charge\"] <= 24.365, \"total_day_charge\"] = 0\n",
        "df_train_alt.loc[(df_train_alt[\"total_day_charge\"] > 24.365) & (df_train_alt[\"total_day_charge\"] <= 30.68), \"total_day_charge\"] = 1\n",
        "df_train_alt.loc[(df_train_alt[\"total_day_charge\"] > 30.68) & (df_train_alt[\"total_day_charge\"] <= 36.75), \"total_day_charge\"] = 2\n",
        "df_train_alt.loc[df_train_alt[\"total_day_charge\"] > 36.75, \"total_day_charge\"] = 3"
      ],
      "execution_count": null,
      "outputs": []
    },
    {
      "cell_type": "code",
      "metadata": {
        "id": "u0hucN2pA_V3"
      },
      "source": [
        "#Chuyển đổi dữ liệu thuộc tính total_day_charge trong tập test về từng đoạn\n",
        "\n",
        "df_test_alt.loc[df_test_alt[\"total_day_charge\"] <= 24.925, \"total_day_charge\"] = 0\n",
        "df_test_alt.loc[(df_test_alt[\"total_day_charge\"] > 24.925) & (df_test_alt[\"total_day_charge\"] <= 30.295), \"total_day_charge\"] = 1\n",
        "df_test_alt.loc[(df_test_alt[\"total_day_charge\"] > 30.295) & (df_test_alt[\"total_day_charge\"] <= 36.715), \"total_day_charge\"] = 2\n",
        "df_test_alt.loc[df_test_alt[\"total_day_charge\"] > 36.715, \"total_day_charge\"] = 3"
      ],
      "execution_count": null,
      "outputs": []
    },
    {
      "cell_type": "markdown",
      "metadata": {
        "id": "WTSaIDUSAq0G"
      },
      "source": [
        "### 3) Thuộc tính total_eve_charge\n",
        "---\n",
        "**Tập train:** chia ra thành 4 đoạn, và chuyển đổi giá trị tương ứng với từng đoạn:\n",
        "\n",
        "*   (-0.001, 14.102]: 0\n",
        "*   (14.102, 17.06]: 1\n",
        "*   (17.06, 19.868]: 2\n",
        "*   (19.868, 30.54]: 3\n",
        "\n",
        "**Tập test:** chia thành 4 đoạn, tương tự như tập train:\n",
        "\n",
        "*   (2.649, 14.178]: 0\n",
        "*   (14.178, 17.285]: 1\n",
        "*   (17.285, 20.057]: 2\n",
        "*   (20.057, 30.91]: 3"
      ]
    },
    {
      "cell_type": "code",
      "metadata": {
        "colab": {
          "base_uri": "https://localhost:8080/"
        },
        "id": "1-i3v-ZUEh1y",
        "outputId": "66265677-1bae-4b3d-ee0c-6c9c9fa773ad"
      },
      "source": [
        "#Thống kê tổng quan của thuộc tính (tập train)\n",
        "\n",
        "df_train_alt[\"total_eve_charge\"].describe()"
      ],
      "execution_count": null,
      "outputs": [
        {
          "output_type": "execute_result",
          "data": {
            "text/plain": [
              "count    4250.000000\n",
              "mean       17.015012\n",
              "std         4.271212\n",
              "min         0.000000\n",
              "25%        14.102500\n",
              "50%        17.060000\n",
              "75%        19.867500\n",
              "max        30.540000\n",
              "Name: total_eve_charge, dtype: float64"
            ]
          },
          "metadata": {
            "tags": []
          },
          "execution_count": 83
        }
      ]
    },
    {
      "cell_type": "code",
      "metadata": {
        "colab": {
          "base_uri": "https://localhost:8080/"
        },
        "id": "jTFt5T6nEh7C",
        "outputId": "290bf9ad-9358-4846-faaf-f5521cecca72"
      },
      "source": [
        "#Thống kê tổng quan của thuộc tính (tập test)\n",
        "\n",
        "df_test_alt[\"total_eve_charge\"].describe()"
      ],
      "execution_count": null,
      "outputs": [
        {
          "output_type": "execute_result",
          "data": {
            "text/plain": [
              "count    750.000000\n",
              "mean      17.277080\n",
              "std        4.435638\n",
              "min        2.650000\n",
              "25%       14.177500\n",
              "50%       17.285000\n",
              "75%       20.057500\n",
              "max       30.910000\n",
              "Name: total_eve_charge, dtype: float64"
            ]
          },
          "metadata": {
            "tags": []
          },
          "execution_count": 84
        }
      ]
    },
    {
      "cell_type": "code",
      "metadata": {
        "colab": {
          "base_uri": "https://localhost:8080/"
        },
        "id": "kpSbNZEOEiBF",
        "outputId": "36ce5c2a-7280-4006-c482-fc25818347f9"
      },
      "source": [
        "#Chia thuộc tính ra thành 4 đoạn giá trị và liệt kê chúng theo thứ tự tăng dần (tập train)\n",
        "\n",
        "charge_eve_train = pd.qcut(df_train_alt[\"total_eve_charge\"], 4)\n",
        "\n",
        "charge_eve_train.unique().sort_values()"
      ],
      "execution_count": null,
      "outputs": [
        {
          "output_type": "execute_result",
          "data": {
            "text/plain": [
              "[(-0.001, 14.102], (14.102, 17.06], (17.06, 19.868], (19.868, 30.54]]\n",
              "Categories (4, interval[float64]): [(-0.001, 14.102] < (14.102, 17.06] < (17.06, 19.868] <\n",
              "                                    (19.868, 30.54]]"
            ]
          },
          "metadata": {
            "tags": []
          },
          "execution_count": 85
        }
      ]
    },
    {
      "cell_type": "code",
      "metadata": {
        "colab": {
          "base_uri": "https://localhost:8080/"
        },
        "id": "9S_phcoKEiHd",
        "outputId": "595c6a58-abd0-4814-98ef-32bb2726011e"
      },
      "source": [
        "#Chia thuộc tính ra thành 4 đoạn giá trị và liệt kê chúng theo thứ tự tăng dần (tập test)\n",
        "\n",
        "charge_eve_test = pd.qcut(df_test_alt[\"total_eve_charge\"], 4)\n",
        "\n",
        "charge_eve_test.unique().sort_values()"
      ],
      "execution_count": null,
      "outputs": [
        {
          "output_type": "execute_result",
          "data": {
            "text/plain": [
              "[(2.649, 14.178], (14.178, 17.285], (17.285, 20.057], (20.057, 30.91]]\n",
              "Categories (4, interval[float64]): [(2.649, 14.178] < (14.178, 17.285] < (17.285, 20.057] <\n",
              "                                    (20.057, 30.91]]"
            ]
          },
          "metadata": {
            "tags": []
          },
          "execution_count": 86
        }
      ]
    },
    {
      "cell_type": "code",
      "metadata": {
        "id": "oE-I4pxXEiPy"
      },
      "source": [
        "#Chuyển đổi dữ liệu thuộc tính total_eve_charge trong tập train về từng đoạn\n",
        "\n",
        "df_train_alt.loc[df_train_alt[\"total_eve_charge\"] <= 14.102, \"total_eve_charge\"] = 0\n",
        "df_train_alt.loc[(df_train_alt[\"total_eve_charge\"] > 14.102) & (df_train_alt[\"total_eve_charge\"] <= 17.06), \"total_eve_charge\"] = 1\n",
        "df_train_alt.loc[(df_train_alt[\"total_eve_charge\"] > 17.06) & (df_train_alt[\"total_eve_charge\"] <= 19.868), \"total_eve_charge\"] = 2\n",
        "df_train_alt.loc[df_train_alt[\"total_eve_charge\"] > 19.868, \"total_eve_charge\"] = 3"
      ],
      "execution_count": null,
      "outputs": []
    },
    {
      "cell_type": "code",
      "metadata": {
        "id": "vnEdNWJMEiUu"
      },
      "source": [
        "#Chuyển đổi dữ liệu thuộc tính total_eve_charge trong tập test về từng đoạn\n",
        "\n",
        "df_test_alt.loc[df_test_alt[\"total_eve_charge\"] <= 14.178, \"total_eve_charge\"] = 0\n",
        "df_test_alt.loc[(df_test_alt[\"total_eve_charge\"] > 14.178) & (df_test_alt[\"total_eve_charge\"] <= 17.285), \"total_day_charge\"] = 1\n",
        "df_test_alt.loc[(df_test_alt[\"total_eve_charge\"] > 17.285) & (df_test_alt[\"total_eve_charge\"] <= 20.057), \"total_day_charge\"] = 2\n",
        "df_test_alt.loc[df_test_alt[\"total_eve_charge\"] > 20.057, \"total_eve_charge\"] = 3"
      ],
      "execution_count": null,
      "outputs": []
    },
    {
      "cell_type": "markdown",
      "metadata": {
        "id": "eCw7BhFTArGE"
      },
      "source": [
        "### 4) Thuộc tính total_night_charge\n",
        "---\n",
        "**Tập train:** chia ra thành 4 đoạn, và chuyển đổi giá trị tương ứng với từng đoạn:\n",
        "\n",
        "*   (-0.001, 7.522]: 0\n",
        "*   (7.522, 9.02]: 1\n",
        "*   (9.02, 10.56]: 2\n",
        "*   (10.56, 17.77]: 3\n",
        "\n",
        "**Tập test:** chia thành 4 đoạn, tương tự như tập train:\n",
        "\n",
        "*   (2.289, 7.402]: 0\n",
        "*   (7.402, 8.975]: 1\n",
        "*   (8.975, 10.565]: 2\n",
        "*   (10.565, 16.39]: 3"
      ]
    },
    {
      "cell_type": "code",
      "metadata": {
        "colab": {
          "base_uri": "https://localhost:8080/"
        },
        "id": "hafzS3qOT2tc",
        "outputId": "c4f852ba-2197-45c3-c205-fe56fa0c591b"
      },
      "source": [
        "#Thống kê tổng quan của thuộc tính (tập train)\n",
        "\n",
        "df_train_alt[\"total_night_charge\"].describe()"
      ],
      "execution_count": null,
      "outputs": [
        {
          "output_type": "execute_result",
          "data": {
            "text/plain": [
              "count    4250.000000\n",
              "mean        9.023892\n",
              "std         2.265922\n",
              "min         0.000000\n",
              "25%         7.522500\n",
              "50%         9.020000\n",
              "75%        10.560000\n",
              "max        17.770000\n",
              "Name: total_night_charge, dtype: float64"
            ]
          },
          "metadata": {
            "tags": []
          },
          "execution_count": 89
        }
      ]
    },
    {
      "cell_type": "code",
      "metadata": {
        "colab": {
          "base_uri": "https://localhost:8080/"
        },
        "id": "giqzm6NAT24C",
        "outputId": "79e6e2b4-fec4-4cc4-9bdc-0f8d20c8e12c"
      },
      "source": [
        "#Thống kê tổng quan của thuộc tính (tập test)\n",
        "\n",
        "df_test_alt[\"total_night_charge\"].describe()"
      ],
      "execution_count": null,
      "outputs": [
        {
          "output_type": "execute_result",
          "data": {
            "text/plain": [
              "count    750.000000\n",
              "mean       8.982827\n",
              "std        2.318920\n",
              "min        2.290000\n",
              "25%        7.402500\n",
              "50%        8.975000\n",
              "75%       10.565000\n",
              "max       16.390000\n",
              "Name: total_night_charge, dtype: float64"
            ]
          },
          "metadata": {
            "tags": []
          },
          "execution_count": 90
        }
      ]
    },
    {
      "cell_type": "code",
      "metadata": {
        "colab": {
          "base_uri": "https://localhost:8080/"
        },
        "id": "meytbe98T29e",
        "outputId": "80bcc13f-5a63-416c-8153-0fbe3b912fed"
      },
      "source": [
        "#Chia thuộc tính ra thành 4 đoạn giá trị và liệt kê chúng theo thứ tự tăng dần (tập train)\n",
        "\n",
        "charge_night_train = pd.qcut(df_train_alt[\"total_night_charge\"], 4)\n",
        "\n",
        "charge_night_train.unique().sort_values()"
      ],
      "execution_count": null,
      "outputs": [
        {
          "output_type": "execute_result",
          "data": {
            "text/plain": [
              "[(-0.001, 7.522], (7.522, 9.02], (9.02, 10.56], (10.56, 17.77]]\n",
              "Categories (4, interval[float64]): [(-0.001, 7.522] < (7.522, 9.02] < (9.02, 10.56] < (10.56, 17.77]]"
            ]
          },
          "metadata": {
            "tags": []
          },
          "execution_count": 91
        }
      ]
    },
    {
      "cell_type": "code",
      "metadata": {
        "colab": {
          "base_uri": "https://localhost:8080/"
        },
        "id": "X4wcuL5pT3FZ",
        "outputId": "72bed4b2-d601-49b6-e218-e68c9a20a913"
      },
      "source": [
        "#Chia thuộc tính ra thành 4 đoạn giá trị và liệt kê chúng theo thứ tự tăng dần (tập test)\n",
        "\n",
        "charge_night_test = pd.qcut(df_test_alt[\"total_night_charge\"], 4)\n",
        "\n",
        "charge_night_test.unique().sort_values()"
      ],
      "execution_count": null,
      "outputs": [
        {
          "output_type": "execute_result",
          "data": {
            "text/plain": [
              "[(2.289, 7.402], (7.402, 8.975], (8.975, 10.565], (10.565, 16.39]]\n",
              "Categories (4, interval[float64]): [(2.289, 7.402] < (7.402, 8.975] < (8.975, 10.565] <\n",
              "                                    (10.565, 16.39]]"
            ]
          },
          "metadata": {
            "tags": []
          },
          "execution_count": 92
        }
      ]
    },
    {
      "cell_type": "code",
      "metadata": {
        "id": "hSFUALFkT3L3"
      },
      "source": [
        "#Chuyển đổi dữ liệu thuộc tính total_night_charge trong tập train về từng đoạn\n",
        "\n",
        "df_train_alt.loc[df_train_alt[\"total_night_charge\"] <= 7.522, \"total_night_charge\"] = 0\n",
        "df_train_alt.loc[(df_train_alt[\"total_night_charge\"] > 7.522) & (df_train_alt[\"total_night_charge\"] <= 9.02), \"total_night_charge\"] = 1\n",
        "df_train_alt.loc[(df_train_alt[\"total_night_charge\"] > 9.02) & (df_train_alt[\"total_night_charge\"] <= 10.56), \"total_night_charge\"] = 2\n",
        "df_train_alt.loc[df_train_alt[\"total_night_charge\"] > 10.56, \"total_night_charge\"] = 3"
      ],
      "execution_count": null,
      "outputs": []
    },
    {
      "cell_type": "code",
      "metadata": {
        "id": "EPLjhLYwT3SC"
      },
      "source": [
        "#Chuyển đổi dữ liệu thuộc tính total_night_charge trong tập test về từng đoạn\n",
        "\n",
        "df_test_alt.loc[df_test_alt[\"total_night_charge\"] <= 7.402, \"total_night_charge\"] = 0\n",
        "df_test_alt.loc[(df_test_alt[\"total_night_charge\"] > 7.402) & (df_test_alt[\"total_night_charge\"] <= 8.975), \"total_night_charge\"] = 1\n",
        "df_test_alt.loc[(df_test_alt[\"total_night_charge\"] > 8.975) & (df_test_alt[\"total_night_charge\"] <= 10.565), \"total_night_charge\"] = 2\n",
        "df_test_alt.loc[df_test_alt[\"total_night_charge\"] > 10.565, \"total_night_charge\"] = 3"
      ],
      "execution_count": null,
      "outputs": []
    },
    {
      "cell_type": "markdown",
      "metadata": {
        "id": "nYTmicWHArVJ"
      },
      "source": [
        "### 5) Thuộc tính total_intl_charge\n",
        "---\n",
        "**Tập train:** chia ra thành 4 đoạn, và chuyển đổi giá trị tương ứng với từng đoạn:\n",
        "\n",
        "*   (-0.001, 2.3], (2.3, 2.78], (2.78, 3.24], (3.24, 5.4]: 0\n",
        "*   (66, 90]: 1\n",
        "*   (90, 110]: 2\n",
        "*   (110, 134]: 3\n",
        "\n",
        "**Tập test:** chia thành 4 đoạn, tương tự như tập train:\n",
        "\n",
        "*   (-0.001, 2.305], (2.305, 2.78], (2.78, 3.27], (3.27, 5.1]: 0\n",
        "*   (68, 91]: 1\n",
        "*   (91, 111]: 2\n",
        "*   (111, 132]: 3"
      ]
    },
    {
      "cell_type": "code",
      "metadata": {
        "colab": {
          "base_uri": "https://localhost:8080/"
        },
        "id": "3IItM5E4T3qw",
        "outputId": "e0b2078c-d765-47d7-c63a-edd06e62aa1b"
      },
      "source": [
        "#Thống kê tổng quan của thuộc tính (tập train)\n",
        "\n",
        "df_train_alt[\"total_intl_charge\"].describe()"
      ],
      "execution_count": null,
      "outputs": [
        {
          "output_type": "execute_result",
          "data": {
            "text/plain": [
              "count    4250.000000\n",
              "mean        2.769654\n",
              "std         0.745204\n",
              "min         0.000000\n",
              "25%         2.300000\n",
              "50%         2.780000\n",
              "75%         3.240000\n",
              "max         5.400000\n",
              "Name: total_intl_charge, dtype: float64"
            ]
          },
          "metadata": {
            "tags": []
          },
          "execution_count": 95
        }
      ]
    },
    {
      "cell_type": "code",
      "metadata": {
        "colab": {
          "base_uri": "https://localhost:8080/"
        },
        "id": "hS4fK_bhT3xB",
        "outputId": "7a7e667f-3b2e-4112-b4f6-b9617e277252"
      },
      "source": [
        "#Thống kê tổng quan của thuộc tính (tập test)\n",
        "\n",
        "df_test_alt[\"total_intl_charge\"].describe()"
      ],
      "execution_count": null,
      "outputs": [
        {
          "output_type": "execute_result",
          "data": {
            "text/plain": [
              "count    750.000000\n",
              "mean       2.779933\n",
              "std        0.747704\n",
              "min        0.000000\n",
              "25%        2.305000\n",
              "50%        2.780000\n",
              "75%        3.270000\n",
              "max        5.100000\n",
              "Name: total_intl_charge, dtype: float64"
            ]
          },
          "metadata": {
            "tags": []
          },
          "execution_count": 96
        }
      ]
    },
    {
      "cell_type": "code",
      "metadata": {
        "colab": {
          "base_uri": "https://localhost:8080/"
        },
        "id": "fPcanaLxT32i",
        "outputId": "40c5fb1c-6d8a-4c95-e5ec-57d64bdf20fc"
      },
      "source": [
        "#Chia thuộc tính ra thành 4 đoạn giá trị và liệt kê chúng theo thứ tự tăng dần (tập train)\n",
        "\n",
        "charge_intl_train = pd.qcut(df_train_alt[\"total_intl_charge\"], 4)\n",
        "\n",
        "charge_intl_train.unique().sort_values()"
      ],
      "execution_count": null,
      "outputs": [
        {
          "output_type": "execute_result",
          "data": {
            "text/plain": [
              "[(-0.001, 2.3], (2.3, 2.78], (2.78, 3.24], (3.24, 5.4]]\n",
              "Categories (4, interval[float64]): [(-0.001, 2.3] < (2.3, 2.78] < (2.78, 3.24] < (3.24, 5.4]]"
            ]
          },
          "metadata": {
            "tags": []
          },
          "execution_count": 97
        }
      ]
    },
    {
      "cell_type": "code",
      "metadata": {
        "colab": {
          "base_uri": "https://localhost:8080/"
        },
        "id": "AMqHNJxwT389",
        "outputId": "cb761ab9-8dac-48fe-933d-7a6615b7fb32"
      },
      "source": [
        "#Chia thuộc tính ra thành 4 đoạn giá trị và liệt kê chúng theo thứ tự tăng dần (tập test)\n",
        "\n",
        "charge_intl_test = pd.qcut(df_test_alt[\"total_intl_charge\"], 4)\n",
        "\n",
        "charge_intl_test.unique().sort_values()"
      ],
      "execution_count": null,
      "outputs": [
        {
          "output_type": "execute_result",
          "data": {
            "text/plain": [
              "[(-0.001, 2.305], (2.305, 2.78], (2.78, 3.27], (3.27, 5.1]]\n",
              "Categories (4, interval[float64]): [(-0.001, 2.305] < (2.305, 2.78] < (2.78, 3.27] < (3.27, 5.1]]"
            ]
          },
          "metadata": {
            "tags": []
          },
          "execution_count": 98
        }
      ]
    },
    {
      "cell_type": "code",
      "metadata": {
        "id": "zMPwo6XrT4DD"
      },
      "source": [
        "#Chuyển đổi dữ liệu thuộc tính total_intl_charge trong tập train về từng đoạn\n",
        "\n",
        "df_train_alt.loc[df_train_alt[\"total_intl_charge\"] <= 2.3, \"total_intl_charge\"] = 0\n",
        "df_train_alt.loc[(df_train_alt[\"total_intl_charge\"] > 2.3) & (df_train_alt[\"total_intl_charge\"] <= 2.78), \"total_intl_charge\"] = 1\n",
        "df_train_alt.loc[(df_train_alt[\"total_intl_charge\"] > 2.78) & (df_train_alt[\"total_intl_charge\"] <= 3.24), \"total_intl_charge\"] = 2\n",
        "df_train_alt.loc[df_train_alt[\"total_intl_charge\"] > 3.24, \"total_intl_charge\"] = 3"
      ],
      "execution_count": null,
      "outputs": []
    },
    {
      "cell_type": "code",
      "metadata": {
        "id": "cN65xhW1T4KF"
      },
      "source": [
        "#Chuyển đổi dữ liệu thuộc tính total_intl_charge trong tập test về từng đoạn\n",
        "\n",
        "df_test_alt.loc[df_test_alt[\"total_intl_charge\"] <= 2.305, \"total_intl_charge\"] = 0\n",
        "df_test_alt.loc[(df_test_alt[\"total_intl_charge\"] > 2.305) & (df_test_alt[\"total_intl_charge\"] <= 2.78), \"total_intl_charge\"] = 1\n",
        "df_test_alt.loc[(df_test_alt[\"total_intl_charge\"] > 2.78) & (df_test_alt[\"total_intl_charge\"] <= 3.27), \"total_intl_charge\"] = 2\n",
        "df_test_alt.loc[df_test_alt[\"total_intl_charge\"] > 3.27, \"total_intl_charge\"] = 3"
      ],
      "execution_count": null,
      "outputs": []
    },
    {
      "cell_type": "markdown",
      "metadata": {
        "id": "QhsDfb6NYL4o"
      },
      "source": [
        "### 6) Dữ liệu đã qua xử lý\n",
        "---"
      ]
    },
    {
      "cell_type": "code",
      "metadata": {
        "colab": {
          "base_uri": "https://localhost:8080/",
          "height": 435
        },
        "id": "HVUNz6LlYSq0",
        "outputId": "d2a41f32-8f22-4b1c-e37c-a3bd41e12e4a"
      },
      "source": [
        "#Tập train\n",
        "\n",
        "df_train_alt"
      ],
      "execution_count": null,
      "outputs": [
        {
          "output_type": "execute_result",
          "data": {
            "text/html": [
              "<div>\n",
              "<style scoped>\n",
              "    .dataframe tbody tr th:only-of-type {\n",
              "        vertical-align: middle;\n",
              "    }\n",
              "\n",
              "    .dataframe tbody tr th {\n",
              "        vertical-align: top;\n",
              "    }\n",
              "\n",
              "    .dataframe thead th {\n",
              "        text-align: right;\n",
              "    }\n",
              "</style>\n",
              "<table border=\"1\" class=\"dataframe\">\n",
              "  <thead>\n",
              "    <tr style=\"text-align: right;\">\n",
              "      <th></th>\n",
              "      <th>account_length</th>\n",
              "      <th>international_plan</th>\n",
              "      <th>voice_mail_plan</th>\n",
              "      <th>total_day_charge</th>\n",
              "      <th>total_eve_charge</th>\n",
              "      <th>total_night_charge</th>\n",
              "      <th>total_intl_charge</th>\n",
              "      <th>number_customer_service_calls</th>\n",
              "      <th>churn</th>\n",
              "    </tr>\n",
              "  </thead>\n",
              "  <tbody>\n",
              "    <tr>\n",
              "      <th>0</th>\n",
              "      <td>2</td>\n",
              "      <td>0</td>\n",
              "      <td>1</td>\n",
              "      <td>1.0</td>\n",
              "      <td>1.0</td>\n",
              "      <td>3.0</td>\n",
              "      <td>3.0</td>\n",
              "      <td>1</td>\n",
              "      <td>0</td>\n",
              "    </tr>\n",
              "    <tr>\n",
              "      <th>1</th>\n",
              "      <td>4</td>\n",
              "      <td>0</td>\n",
              "      <td>0</td>\n",
              "      <td>3.0</td>\n",
              "      <td>0.0</td>\n",
              "      <td>0.0</td>\n",
              "      <td>3.0</td>\n",
              "      <td>0</td>\n",
              "      <td>0</td>\n",
              "    </tr>\n",
              "    <tr>\n",
              "      <th>2</th>\n",
              "      <td>1</td>\n",
              "      <td>1</td>\n",
              "      <td>0</td>\n",
              "      <td>3.0</td>\n",
              "      <td>0.0</td>\n",
              "      <td>1.0</td>\n",
              "      <td>0.0</td>\n",
              "      <td>2</td>\n",
              "      <td>0</td>\n",
              "    </tr>\n",
              "    <tr>\n",
              "      <th>3</th>\n",
              "      <td>1</td>\n",
              "      <td>1</td>\n",
              "      <td>0</td>\n",
              "      <td>1.0</td>\n",
              "      <td>0.0</td>\n",
              "      <td>1.0</td>\n",
              "      <td>1.0</td>\n",
              "      <td>3</td>\n",
              "      <td>0</td>\n",
              "    </tr>\n",
              "    <tr>\n",
              "      <th>4</th>\n",
              "      <td>3</td>\n",
              "      <td>0</td>\n",
              "      <td>1</td>\n",
              "      <td>3.0</td>\n",
              "      <td>3.0</td>\n",
              "      <td>2.0</td>\n",
              "      <td>0.0</td>\n",
              "      <td>3</td>\n",
              "      <td>0</td>\n",
              "    </tr>\n",
              "    <tr>\n",
              "      <th>...</th>\n",
              "      <td>...</td>\n",
              "      <td>...</td>\n",
              "      <td>...</td>\n",
              "      <td>...</td>\n",
              "      <td>...</td>\n",
              "      <td>...</td>\n",
              "      <td>...</td>\n",
              "      <td>...</td>\n",
              "      <td>...</td>\n",
              "    </tr>\n",
              "    <tr>\n",
              "      <th>4245</th>\n",
              "      <td>1</td>\n",
              "      <td>0</td>\n",
              "      <td>0</td>\n",
              "      <td>2.0</td>\n",
              "      <td>3.0</td>\n",
              "      <td>2.0</td>\n",
              "      <td>1.0</td>\n",
              "      <td>0</td>\n",
              "      <td>0</td>\n",
              "    </tr>\n",
              "    <tr>\n",
              "      <th>4246</th>\n",
              "      <td>1</td>\n",
              "      <td>0</td>\n",
              "      <td>0</td>\n",
              "      <td>1.0</td>\n",
              "      <td>0.0</td>\n",
              "      <td>1.0</td>\n",
              "      <td>2.0</td>\n",
              "      <td>3</td>\n",
              "      <td>0</td>\n",
              "    </tr>\n",
              "    <tr>\n",
              "      <th>4247</th>\n",
              "      <td>1</td>\n",
              "      <td>0</td>\n",
              "      <td>0</td>\n",
              "      <td>1.0</td>\n",
              "      <td>1.0</td>\n",
              "      <td>0.0</td>\n",
              "      <td>0.0</td>\n",
              "      <td>1</td>\n",
              "      <td>0</td>\n",
              "    </tr>\n",
              "    <tr>\n",
              "      <th>4248</th>\n",
              "      <td>0</td>\n",
              "      <td>0</td>\n",
              "      <td>1</td>\n",
              "      <td>3.0</td>\n",
              "      <td>2.0</td>\n",
              "      <td>3.0</td>\n",
              "      <td>1.0</td>\n",
              "      <td>2</td>\n",
              "      <td>0</td>\n",
              "    </tr>\n",
              "    <tr>\n",
              "      <th>4249</th>\n",
              "      <td>1</td>\n",
              "      <td>0</td>\n",
              "      <td>1</td>\n",
              "      <td>0.0</td>\n",
              "      <td>3.0</td>\n",
              "      <td>0.0</td>\n",
              "      <td>1.0</td>\n",
              "      <td>0</td>\n",
              "      <td>0</td>\n",
              "    </tr>\n",
              "  </tbody>\n",
              "</table>\n",
              "<p>4250 rows × 9 columns</p>\n",
              "</div>"
            ],
            "text/plain": [
              "      account_length  international_plan  ...  number_customer_service_calls  churn\n",
              "0                  2                   0  ...                              1      0\n",
              "1                  4                   0  ...                              0      0\n",
              "2                  1                   1  ...                              2      0\n",
              "3                  1                   1  ...                              3      0\n",
              "4                  3                   0  ...                              3      0\n",
              "...              ...                 ...  ...                            ...    ...\n",
              "4245               1                   0  ...                              0      0\n",
              "4246               1                   0  ...                              3      0\n",
              "4247               1                   0  ...                              1      0\n",
              "4248               0                   0  ...                              2      0\n",
              "4249               1                   0  ...                              0      0\n",
              "\n",
              "[4250 rows x 9 columns]"
            ]
          },
          "metadata": {
            "tags": []
          },
          "execution_count": 101
        }
      ]
    },
    {
      "cell_type": "code",
      "metadata": {
        "colab": {
          "base_uri": "https://localhost:8080/",
          "height": 435
        },
        "id": "pQNeQGS-YYm5",
        "outputId": "eb41a30e-ccc3-4097-a063-86771fa6154e"
      },
      "source": [
        "#Tập test\n",
        "\n",
        "df_test_alt"
      ],
      "execution_count": null,
      "outputs": [
        {
          "output_type": "execute_result",
          "data": {
            "text/html": [
              "<div>\n",
              "<style scoped>\n",
              "    .dataframe tbody tr th:only-of-type {\n",
              "        vertical-align: middle;\n",
              "    }\n",
              "\n",
              "    .dataframe tbody tr th {\n",
              "        vertical-align: top;\n",
              "    }\n",
              "\n",
              "    .dataframe thead th {\n",
              "        text-align: right;\n",
              "    }\n",
              "</style>\n",
              "<table border=\"1\" class=\"dataframe\">\n",
              "  <thead>\n",
              "    <tr style=\"text-align: right;\">\n",
              "      <th></th>\n",
              "      <th>account_length</th>\n",
              "      <th>international_plan</th>\n",
              "      <th>voice_mail_plan</th>\n",
              "      <th>total_day_charge</th>\n",
              "      <th>total_eve_charge</th>\n",
              "      <th>total_night_charge</th>\n",
              "      <th>total_intl_charge</th>\n",
              "      <th>number_customer_service_calls</th>\n",
              "    </tr>\n",
              "  </thead>\n",
              "  <tbody>\n",
              "    <tr>\n",
              "      <th>0</th>\n",
              "      <td>3</td>\n",
              "      <td>0</td>\n",
              "      <td>1</td>\n",
              "      <td>1.0</td>\n",
              "      <td>16.78</td>\n",
              "      <td>3.0</td>\n",
              "      <td>1.0</td>\n",
              "      <td>1</td>\n",
              "    </tr>\n",
              "    <tr>\n",
              "      <th>1</th>\n",
              "      <td>3</td>\n",
              "      <td>1</td>\n",
              "      <td>0</td>\n",
              "      <td>2.0</td>\n",
              "      <td>18.75</td>\n",
              "      <td>2.0</td>\n",
              "      <td>0.0</td>\n",
              "      <td>0</td>\n",
              "    </tr>\n",
              "    <tr>\n",
              "      <th>2</th>\n",
              "      <td>0</td>\n",
              "      <td>0</td>\n",
              "      <td>0</td>\n",
              "      <td>0.0</td>\n",
              "      <td>3.00</td>\n",
              "      <td>2.0</td>\n",
              "      <td>3.0</td>\n",
              "      <td>4</td>\n",
              "    </tr>\n",
              "    <tr>\n",
              "      <th>3</th>\n",
              "      <td>2</td>\n",
              "      <td>0</td>\n",
              "      <td>0</td>\n",
              "      <td>2.0</td>\n",
              "      <td>18.55</td>\n",
              "      <td>0.0</td>\n",
              "      <td>0.0</td>\n",
              "      <td>3</td>\n",
              "    </tr>\n",
              "    <tr>\n",
              "      <th>4</th>\n",
              "      <td>4</td>\n",
              "      <td>0</td>\n",
              "      <td>0</td>\n",
              "      <td>0.0</td>\n",
              "      <td>3.00</td>\n",
              "      <td>3.0</td>\n",
              "      <td>3.0</td>\n",
              "      <td>3</td>\n",
              "    </tr>\n",
              "    <tr>\n",
              "      <th>...</th>\n",
              "      <td>...</td>\n",
              "      <td>...</td>\n",
              "      <td>...</td>\n",
              "      <td>...</td>\n",
              "      <td>...</td>\n",
              "      <td>...</td>\n",
              "      <td>...</td>\n",
              "      <td>...</td>\n",
              "    </tr>\n",
              "    <tr>\n",
              "      <th>745</th>\n",
              "      <td>3</td>\n",
              "      <td>0</td>\n",
              "      <td>0</td>\n",
              "      <td>2.0</td>\n",
              "      <td>19.24</td>\n",
              "      <td>2.0</td>\n",
              "      <td>2.0</td>\n",
              "      <td>0</td>\n",
              "    </tr>\n",
              "    <tr>\n",
              "      <th>746</th>\n",
              "      <td>1</td>\n",
              "      <td>0</td>\n",
              "      <td>0</td>\n",
              "      <td>1.0</td>\n",
              "      <td>3.00</td>\n",
              "      <td>3.0</td>\n",
              "      <td>3.0</td>\n",
              "      <td>3</td>\n",
              "    </tr>\n",
              "    <tr>\n",
              "      <th>747</th>\n",
              "      <td>4</td>\n",
              "      <td>0</td>\n",
              "      <td>0</td>\n",
              "      <td>2.0</td>\n",
              "      <td>3.00</td>\n",
              "      <td>2.0</td>\n",
              "      <td>3.0</td>\n",
              "      <td>3</td>\n",
              "    </tr>\n",
              "    <tr>\n",
              "      <th>748</th>\n",
              "      <td>0</td>\n",
              "      <td>0</td>\n",
              "      <td>0</td>\n",
              "      <td>1.0</td>\n",
              "      <td>14.69</td>\n",
              "      <td>2.0</td>\n",
              "      <td>3.0</td>\n",
              "      <td>1</td>\n",
              "    </tr>\n",
              "    <tr>\n",
              "      <th>749</th>\n",
              "      <td>2</td>\n",
              "      <td>0</td>\n",
              "      <td>0</td>\n",
              "      <td>1.0</td>\n",
              "      <td>14.59</td>\n",
              "      <td>2.0</td>\n",
              "      <td>0.0</td>\n",
              "      <td>0</td>\n",
              "    </tr>\n",
              "  </tbody>\n",
              "</table>\n",
              "<p>750 rows × 8 columns</p>\n",
              "</div>"
            ],
            "text/plain": [
              "     account_length  ...  number_customer_service_calls\n",
              "0                 3  ...                              1\n",
              "1                 3  ...                              0\n",
              "2                 0  ...                              4\n",
              "3                 2  ...                              3\n",
              "4                 4  ...                              3\n",
              "..              ...  ...                            ...\n",
              "745               3  ...                              0\n",
              "746               1  ...                              3\n",
              "747               4  ...                              3\n",
              "748               0  ...                              1\n",
              "749               2  ...                              0\n",
              "\n",
              "[750 rows x 8 columns]"
            ]
          },
          "metadata": {
            "tags": []
          },
          "execution_count": 102
        }
      ]
    },
    {
      "cell_type": "markdown",
      "metadata": {
        "id": "AShpxr0wYzzK"
      },
      "source": [
        "## III. Xây dựng Machine Learning Model bằng sci-kit learn\n",
        "---"
      ]
    },
    {
      "cell_type": "markdown",
      "metadata": {
        "id": "kBXNKgsOY9sm"
      },
      "source": [
        "### 1) Chuẩn bị dữ liệu\n",
        "---\n",
        "Tập dữ liệu huấn luyện model bao gồm:\n",
        "\n",
        "*   Tập X_train_alt: bao gồm 8 thuộc tính sau: account_length, international_plan, voice_mail_plan, total_day_charge, total_eve_charge, total_night_charge, total_intl_charge, number_customer_service_calls\n",
        "*   Tập Y_train_alt: thuộc tính churn\n",
        "\n",
        "Tập dữ liệu kiểm thử: tập X_test_alt, cũng bao gồm 8 thuộc tính như tập X_train_alt."
      ]
    },
    {
      "cell_type": "code",
      "metadata": {
        "id": "Zrzg2svpZK8Q"
      },
      "source": [
        "X_train_alt = df_train_alt.drop(\"churn\", axis = 1)\n",
        "Y_train_alt = df_train_alt[\"churn\"]\n",
        "\n",
        "X_test_alt = df_test_alt"
      ],
      "execution_count": null,
      "outputs": []
    },
    {
      "cell_type": "markdown",
      "metadata": {
        "id": "ES-w-qdbZZ_N"
      },
      "source": [
        "### 2) Sử dụng các model Machine Learning để giải quyết bài toán\n",
        "---\n",
        "Những model sẽ được sử dụng: K-Nearest Neighbors, Random Forest, Decision Tree, Support Vector Machines, Logistic Regression, Gaussian Process, Naive Bayes và Multi-layer Perceptron."
      ]
    },
    {
      "cell_type": "markdown",
      "metadata": {
        "id": "8l97SguNZZ_N"
      },
      "source": [
        "#### a) K-Nearest Neighbors\n",
        "---"
      ]
    },
    {
      "cell_type": "code",
      "metadata": {
        "colab": {
          "base_uri": "https://localhost:8080/"
        },
        "id": "IElSATdLZZ_N",
        "outputId": "8e415a5c-f59f-4806-81a6-32fc71ff2d4c"
      },
      "source": [
        "from sklearn.neighbors import KNeighborsClassifier\n",
        "\n",
        "knn_alt = KNeighborsClassifier(n_neighbors = 5)\n",
        "\n",
        "#Huấn luyện mô hình với tập dữ liệu train\n",
        "knn_alt.fit(X_train_alt, Y_train_alt)"
      ],
      "execution_count": null,
      "outputs": [
        {
          "output_type": "execute_result",
          "data": {
            "text/plain": [
              "KNeighborsClassifier(algorithm='auto', leaf_size=30, metric='minkowski',\n",
              "                     metric_params=None, n_jobs=None, n_neighbors=5, p=2,\n",
              "                     weights='uniform')"
            ]
          },
          "metadata": {
            "tags": []
          },
          "execution_count": 104
        }
      ]
    },
    {
      "cell_type": "code",
      "metadata": {
        "colab": {
          "base_uri": "https://localhost:8080/"
        },
        "id": "yKF_u_TFZZ_O",
        "outputId": "8d7ad33e-cc21-4a64-89c8-2cad48ea638e"
      },
      "source": [
        "#Thực hiện dự đoán kết quả trên tập dữ liệu test\n",
        "Y_pred_knn_alt = knn_alt.predict(X_test_alt)\n",
        "print(Y_pred_knn_alt)"
      ],
      "execution_count": null,
      "outputs": [
        {
          "output_type": "stream",
          "text": [
            "[0 0 1 0 0 0 0 0 0 0 0 0 0 0 0 0 0 0 0 0 0 0 0 0 0 0 0 0 0 0 0 0 0 0 0 0 0\n",
            " 0 0 1 0 0 0 0 0 0 0 0 0 0 1 0 0 0 0 0 1 0 1 0 0 0 0 0 0 0 0 0 1 0 0 0 1 0\n",
            " 0 0 0 0 0 0 0 0 0 0 0 0 0 0 0 0 0 0 0 0 0 0 0 0 0 0 0 0 0 0 0 0 0 0 0 0 0\n",
            " 0 0 0 0 0 0 0 0 0 0 1 0 0 0 0 0 0 0 0 0 0 0 0 0 0 0 0 0 0 0 0 0 0 0 0 0 0\n",
            " 0 0 0 0 0 0 0 0 0 0 0 0 0 0 0 0 0 0 0 0 0 0 0 0 0 0 0 0 0 0 0 0 0 0 0 1 0\n",
            " 0 0 0 0 0 0 0 0 0 0 0 0 0 0 1 0 0 0 0 0 0 0 0 0 0 0 0 0 0 0 0 0 0 0 0 0 0\n",
            " 0 0 0 0 0 0 0 0 0 0 0 0 0 0 0 0 0 0 0 0 0 0 0 0 0 0 0 0 0 0 0 0 0 0 0 0 0\n",
            " 0 0 0 0 0 0 0 0 0 0 0 0 0 0 0 0 1 0 0 0 0 0 0 0 0 1 0 0 0 0 0 0 0 0 0 0 0\n",
            " 0 0 0 0 0 0 1 0 0 0 0 0 0 0 0 0 0 0 0 0 0 0 0 0 0 0 0 0 0 0 0 0 0 0 0 0 0\n",
            " 0 0 0 0 0 0 0 0 1 0 0 0 0 0 0 0 0 0 0 0 1 0 1 0 1 0 0 0 1 0 0 0 0 0 0 0 0\n",
            " 0 0 0 0 0 0 0 0 0 0 0 0 0 0 0 0 0 0 1 0 0 0 0 0 0 0 0 0 0 0 0 0 0 0 0 1 0\n",
            " 0 0 0 0 0 0 0 0 0 0 0 0 0 0 0 0 0 0 0 1 0 0 0 1 0 0 0 0 0 0 0 0 0 0 0 0 0\n",
            " 0 0 0 0 0 0 0 1 0 1 0 0 0 0 0 0 0 0 0 0 0 0 0 0 0 0 0 0 0 0 0 0 0 0 0 0 0\n",
            " 1 0 0 0 0 0 0 0 1 0 0 0 0 0 1 0 0 0 0 0 0 0 0 0 0 0 0 0 0 0 0 0 0 0 0 0 0\n",
            " 0 0 0 0 0 0 0 0 0 0 0 0 0 0 0 0 0 0 0 0 0 0 0 0 0 0 0 1 0 0 0 0 0 0 0 0 0\n",
            " 0 0 0 0 0 0 0 0 0 0 1 0 0 0 0 0 0 0 0 0 0 0 0 0 0 0 0 0 0 0 0 0 0 0 0 0 0\n",
            " 0 0 0 0 0 1 0 0 0 0 0 0 0 0 0 0 0 0 0 1 0 0 1 0 0 0 0 0 0 0 0 0 0 0 0 0 0\n",
            " 0 0 0 0 0 0 0 0 1 0 0 0 0 0 0 0 1 0 0 0 0 0 0 0 0 0 0 0 0 0 0 0 0 0 0 0 0\n",
            " 0 0 0 0 0 0 0 0 0 0 0 0 0 0 0 0 0 0 0 0 0 0 0 0 0 0 0 0 0 0 0 0 0 0 0 0 0\n",
            " 0 0 0 0 1 0 0 0 0 0 0 0 0 0 0 0 0 0 1 0 0 0 0 0 0 0 0 0 0 0 0 0 0 0 0 0 0\n",
            " 0 0 0 0 0 0 0 0 0 0]\n"
          ],
          "name": "stdout"
        }
      ]
    },
    {
      "cell_type": "code",
      "metadata": {
        "colab": {
          "base_uri": "https://localhost:8080/"
        },
        "id": "Ye1OEoSpZZ_O",
        "outputId": "8dd25539-bbb4-459d-9bad-191448619927"
      },
      "source": [
        "#Đánh giá độ chính xác của mô hình trên tập dữ liệu train\n",
        "acc_knn_alt = round(knn_alt.score(X_train_alt, Y_train_alt) * 100, 2)\n",
        "\n",
        "print(\"KNN model's accuracy: \", acc_knn_alt, \"%\")\n",
        "print(\"KNN model's parameters: \\n\", knn_alt)"
      ],
      "execution_count": null,
      "outputs": [
        {
          "output_type": "stream",
          "text": [
            "KNN model's accuracy:  91.18 %\n",
            "KNN model's parameters: \n",
            " KNeighborsClassifier(algorithm='auto', leaf_size=30, metric='minkowski',\n",
            "                     metric_params=None, n_jobs=None, n_neighbors=5, p=2,\n",
            "                     weights='uniform')\n"
          ],
          "name": "stdout"
        }
      ]
    },
    {
      "cell_type": "markdown",
      "metadata": {
        "id": "Ubhh85yZZZ_O"
      },
      "source": [
        "#### b) Random Forest\n",
        "---"
      ]
    },
    {
      "cell_type": "code",
      "metadata": {
        "colab": {
          "base_uri": "https://localhost:8080/"
        },
        "id": "gkWLCuenZZ_P",
        "outputId": "5f8aa234-cbed-4693-bb4f-81f9afabae2b"
      },
      "source": [
        "from sklearn.ensemble import RandomForestClassifier\n",
        "\n",
        "# rdf = RandomForestClassifier(criterion = \"entropy\")\n",
        "rdf_alt = RandomForestClassifier()\n",
        "\n",
        "#Huấn luyện mô hình với tập dữ liệu train\n",
        "rdf_alt.fit(X_train_alt, Y_train_alt)"
      ],
      "execution_count": null,
      "outputs": [
        {
          "output_type": "execute_result",
          "data": {
            "text/plain": [
              "RandomForestClassifier(bootstrap=True, ccp_alpha=0.0, class_weight=None,\n",
              "                       criterion='gini', max_depth=None, max_features='auto',\n",
              "                       max_leaf_nodes=None, max_samples=None,\n",
              "                       min_impurity_decrease=0.0, min_impurity_split=None,\n",
              "                       min_samples_leaf=1, min_samples_split=2,\n",
              "                       min_weight_fraction_leaf=0.0, n_estimators=100,\n",
              "                       n_jobs=None, oob_score=False, random_state=None,\n",
              "                       verbose=0, warm_start=False)"
            ]
          },
          "metadata": {
            "tags": []
          },
          "execution_count": 107
        }
      ]
    },
    {
      "cell_type": "code",
      "metadata": {
        "colab": {
          "base_uri": "https://localhost:8080/"
        },
        "id": "0OL3w3JLZZ_P",
        "outputId": "d76a9feb-1b37-4e7d-bfa5-61d4efa2449e"
      },
      "source": [
        "#Thực hiện dự đoán kết quả trên tập dữ liệu test\n",
        "Y_pred_rdf_alt = rdf_alt.predict(X_test_alt)\n",
        "print(Y_pred_rdf_alt)"
      ],
      "execution_count": null,
      "outputs": [
        {
          "output_type": "stream",
          "text": [
            "[0 0 1 0 0 0 0 0 0 0 0 0 0 0 0 0 0 0 0 0 0 0 0 0 0 0 0 0 0 0 0 0 0 0 0 0 0\n",
            " 0 0 1 0 0 0 0 0 0 0 0 0 0 1 0 0 0 0 0 1 0 1 0 0 0 0 0 0 0 0 0 1 0 0 0 1 0\n",
            " 0 0 0 0 0 0 0 0 0 0 0 0 0 0 0 0 0 0 0 0 0 0 0 0 0 0 0 0 0 0 1 0 0 0 0 0 0\n",
            " 0 0 0 0 0 0 0 1 0 0 1 0 0 0 0 0 0 0 0 0 0 0 0 0 0 0 0 0 0 0 1 0 0 1 0 1 0\n",
            " 0 1 0 0 0 0 0 0 0 0 0 0 0 0 0 0 0 0 0 0 1 0 0 0 1 0 0 0 1 0 0 0 0 0 0 1 0\n",
            " 0 1 0 0 0 0 0 0 0 0 0 0 0 0 1 0 0 0 0 0 0 0 0 0 0 0 0 1 0 0 0 0 0 0 0 0 0\n",
            " 0 0 0 0 0 0 0 0 0 0 1 0 1 0 0 0 0 0 0 0 0 0 0 0 0 0 0 0 0 0 0 0 0 0 0 0 0\n",
            " 0 0 1 0 0 0 0 0 0 1 0 0 0 0 0 0 1 0 0 0 0 0 0 0 0 1 0 0 0 0 0 0 0 0 0 0 0\n",
            " 0 0 0 0 0 0 1 0 0 0 0 0 0 1 0 0 0 0 0 0 0 0 0 0 0 0 0 1 0 0 0 0 0 0 0 0 0\n",
            " 0 0 0 0 0 0 0 0 0 0 0 0 0 0 0 0 0 0 0 0 0 0 1 0 1 0 0 0 1 0 0 0 0 0 0 0 0\n",
            " 0 0 0 0 0 0 0 0 0 0 0 0 0 0 0 0 0 0 0 0 0 0 0 0 0 0 0 0 0 0 0 0 0 0 0 1 1\n",
            " 0 0 0 0 0 0 0 0 0 1 0 0 0 0 0 0 0 0 0 0 0 0 0 1 0 1 0 0 0 0 0 0 1 0 0 0 0\n",
            " 0 0 0 0 0 0 0 0 0 0 0 0 0 0 0 0 0 0 0 0 0 0 0 0 0 0 0 0 0 0 0 0 0 0 0 0 0\n",
            " 0 0 0 1 0 0 0 0 0 0 0 0 0 0 0 0 0 0 0 0 0 1 0 0 0 0 0 0 0 0 0 0 0 0 0 0 0\n",
            " 0 1 0 0 0 0 0 0 0 0 0 0 0 0 0 0 0 1 0 0 0 0 0 0 0 0 0 1 0 0 0 0 0 0 0 0 0\n",
            " 0 0 0 0 0 0 0 0 0 0 1 0 0 0 0 0 0 0 0 0 0 0 0 0 0 0 0 0 0 0 0 0 0 0 0 0 0\n",
            " 0 0 0 0 0 1 0 0 0 0 0 0 0 0 0 0 0 0 0 1 1 0 0 0 0 0 1 0 0 0 0 0 0 0 0 0 0\n",
            " 0 0 0 0 0 0 1 0 1 0 0 0 0 0 0 1 1 0 0 0 0 1 0 0 0 0 0 0 1 0 0 0 0 1 0 0 0\n",
            " 0 0 0 0 0 0 0 0 0 0 0 0 0 0 0 0 0 0 0 0 0 0 0 0 0 0 0 0 0 0 0 0 0 0 0 0 0\n",
            " 0 0 0 0 1 0 0 0 0 0 0 0 0 0 0 0 0 0 0 0 0 0 0 0 0 0 1 0 0 0 0 0 0 0 0 1 0\n",
            " 0 0 0 0 0 0 0 0 0 0]\n"
          ],
          "name": "stdout"
        }
      ]
    },
    {
      "cell_type": "code",
      "metadata": {
        "colab": {
          "base_uri": "https://localhost:8080/"
        },
        "id": "0T5cRtrDZZ_P",
        "outputId": "2d56d7be-f56b-4e3c-fb85-bf2e7a4cbe77"
      },
      "source": [
        "#Đánh giá độ chính xác của mô hình trên tập dữ liệu train\n",
        "acc_rdf_alt = round(rdf_alt.score(X_train_alt, Y_train_alt) * 100, 2)\n",
        "\n",
        "print(\"Random Forest model's accuracy: \", acc_rdf_alt, \"%\")\n",
        "print(\"Random Forest model's parameters: \\n\", rdf_alt)"
      ],
      "execution_count": null,
      "outputs": [
        {
          "output_type": "stream",
          "text": [
            "Random Forest model's accuracy:  98.07 %\n",
            "Random Forest model's parameters: \n",
            " RandomForestClassifier(bootstrap=True, ccp_alpha=0.0, class_weight=None,\n",
            "                       criterion='gini', max_depth=None, max_features='auto',\n",
            "                       max_leaf_nodes=None, max_samples=None,\n",
            "                       min_impurity_decrease=0.0, min_impurity_split=None,\n",
            "                       min_samples_leaf=1, min_samples_split=2,\n",
            "                       min_weight_fraction_leaf=0.0, n_estimators=100,\n",
            "                       n_jobs=None, oob_score=False, random_state=None,\n",
            "                       verbose=0, warm_start=False)\n"
          ],
          "name": "stdout"
        }
      ]
    },
    {
      "cell_type": "markdown",
      "metadata": {
        "id": "qzsqAYeEZZ_P"
      },
      "source": [
        "#### c) Decision Tree\n",
        "---"
      ]
    },
    {
      "cell_type": "code",
      "metadata": {
        "colab": {
          "base_uri": "https://localhost:8080/"
        },
        "id": "Jx1Y255kZZ_P",
        "outputId": "5c9a1b25-8147-4b1a-e6cd-d42e280570d2"
      },
      "source": [
        "from sklearn.tree import DecisionTreeClassifier\n",
        "\n",
        "de_tree_alt = DecisionTreeClassifier()\n",
        "\n",
        "#Huấn luyện mô hình với tập dữ liệu train\n",
        "de_tree_alt.fit(X_train_alt, Y_train_alt)"
      ],
      "execution_count": null,
      "outputs": [
        {
          "output_type": "execute_result",
          "data": {
            "text/plain": [
              "DecisionTreeClassifier(ccp_alpha=0.0, class_weight=None, criterion='gini',\n",
              "                       max_depth=None, max_features=None, max_leaf_nodes=None,\n",
              "                       min_impurity_decrease=0.0, min_impurity_split=None,\n",
              "                       min_samples_leaf=1, min_samples_split=2,\n",
              "                       min_weight_fraction_leaf=0.0, presort='deprecated',\n",
              "                       random_state=None, splitter='best')"
            ]
          },
          "metadata": {
            "tags": []
          },
          "execution_count": 110
        }
      ]
    },
    {
      "cell_type": "code",
      "metadata": {
        "colab": {
          "base_uri": "https://localhost:8080/"
        },
        "id": "FZ_WZ1n6ZZ_P",
        "outputId": "aa936af3-70c9-4555-c42b-e26d55ffa4d6"
      },
      "source": [
        "#Thực hiện dự đoán kết quả trên tập dữ liệu test\n",
        "Y_pred_de_tree_alt = de_tree_alt.predict(X_test_alt)\n",
        "print(Y_pred_de_tree_alt)"
      ],
      "execution_count": null,
      "outputs": [
        {
          "output_type": "stream",
          "text": [
            "[0 0 0 0 0 0 0 0 0 0 0 0 0 0 0 0 0 0 0 0 0 0 0 0 0 0 0 0 0 0 0 0 0 0 0 0 0\n",
            " 1 0 1 0 0 0 0 0 0 0 0 0 0 1 0 0 0 0 0 1 1 1 0 0 0 0 0 0 0 0 0 1 0 0 0 1 0\n",
            " 0 0 0 0 0 0 1 0 0 0 0 0 0 0 0 0 0 0 0 0 0 1 0 0 0 0 0 0 0 0 1 0 0 0 0 0 0\n",
            " 0 0 0 0 1 0 0 1 0 0 1 0 0 0 0 0 0 0 0 0 0 0 0 0 0 0 0 0 0 0 1 0 0 1 1 1 0\n",
            " 0 1 0 0 0 0 0 0 0 0 0 0 0 0 0 0 0 0 0 0 1 0 0 0 1 0 0 0 1 0 0 0 0 0 0 1 0\n",
            " 1 0 0 0 0 1 1 1 0 0 0 0 0 0 1 0 0 0 0 0 0 0 0 0 0 0 0 1 0 0 0 0 0 0 1 1 0\n",
            " 0 0 0 0 0 0 0 0 0 0 1 0 1 0 0 0 1 0 0 0 0 0 0 0 0 0 0 0 0 0 0 1 0 0 0 0 0\n",
            " 0 0 1 0 0 0 0 0 0 1 0 0 0 0 0 1 0 0 0 0 0 0 0 0 0 1 0 0 0 0 0 0 0 0 0 0 0\n",
            " 0 0 0 0 0 0 1 0 0 0 0 0 0 1 0 0 0 0 0 0 0 0 1 0 0 0 0 1 0 0 0 0 0 0 0 0 0\n",
            " 0 0 0 0 0 0 0 0 1 0 0 0 0 0 0 0 0 0 0 0 0 0 1 0 1 0 0 0 1 0 0 0 0 0 0 0 0\n",
            " 0 0 0 0 0 0 0 0 0 0 0 0 0 0 0 0 0 0 0 0 0 0 0 0 1 0 0 0 0 0 0 0 0 0 0 1 0\n",
            " 0 0 0 0 0 0 0 0 0 1 0 0 0 0 0 0 0 0 0 1 0 0 0 0 0 0 0 0 0 0 0 0 1 0 0 0 0\n",
            " 0 0 0 0 0 0 0 0 0 0 0 0 0 0 0 0 0 0 0 0 0 0 0 0 0 0 0 0 0 0 0 0 0 0 0 0 0\n",
            " 1 0 0 1 0 0 0 1 1 0 0 0 0 0 0 0 0 0 0 0 0 1 0 0 0 0 0 0 0 0 0 0 0 0 0 0 1\n",
            " 0 1 0 0 0 0 0 0 0 0 0 0 0 0 0 0 0 1 0 0 0 0 0 0 0 0 0 1 0 0 0 0 0 0 0 0 0\n",
            " 0 0 0 0 0 0 0 0 0 1 1 0 0 0 0 0 0 0 0 0 0 0 0 0 0 0 0 0 0 0 0 0 0 0 0 0 0\n",
            " 0 0 0 0 0 1 0 0 0 0 0 0 0 0 0 0 1 0 0 1 1 0 0 1 0 0 0 0 0 0 0 0 0 0 0 0 0\n",
            " 0 0 0 0 0 0 0 0 1 0 0 0 0 0 0 0 1 0 0 0 0 1 0 0 0 0 0 0 0 0 0 0 0 0 0 0 0\n",
            " 1 0 0 0 0 0 0 0 0 0 0 0 0 0 0 0 0 0 0 0 0 0 0 0 0 0 0 0 0 0 0 0 0 0 0 0 0\n",
            " 0 0 0 0 1 0 0 0 0 0 0 0 0 0 0 0 0 0 0 0 0 0 0 1 0 1 1 0 0 0 0 0 0 0 0 0 0\n",
            " 0 0 0 0 0 0 0 0 0 0]\n"
          ],
          "name": "stdout"
        }
      ]
    },
    {
      "cell_type": "code",
      "metadata": {
        "colab": {
          "base_uri": "https://localhost:8080/"
        },
        "id": "H-NxUGllZZ_P",
        "outputId": "c8f9830e-4781-404e-8055-8e00c577a4db"
      },
      "source": [
        "#Đánh giá độ chính xác của mô hình trên tập dữ liệu train\n",
        "acc_de_tree_alt = round(de_tree_alt.score(X_train_alt, Y_train_alt) * 100, 2)\n",
        "\n",
        "print(\"Decision Tree model's accuracy: \", acc_de_tree_alt, \"%\")\n",
        "print(\"Decision Tree model's parameters: \\n\", de_tree_alt)"
      ],
      "execution_count": null,
      "outputs": [
        {
          "output_type": "stream",
          "text": [
            "Decision Tree model's accuracy:  98.07 %\n",
            "Decision Tree model's parameters: \n",
            " DecisionTreeClassifier(ccp_alpha=0.0, class_weight=None, criterion='gini',\n",
            "                       max_depth=None, max_features=None, max_leaf_nodes=None,\n",
            "                       min_impurity_decrease=0.0, min_impurity_split=None,\n",
            "                       min_samples_leaf=1, min_samples_split=2,\n",
            "                       min_weight_fraction_leaf=0.0, presort='deprecated',\n",
            "                       random_state=None, splitter='best')\n"
          ],
          "name": "stdout"
        }
      ]
    },
    {
      "cell_type": "markdown",
      "metadata": {
        "id": "JJ_Mxxw3ZZ_Q"
      },
      "source": [
        "#### d) Support Vector Machine\n",
        "---"
      ]
    },
    {
      "cell_type": "code",
      "metadata": {
        "colab": {
          "base_uri": "https://localhost:8080/"
        },
        "id": "SGne6CD1ZZ_Q",
        "outputId": "38313662-89e2-4943-dc34-749841e744a9"
      },
      "source": [
        "from sklearn.svm import SVC\n",
        "\n",
        "svc_alt = SVC(gamma = \"auto\")\n",
        "\n",
        "#Huấn luyện mô hình với tập dữ liệu train\n",
        "svc_alt.fit(X_train_alt, Y_train_alt)"
      ],
      "execution_count": null,
      "outputs": [
        {
          "output_type": "execute_result",
          "data": {
            "text/plain": [
              "SVC(C=1.0, break_ties=False, cache_size=200, class_weight=None, coef0=0.0,\n",
              "    decision_function_shape='ovr', degree=3, gamma='auto', kernel='rbf',\n",
              "    max_iter=-1, probability=False, random_state=None, shrinking=True,\n",
              "    tol=0.001, verbose=False)"
            ]
          },
          "metadata": {
            "tags": []
          },
          "execution_count": 113
        }
      ]
    },
    {
      "cell_type": "code",
      "metadata": {
        "colab": {
          "base_uri": "https://localhost:8080/"
        },
        "id": "ID0wX8IgZZ_Q",
        "outputId": "830367c6-e160-4662-a9a0-47e684ba49ee"
      },
      "source": [
        "#Thực hiện dự đoán kết quả trên tập dữ liệu test\n",
        "Y_pred_svc_alt = svc_alt.predict(X_test_alt)\n",
        "print(Y_pred_svc_alt)"
      ],
      "execution_count": null,
      "outputs": [
        {
          "output_type": "stream",
          "text": [
            "[0 0 0 0 0 0 0 0 0 0 0 0 0 0 0 0 0 0 0 0 0 0 0 0 0 0 0 0 0 0 0 0 0 0 0 0 0\n",
            " 0 0 0 0 0 0 0 0 0 0 0 0 0 1 0 0 0 0 0 1 0 1 0 0 0 0 0 0 0 0 0 1 0 0 0 1 0\n",
            " 0 0 0 0 0 0 0 0 0 0 0 0 0 0 0 0 0 0 0 0 0 0 0 0 0 0 0 0 0 0 0 0 0 0 0 0 0\n",
            " 0 0 0 0 0 0 0 0 0 0 1 0 0 0 0 0 0 0 0 0 0 0 0 0 0 0 0 0 0 0 1 0 0 0 0 0 0\n",
            " 0 0 0 0 0 0 0 0 0 0 0 0 0 0 0 0 0 0 0 0 0 0 0 0 0 0 0 0 0 0 0 0 0 0 0 1 0\n",
            " 0 1 0 0 0 0 0 0 0 0 0 0 0 0 0 0 0 0 0 0 0 0 0 0 0 0 0 1 0 0 0 0 0 0 0 0 0\n",
            " 0 0 0 0 0 0 0 0 0 0 1 0 0 0 0 0 0 0 0 0 0 0 0 0 0 0 0 0 0 0 0 1 0 0 0 0 0\n",
            " 0 0 0 0 0 0 0 0 0 0 0 0 0 0 0 0 1 0 0 0 0 0 0 0 0 1 0 0 0 0 0 0 0 0 0 0 0\n",
            " 0 0 0 0 0 0 0 0 0 0 0 0 0 0 0 0 0 0 0 0 0 0 0 0 0 0 0 0 0 0 0 0 0 0 0 0 0\n",
            " 0 0 0 0 0 0 0 0 0 0 0 0 0 0 0 0 0 0 0 0 0 0 1 0 1 0 0 0 1 0 0 0 0 0 0 0 0\n",
            " 0 0 0 0 0 0 0 0 0 0 0 0 0 0 0 0 0 0 0 0 0 0 0 0 1 0 0 0 0 0 0 0 0 0 0 1 0\n",
            " 0 0 0 0 0 0 0 0 0 0 0 0 0 0 0 0 0 0 0 1 0 0 0 1 0 0 0 0 0 0 0 0 0 0 0 0 0\n",
            " 0 0 0 0 0 0 0 0 0 0 1 0 0 0 0 0 0 0 0 0 0 0 0 0 0 0 0 0 0 0 0 0 1 0 0 0 0\n",
            " 0 0 0 0 0 0 0 0 0 0 0 0 0 0 0 0 0 0 0 0 0 0 0 0 0 0 0 0 0 0 0 0 0 0 0 0 0\n",
            " 0 0 0 0 0 0 0 0 0 0 0 0 0 0 0 0 0 0 0 0 0 0 0 0 0 0 0 0 0 0 0 0 0 0 0 0 0\n",
            " 0 0 0 0 0 0 0 0 0 0 1 0 0 0 0 0 0 0 0 0 0 0 0 0 0 0 0 0 0 0 0 0 0 0 0 0 0\n",
            " 0 0 0 0 0 1 0 0 0 0 0 0 0 0 0 0 0 0 0 0 0 0 0 0 0 0 0 0 0 0 0 0 0 0 0 0 0\n",
            " 0 0 0 0 0 0 1 0 1 0 0 0 0 0 0 0 1 0 0 0 0 1 0 0 0 0 0 0 0 0 0 0 0 0 0 0 0\n",
            " 0 0 0 0 0 0 0 0 0 0 0 0 0 0 0 0 0 0 0 0 0 0 0 0 0 0 0 0 0 0 0 0 0 0 0 0 0\n",
            " 0 0 0 0 1 0 0 0 0 0 0 0 0 0 0 0 0 0 0 0 0 0 0 0 0 0 1 0 0 0 0 0 0 0 0 1 0\n",
            " 0 0 0 0 0 0 0 0 0 0]\n"
          ],
          "name": "stdout"
        }
      ]
    },
    {
      "cell_type": "code",
      "metadata": {
        "colab": {
          "base_uri": "https://localhost:8080/"
        },
        "id": "17u4eMsiZZ_Q",
        "outputId": "81359e1b-5eb8-4ad1-fdda-c09502c999cc"
      },
      "source": [
        "#Đánh giá độ chính xác của mô hình trên tập dữ liệu train\n",
        "acc_svc_alt = round(svc_alt.score(X_train_alt, Y_train_alt) * 100, 2)\n",
        "\n",
        "print(\"Support Vector Machine model's accuracy: \", acc_svc_alt, \"%\")\n",
        "print(\"Support Vector Machine model's parameters: \\n\", svc_alt)"
      ],
      "execution_count": null,
      "outputs": [
        {
          "output_type": "stream",
          "text": [
            "Support Vector Machine model's accuracy:  91.36 %\n",
            "Support Vector Machine model's parameters: \n",
            " SVC(C=1.0, break_ties=False, cache_size=200, class_weight=None, coef0=0.0,\n",
            "    decision_function_shape='ovr', degree=3, gamma='auto', kernel='rbf',\n",
            "    max_iter=-1, probability=False, random_state=None, shrinking=True,\n",
            "    tol=0.001, verbose=False)\n"
          ],
          "name": "stdout"
        }
      ]
    },
    {
      "cell_type": "markdown",
      "metadata": {
        "id": "7-0IfqcTZZ_Q"
      },
      "source": [
        "#### e) Logistic Regression\n",
        "---"
      ]
    },
    {
      "cell_type": "code",
      "metadata": {
        "colab": {
          "base_uri": "https://localhost:8080/"
        },
        "id": "aM1iXW2ZZZ_Q",
        "outputId": "d1bb48ff-f554-48d5-ca80-67e2951f2209"
      },
      "source": [
        "from sklearn.linear_model import LogisticRegression\n",
        "\n",
        "# log_reg_alt = LogisticRegression(max_iter = 1000, solver = \"saga\", multi_class = \"multinomial\")\n",
        "log_reg_alt = LogisticRegression(max_iter = 500, multi_class = \"multinomial\")\n",
        "\n",
        "\n",
        "#Huấn luyện mô hình với tập train\n",
        "log_reg_alt.fit(X_train_alt,Y_train_alt)"
      ],
      "execution_count": null,
      "outputs": [
        {
          "output_type": "execute_result",
          "data": {
            "text/plain": [
              "LogisticRegression(C=1.0, class_weight=None, dual=False, fit_intercept=True,\n",
              "                   intercept_scaling=1, l1_ratio=None, max_iter=500,\n",
              "                   multi_class='multinomial', n_jobs=None, penalty='l2',\n",
              "                   random_state=None, solver='lbfgs', tol=0.0001, verbose=0,\n",
              "                   warm_start=False)"
            ]
          },
          "metadata": {
            "tags": []
          },
          "execution_count": 116
        }
      ]
    },
    {
      "cell_type": "code",
      "metadata": {
        "colab": {
          "base_uri": "https://localhost:8080/"
        },
        "id": "qTLet0m9ZZ_Q",
        "outputId": "66e3cbd5-5e9e-4202-8cae-051dea2aeb25"
      },
      "source": [
        "#Thực hiện dự đoán kết quả trên tập dữ liệu test\n",
        "Y_pred_log_reg_alt = log_reg_alt.predict(X_test_alt)\n",
        "print(Y_pred_log_reg_alt)"
      ],
      "execution_count": null,
      "outputs": [
        {
          "output_type": "stream",
          "text": [
            "[1 1 0 1 0 0 0 1 0 1 1 0 0 0 0 0 0 0 1 0 1 0 1 1 0 1 1 0 0 0 1 0 1 0 0 0 0\n",
            " 1 1 0 1 1 1 0 0 1 0 1 0 1 0 1 0 1 1 0 0 0 0 0 1 1 1 0 1 0 0 1 0 1 0 1 0 0\n",
            " 1 0 1 1 1 1 0 0 0 0 0 0 0 1 0 1 1 0 0 1 1 1 0 0 0 1 1 0 0 1 1 0 0 0 1 1 0\n",
            " 0 0 1 0 1 1 1 0 0 0 0 0 0 1 0 1 1 1 1 1 0 0 0 0 1 1 0 0 0 1 0 0 1 0 1 1 0\n",
            " 1 1 0 0 0 1 0 0 1 1 0 0 1 1 1 0 0 1 0 1 0 0 1 0 0 1 1 1 0 1 0 0 1 0 0 0 0\n",
            " 0 0 1 0 1 1 1 0 0 1 1 1 1 1 1 1 1 1 1 1 0 1 1 0 0 1 0 1 1 0 1 0 0 0 0 1 1\n",
            " 1 1 1 0 0 1 1 0 1 1 0 0 0 1 0 0 1 0 1 1 0 1 1 0 0 0 0 1 0 0 0 0 0 1 1 0 1\n",
            " 0 0 0 0 1 1 0 1 1 0 1 1 1 0 1 1 0 1 0 1 1 1 1 0 0 0 1 0 1 1 0 1 1 1 0 1 0\n",
            " 1 0 1 0 1 1 0 1 1 1 1 1 0 1 1 1 1 0 0 1 0 1 1 1 1 0 0 1 0 1 0 1 1 0 0 1 1\n",
            " 0 1 0 1 1 1 0 0 0 1 0 1 0 0 1 0 0 0 0 1 1 0 0 0 0 1 0 1 0 1 0 0 1 1 0 0 0\n",
            " 0 0 0 0 0 0 1 1 1 1 0 0 1 1 0 0 0 1 1 1 1 0 1 1 0 0 0 1 1 1 0 0 0 1 1 0 0\n",
            " 0 0 1 0 1 1 0 0 1 1 1 1 1 1 0 1 0 0 1 0 0 1 1 1 0 0 1 1 1 0 0 0 0 0 0 0 0\n",
            " 1 0 1 0 0 0 0 1 1 1 0 1 1 1 1 1 1 0 0 0 0 0 0 1 1 0 1 1 0 1 0 0 0 1 1 0 0\n",
            " 0 1 0 0 0 0 1 0 0 0 0 0 1 1 0 1 0 0 1 0 1 1 1 0 0 1 0 1 0 0 0 0 0 1 1 0 1\n",
            " 1 0 1 0 0 1 0 0 1 1 1 0 1 0 0 1 1 0 0 1 0 1 1 0 1 0 1 0 0 0 0 1 1 0 1 0 1\n",
            " 1 1 1 1 1 0 1 0 0 1 0 0 0 1 0 1 1 0 1 0 1 1 1 0 0 1 0 0 0 1 1 0 1 1 1 1 1\n",
            " 0 0 1 1 1 0 0 1 1 1 1 1 0 1 1 0 0 0 0 1 1 0 1 0 0 0 1 1 1 1 0 0 0 1 0 0 1\n",
            " 1 0 0 0 0 0 0 1 0 0 0 0 1 1 0 0 1 0 1 1 0 0 0 1 0 1 1 0 1 0 0 0 0 0 1 0 0\n",
            " 1 0 1 0 1 1 0 1 0 1 1 1 1 1 1 0 1 1 1 1 1 1 1 0 1 1 1 0 0 0 0 1 0 0 1 0 1\n",
            " 1 0 0 0 1 1 0 1 0 1 1 1 1 0 0 1 1 0 0 1 0 0 0 1 0 0 0 0 1 1 0 0 0 1 1 0 1\n",
            " 1 1 0 1 0 1 0 0 1 0]\n"
          ],
          "name": "stdout"
        }
      ]
    },
    {
      "cell_type": "code",
      "metadata": {
        "colab": {
          "base_uri": "https://localhost:8080/"
        },
        "id": "DqSWINHiZZ_R",
        "outputId": "3b7fb9d0-cf90-4904-8dbb-24a3cf87b16c"
      },
      "source": [
        "#Đánh giá độ chính xác của mô hình trên tập dữ liệu train\n",
        "acc_log_reg_alt = round(log_reg_alt.score(X_train_alt, Y_train_alt) * 100, 2)\n",
        "\n",
        "print(\"Logistic Regression model's accuracy: \", acc_log_reg_alt, \"%\")\n",
        "print(\"Logistic Regression model's parameters: \\n\", log_reg_alt)"
      ],
      "execution_count": null,
      "outputs": [
        {
          "output_type": "stream",
          "text": [
            "Logistic Regression model's accuracy:  86.21 %\n",
            "Logistic Regression model's parameters: \n",
            " LogisticRegression(C=1.0, class_weight=None, dual=False, fit_intercept=True,\n",
            "                   intercept_scaling=1, l1_ratio=None, max_iter=500,\n",
            "                   multi_class='multinomial', n_jobs=None, penalty='l2',\n",
            "                   random_state=None, solver='lbfgs', tol=0.0001, verbose=0,\n",
            "                   warm_start=False)\n"
          ],
          "name": "stdout"
        }
      ]
    },
    {
      "cell_type": "markdown",
      "metadata": {
        "id": "oo9L6PA_ZZ_R"
      },
      "source": [
        "#### f) Gaussian Process\n",
        "---"
      ]
    },
    {
      "cell_type": "code",
      "metadata": {
        "colab": {
          "base_uri": "https://localhost:8080/"
        },
        "id": "NZJoA2ObZZ_R",
        "outputId": "cc159c7d-3ef4-419f-8480-eb830e74e4df"
      },
      "source": [
        "from sklearn.gaussian_process import GaussianProcessClassifier\n",
        "\n",
        "gpc_alt = GaussianProcessClassifier()\n",
        "\n",
        "\n",
        "#Huấn luyện mô hình với tập dữ liệu train\n",
        "gpc_alt.fit(X_train_alt, Y_train_alt)"
      ],
      "execution_count": null,
      "outputs": [
        {
          "output_type": "execute_result",
          "data": {
            "text/plain": [
              "GaussianProcessClassifier(copy_X_train=True, kernel=None, max_iter_predict=100,\n",
              "                          multi_class='one_vs_rest', n_jobs=None,\n",
              "                          n_restarts_optimizer=0, optimizer='fmin_l_bfgs_b',\n",
              "                          random_state=None, warm_start=False)"
            ]
          },
          "metadata": {
            "tags": []
          },
          "execution_count": 119
        }
      ]
    },
    {
      "cell_type": "code",
      "metadata": {
        "colab": {
          "base_uri": "https://localhost:8080/"
        },
        "id": "Fq6n9Cm7ZZ_R",
        "outputId": "9fd59a69-d6bf-484d-bcb8-1c791db2ed07"
      },
      "source": [
        "#Thực hiện dự đoán kết quả trên tập dữ liệu test\n",
        "Y_pred_gpc_alt = gpc_alt.predict(X_test_alt)\n",
        "print(Y_pred_gpc_alt)"
      ],
      "execution_count": null,
      "outputs": [
        {
          "output_type": "stream",
          "text": [
            "[0 0 1 0 0 0 0 0 0 0 0 0 0 0 0 0 0 0 0 0 0 0 0 0 0 0 0 0 0 0 0 0 0 0 0 0 0\n",
            " 0 0 0 0 0 0 0 0 0 0 0 0 0 1 0 0 0 0 0 1 0 1 0 0 0 0 0 0 0 0 0 1 0 0 0 1 0\n",
            " 0 0 0 0 0 0 0 0 0 0 0 0 0 0 0 0 0 0 0 0 0 0 0 0 0 0 0 0 0 0 0 0 0 0 0 0 0\n",
            " 0 0 0 0 0 0 0 0 0 0 1 0 0 0 0 0 0 0 0 0 0 0 0 0 0 0 0 0 0 0 0 0 0 0 0 0 0\n",
            " 0 0 0 0 0 0 0 0 0 0 0 0 0 0 0 0 0 0 0 0 0 0 0 0 0 0 0 0 1 0 0 0 0 0 0 1 0\n",
            " 0 0 0 0 0 0 0 0 0 0 0 0 0 0 0 0 0 0 0 0 0 0 0 0 0 0 0 0 0 0 0 0 0 0 0 0 0\n",
            " 0 0 0 0 0 0 0 0 0 0 1 0 0 0 0 0 0 0 0 0 0 0 0 0 0 0 0 0 0 0 0 0 0 0 0 0 0\n",
            " 0 0 0 0 0 0 0 0 0 0 0 0 0 0 0 0 1 0 0 0 0 0 0 0 0 1 0 0 0 0 0 0 0 0 0 0 0\n",
            " 0 0 0 0 0 0 1 0 0 0 0 0 0 0 0 0 0 0 0 0 0 0 0 0 0 0 0 0 0 0 0 0 0 0 0 0 0\n",
            " 0 0 0 0 0 0 0 0 0 0 0 0 0 0 0 0 0 0 0 0 0 0 1 0 1 0 0 0 1 0 0 0 0 0 0 0 0\n",
            " 0 0 0 0 0 0 0 0 0 0 0 0 0 0 0 0 0 0 0 0 0 0 0 0 0 0 0 0 0 0 0 0 0 0 0 1 0\n",
            " 0 0 0 0 0 0 0 0 0 1 0 0 0 0 0 0 0 0 0 1 0 0 0 1 0 0 0 0 0 0 0 0 0 0 0 0 0\n",
            " 0 0 0 0 0 0 0 0 0 0 0 0 0 0 0 0 0 0 0 0 0 0 0 0 0 0 0 0 0 0 0 0 1 0 0 0 0\n",
            " 0 0 0 0 0 0 0 0 0 0 0 0 0 0 0 0 0 0 0 0 0 0 0 0 0 0 0 0 0 0 0 0 0 0 0 0 0\n",
            " 0 0 0 0 0 0 0 0 0 0 0 0 0 0 0 0 0 0 0 0 0 0 0 0 0 0 0 1 0 0 0 0 0 0 0 0 0\n",
            " 0 0 0 0 0 0 0 0 0 0 1 0 0 0 0 0 0 0 0 0 0 0 0 0 0 0 0 0 0 0 0 0 0 0 0 0 0\n",
            " 0 0 0 0 0 1 0 0 0 0 0 0 0 0 0 0 0 0 0 0 0 0 0 0 0 0 0 0 0 0 0 0 0 0 0 0 0\n",
            " 0 0 0 0 0 0 0 0 1 0 0 0 0 0 0 0 1 0 0 0 0 0 0 0 0 0 0 0 0 0 0 0 0 0 0 0 0\n",
            " 0 0 0 0 0 0 0 0 0 0 0 0 0 0 0 0 0 0 0 0 0 0 0 0 0 0 0 0 0 0 0 0 0 0 0 0 0\n",
            " 0 0 0 0 1 0 0 0 0 0 0 0 0 0 0 0 0 0 0 0 0 0 0 0 0 0 1 0 0 0 0 0 0 0 0 1 0\n",
            " 0 0 0 0 0 0 0 0 0 0]\n"
          ],
          "name": "stdout"
        }
      ]
    },
    {
      "cell_type": "code",
      "metadata": {
        "colab": {
          "base_uri": "https://localhost:8080/"
        },
        "id": "yqLuvlFLZZ_R",
        "outputId": "981dd0f3-f891-42af-8c1e-460c974be8eb"
      },
      "source": [
        "#Đánh giá độ chính xác của mô hình trên tập dữ liệu train\n",
        "acc_gpc_alt = round(gpc_alt.score(X_train_alt, Y_train_alt) * 100, 2)\n",
        "\n",
        "print(\"Gaussian Process model's accuracy: \", acc_gpc_alt, \"%\")\n",
        "print(\"Gaussian Process model's parameters: \\n\", gpc_alt)"
      ],
      "execution_count": null,
      "outputs": [
        {
          "output_type": "stream",
          "text": [
            "Gaussian Process model's accuracy:  92.33 %\n",
            "Gaussian Process model's parameters: \n",
            " GaussianProcessClassifier(copy_X_train=True, kernel=None, max_iter_predict=100,\n",
            "                          multi_class='one_vs_rest', n_jobs=None,\n",
            "                          n_restarts_optimizer=0, optimizer='fmin_l_bfgs_b',\n",
            "                          random_state=None, warm_start=False)\n"
          ],
          "name": "stdout"
        }
      ]
    },
    {
      "cell_type": "markdown",
      "metadata": {
        "id": "O3Auc1WLZZ_R"
      },
      "source": [
        "#### g) Naive Bayes\n",
        "---"
      ]
    },
    {
      "cell_type": "code",
      "metadata": {
        "colab": {
          "base_uri": "https://localhost:8080/"
        },
        "id": "5g0qxzPmZZ_R",
        "outputId": "4b14304e-5a95-4162-8771-d90702d76172"
      },
      "source": [
        "from sklearn.naive_bayes import GaussianNB\n",
        "\n",
        "gnb_alt = GaussianNB()\n",
        "\n",
        "#Huấn luyện mô hình với tập dữ liệu train\n",
        "gnb_alt.fit(X_train_alt, Y_train_alt)"
      ],
      "execution_count": null,
      "outputs": [
        {
          "output_type": "execute_result",
          "data": {
            "text/plain": [
              "GaussianNB(priors=None, var_smoothing=1e-09)"
            ]
          },
          "metadata": {
            "tags": []
          },
          "execution_count": 122
        }
      ]
    },
    {
      "cell_type": "code",
      "metadata": {
        "colab": {
          "base_uri": "https://localhost:8080/"
        },
        "id": "yCwv7gVoZZ_S",
        "outputId": "22223db5-94a9-44d3-e465-02e10af95ca6"
      },
      "source": [
        "#Thực hiện dự đoán kết quả trên tập dữ liệu test\n",
        "Y_pred_gnb_alt = gnb_alt.predict(X_test_alt)\n",
        "print(Y_pred_gnb_alt)"
      ],
      "execution_count": null,
      "outputs": [
        {
          "output_type": "stream",
          "text": [
            "[0 1 0 0 0 0 0 0 0 1 1 0 0 0 0 0 0 0 0 0 0 0 0 0 0 0 1 0 0 0 0 0 0 0 0 0 0\n",
            " 1 0 0 0 0 0 0 0 0 0 0 0 0 0 0 0 0 1 0 0 0 0 0 1 1 0 0 0 0 0 0 0 0 0 0 0 0\n",
            " 0 0 0 0 0 0 0 0 0 0 0 0 0 0 0 0 0 0 0 0 0 1 0 0 0 1 0 0 0 0 1 0 0 0 0 0 0\n",
            " 0 0 0 0 0 0 0 0 0 0 1 0 0 1 0 0 0 1 0 0 0 1 0 0 1 0 0 0 0 0 1 0 0 0 0 0 1\n",
            " 0 1 0 0 0 0 0 0 0 0 0 0 0 0 1 0 0 0 0 0 1 0 0 0 1 0 0 0 0 0 0 0 1 0 0 1 0\n",
            " 1 1 0 0 0 0 0 0 0 0 0 0 0 0 1 0 0 0 1 0 0 0 0 0 0 0 0 1 0 0 0 0 0 0 1 1 0\n",
            " 1 0 0 0 0 1 0 0 0 0 0 0 1 0 0 0 0 0 0 1 0 0 0 0 0 0 0 0 1 0 0 0 0 0 0 0 0\n",
            " 0 0 0 0 0 0 0 0 0 0 0 0 0 0 0 0 0 0 0 0 0 0 0 1 0 0 0 0 0 0 0 0 0 0 0 0 0\n",
            " 0 0 0 0 0 0 0 0 0 0 0 0 0 0 0 0 0 0 0 0 0 0 1 0 0 0 0 1 0 0 0 0 0 0 0 0 0\n",
            " 0 0 0 0 0 0 0 0 0 0 0 0 0 0 0 0 0 0 0 0 1 0 0 0 0 0 0 0 0 1 0 0 0 0 1 0 0\n",
            " 1 0 0 0 0 0 0 0 0 0 1 0 0 1 0 0 0 0 0 0 0 0 0 0 0 0 0 1 0 0 0 0 0 0 1 0 0\n",
            " 0 0 0 0 0 0 0 0 0 1 1 0 0 0 0 0 0 0 0 1 0 0 0 1 0 0 1 0 0 0 0 0 0 0 0 0 0\n",
            " 0 0 0 0 0 0 0 1 0 1 1 0 0 0 0 0 0 0 0 0 0 0 0 0 0 0 0 0 0 0 0 0 1 0 0 0 0\n",
            " 0 0 0 1 1 0 0 1 1 0 0 0 0 0 0 0 0 0 0 0 0 0 0 0 0 0 0 0 1 0 0 0 0 0 0 0 1\n",
            " 0 0 0 0 0 0 0 0 1 0 0 0 0 0 0 0 1 1 0 0 0 0 0 0 0 0 0 0 0 0 0 0 0 0 0 0 1\n",
            " 1 0 0 0 0 0 0 0 0 1 0 0 1 0 1 0 0 0 0 0 0 0 0 1 0 0 0 1 0 0 0 0 0 0 0 0 0\n",
            " 0 0 0 0 0 0 0 0 0 0 1 0 0 0 1 0 0 0 0 1 1 0 0 0 0 0 1 0 0 0 0 0 0 0 0 0 1\n",
            " 0 0 0 0 0 0 1 0 0 0 0 0 0 0 1 0 1 0 0 0 0 1 0 0 0 0 0 0 1 0 0 0 0 0 1 0 0\n",
            " 1 0 0 0 0 0 0 0 0 0 0 0 0 0 0 0 0 0 1 0 0 0 0 0 0 1 1 0 0 0 0 1 1 0 0 0 0\n",
            " 0 0 0 0 0 0 0 0 0 1 0 0 0 0 0 0 0 0 0 1 0 0 0 0 0 0 0 0 1 0 0 0 0 0 0 0 0\n",
            " 0 0 0 0 0 0 0 0 0 0]\n"
          ],
          "name": "stdout"
        }
      ]
    },
    {
      "cell_type": "code",
      "metadata": {
        "colab": {
          "base_uri": "https://localhost:8080/"
        },
        "id": "-pcqHgrTZZ_S",
        "outputId": "c70d069b-61c7-4e9d-91ef-86d5e483874d"
      },
      "source": [
        "#Đánh giá độ chính xác của mô hình trên tập dữ liệu train\n",
        "acc_gnb_alt = round(gnb_alt.score(X_train_alt, Y_train_alt) * 100, 2)\n",
        "\n",
        "print(\"Naive Bayes model's accuracy: \", acc_gnb_alt, \"%\")\n",
        "print(\"Naive Bayes model's parameters: \\n\", gnb_alt)"
      ],
      "execution_count": null,
      "outputs": [
        {
          "output_type": "stream",
          "text": [
            "Naive Bayes model's accuracy:  84.99 %\n",
            "Naive Bayes model's parameters: \n",
            " GaussianNB(priors=None, var_smoothing=1e-09)\n"
          ],
          "name": "stdout"
        }
      ]
    },
    {
      "cell_type": "markdown",
      "metadata": {
        "id": "-9PsrcndZZ_S"
      },
      "source": [
        "#### h) Neural Network: Multi-layer Perceptron\n",
        "---"
      ]
    },
    {
      "cell_type": "code",
      "metadata": {
        "colab": {
          "base_uri": "https://localhost:8080/"
        },
        "id": "1acFUoDzZZ_S",
        "outputId": "5a5eee79-3ca0-4b38-e7db-519702b98bf8"
      },
      "source": [
        "from sklearn.neural_network import MLPClassifier\n",
        "\n",
        "mlpc_alt = MLPClassifier(max_iter = 500)\n",
        "\n",
        "#Huấn luyện mô hình với tập dữ liệu train\n",
        "mlpc_alt.fit(X_train_alt, Y_train_alt)"
      ],
      "execution_count": null,
      "outputs": [
        {
          "output_type": "execute_result",
          "data": {
            "text/plain": [
              "MLPClassifier(activation='relu', alpha=0.0001, batch_size='auto', beta_1=0.9,\n",
              "              beta_2=0.999, early_stopping=False, epsilon=1e-08,\n",
              "              hidden_layer_sizes=(100,), learning_rate='constant',\n",
              "              learning_rate_init=0.001, max_fun=15000, max_iter=500,\n",
              "              momentum=0.9, n_iter_no_change=10, nesterovs_momentum=True,\n",
              "              power_t=0.5, random_state=None, shuffle=True, solver='adam',\n",
              "              tol=0.0001, validation_fraction=0.1, verbose=False,\n",
              "              warm_start=False)"
            ]
          },
          "metadata": {
            "tags": []
          },
          "execution_count": 125
        }
      ]
    },
    {
      "cell_type": "code",
      "metadata": {
        "colab": {
          "base_uri": "https://localhost:8080/"
        },
        "id": "vAjxUelMZZ_S",
        "outputId": "4f5b4c1f-c65f-491e-e9ef-4186d9af4423"
      },
      "source": [
        "#Thực hiện dự đoán kết quả trên tập dữ liệu test\n",
        "Y_pred_mlpc_alt = mlpc_alt.predict(X_test_alt)\n",
        "print(Y_pred_mlpc_alt)"
      ],
      "execution_count": null,
      "outputs": [
        {
          "output_type": "stream",
          "text": [
            "[0 0 0 0 0 0 0 0 0 0 0 0 0 0 0 0 0 0 0 0 0 0 0 0 0 0 0 0 0 0 0 0 0 0 0 0 0\n",
            " 0 0 0 0 0 0 0 0 0 0 0 0 0 1 0 0 0 0 0 1 0 1 0 0 0 0 0 0 0 0 0 1 0 0 0 1 0\n",
            " 0 0 0 0 0 0 0 0 0 0 0 0 0 0 0 0 0 0 0 0 0 0 0 0 0 1 0 0 0 0 0 0 0 0 0 0 0\n",
            " 0 0 0 0 0 0 0 0 0 0 1 0 0 0 0 0 0 0 0 0 0 0 0 0 0 0 0 0 0 0 0 0 0 0 0 0 0\n",
            " 0 0 0 0 0 0 0 0 0 0 0 0 0 0 0 0 0 0 0 0 0 0 0 0 0 0 0 0 0 0 0 0 0 0 0 1 0\n",
            " 1 0 0 0 0 0 0 0 0 0 0 0 0 0 0 0 0 0 0 0 0 0 0 0 0 0 0 0 0 0 0 0 0 0 0 0 0\n",
            " 0 0 0 0 0 0 0 0 0 0 1 0 0 0 0 0 0 0 0 0 0 0 0 0 0 0 0 0 1 0 0 1 0 0 0 0 0\n",
            " 0 0 0 0 0 0 0 0 0 0 0 0 0 0 0 0 1 0 0 0 0 0 0 0 0 1 0 0 0 0 0 0 0 0 0 0 0\n",
            " 0 0 0 0 0 0 1 0 0 0 0 0 0 0 0 0 0 0 0 0 0 0 0 0 0 0 0 0 0 0 0 0 0 0 0 0 0\n",
            " 0 0 0 0 0 0 0 0 0 0 0 0 0 0 0 0 0 0 0 0 0 0 0 0 1 0 0 0 1 0 0 0 0 0 0 0 0\n",
            " 0 0 0 0 0 0 0 0 0 0 0 0 0 0 0 0 0 0 0 0 0 0 0 0 1 0 0 0 0 0 0 0 0 0 0 1 1\n",
            " 0 0 0 0 0 0 0 0 0 1 0 0 0 0 0 0 0 0 0 1 0 0 0 1 0 0 0 0 0 0 0 0 0 0 0 0 0\n",
            " 0 0 0 0 0 0 0 1 0 0 0 0 0 0 0 0 0 0 0 0 0 0 0 0 0 0 0 0 0 0 0 0 0 0 0 0 0\n",
            " 0 0 0 0 0 0 0 0 1 0 0 0 0 0 1 0 0 0 0 0 0 0 0 0 0 0 0 0 0 0 0 0 0 0 0 0 0\n",
            " 0 0 0 0 0 0 0 0 0 0 0 0 0 0 0 0 0 1 0 0 0 0 0 0 0 0 0 0 0 0 0 0 0 0 0 0 0\n",
            " 0 0 0 0 0 0 0 0 0 0 1 0 0 0 0 0 0 0 0 0 0 0 0 0 0 0 0 0 0 0 0 0 0 0 0 0 0\n",
            " 0 0 0 0 0 1 0 0 0 0 0 0 0 0 0 0 0 0 0 0 0 0 0 0 0 0 0 0 0 0 0 0 0 0 0 0 0\n",
            " 0 0 0 0 0 0 1 0 1 0 0 0 0 0 0 1 1 0 0 0 0 1 0 0 0 0 0 0 1 0 0 0 0 0 0 0 0\n",
            " 0 0 0 0 0 0 0 0 0 0 0 0 0 0 0 0 0 0 0 0 0 0 0 0 0 0 0 0 0 0 0 0 0 0 0 0 0\n",
            " 0 0 0 0 1 0 0 0 0 0 0 0 0 0 0 0 0 0 0 0 0 0 0 0 0 0 1 0 0 0 0 0 0 0 0 1 0\n",
            " 0 0 0 0 0 0 0 0 0 0]\n"
          ],
          "name": "stdout"
        }
      ]
    },
    {
      "cell_type": "code",
      "metadata": {
        "colab": {
          "base_uri": "https://localhost:8080/"
        },
        "id": "66l6ry1kZZ_S",
        "outputId": "ea90c611-8456-4864-a70e-2015b649b893"
      },
      "source": [
        "#Đánh giá độ chính xác của mô hình trên tập dữ liệu train\n",
        "acc_mlpc_alt = round(mlpc_alt.score(X_train_alt, Y_train_alt) * 100, 2)\n",
        "\n",
        "print(\"Multi-layer Perceptron model's accuracy: \", acc_mlpc_alt, \"%\")\n",
        "print(\"Multi-layer Perceptron model's parameters: \\n\", mlpc_alt)"
      ],
      "execution_count": null,
      "outputs": [
        {
          "output_type": "stream",
          "text": [
            "Multi-layer Perceptron model's accuracy:  91.62 %\n",
            "Multi-layer Perceptron model's parameters: \n",
            " MLPClassifier(activation='relu', alpha=0.0001, batch_size='auto', beta_1=0.9,\n",
            "              beta_2=0.999, early_stopping=False, epsilon=1e-08,\n",
            "              hidden_layer_sizes=(100,), learning_rate='constant',\n",
            "              learning_rate_init=0.001, max_fun=15000, max_iter=500,\n",
            "              momentum=0.9, n_iter_no_change=10, nesterovs_momentum=True,\n",
            "              power_t=0.5, random_state=None, shuffle=True, solver='adam',\n",
            "              tol=0.0001, validation_fraction=0.1, verbose=False,\n",
            "              warm_start=False)\n"
          ],
          "name": "stdout"
        }
      ]
    },
    {
      "cell_type": "markdown",
      "metadata": {
        "id": "q8bQU2UKfh0o"
      },
      "source": [
        "## IV. Tổng hợp kết quả của các model\n",
        "---"
      ]
    },
    {
      "cell_type": "code",
      "metadata": {
        "id": "JWSNgLPrfh0r"
      },
      "source": [
        "#Thống kê độ chính xác của các model\n",
        "\n",
        "#Tạo một dataframe lưu trữ tên, độ chính xác và tham số của từng của model\n",
        "models_alt = pd.DataFrame({\n",
        "    \"Model\": [\"K-Nearest Neighbors\", \"Random Forest\", \"Decision Tree\",\n",
        "              \"Support Vector Machine\", \"Logistic Regression\", \"Gaussian Process\",\n",
        "              \"Naive Bayes\", \"Multi-layer Perceptron\"],\n",
        "    \"Score\": [acc_knn_alt, acc_rdf_alt, acc_de_tree_alt, acc_svc_alt, acc_log_reg_alt, acc_gpc_alt, acc_gnb_alt, acc_mlpc_alt],\n",
        "    \"Parameter\":[knn_alt, rdf_alt, de_tree_alt, svc_alt, log_reg_alt, gpc_alt, gnb_alt, mlpc_alt]})"
      ],
      "execution_count": null,
      "outputs": []
    },
    {
      "cell_type": "code",
      "metadata": {
        "colab": {
          "base_uri": "https://localhost:8080/",
          "height": 294
        },
        "id": "_MkAR7obfh0s",
        "outputId": "37a2affd-93d1-488f-e020-358b45b6b006"
      },
      "source": [
        "#In dataframe tổng hợp kết quả của các model, sắp xếp theo thứ tự giảm dần của độ chính xác\n",
        "\n",
        "models_sorted_alt = models_alt.sort_values(by = \"Score\", ascending = False)\n",
        "models_sorted_alt[\"Score\"] = models_sorted_alt[\"Score\"].astype(str) + \"%\"\n",
        "\n",
        "models_sorted_alt"
      ],
      "execution_count": null,
      "outputs": [
        {
          "output_type": "execute_result",
          "data": {
            "text/html": [
              "<div>\n",
              "<style scoped>\n",
              "    .dataframe tbody tr th:only-of-type {\n",
              "        vertical-align: middle;\n",
              "    }\n",
              "\n",
              "    .dataframe tbody tr th {\n",
              "        vertical-align: top;\n",
              "    }\n",
              "\n",
              "    .dataframe thead th {\n",
              "        text-align: right;\n",
              "    }\n",
              "</style>\n",
              "<table border=\"1\" class=\"dataframe\">\n",
              "  <thead>\n",
              "    <tr style=\"text-align: right;\">\n",
              "      <th></th>\n",
              "      <th>Model</th>\n",
              "      <th>Score</th>\n",
              "      <th>Parameter</th>\n",
              "    </tr>\n",
              "  </thead>\n",
              "  <tbody>\n",
              "    <tr>\n",
              "      <th>1</th>\n",
              "      <td>Random Forest</td>\n",
              "      <td>98.07%</td>\n",
              "      <td>(DecisionTreeClassifier(ccp_alpha=0.0, class_w...</td>\n",
              "    </tr>\n",
              "    <tr>\n",
              "      <th>2</th>\n",
              "      <td>Decision Tree</td>\n",
              "      <td>98.07%</td>\n",
              "      <td>DecisionTreeClassifier(ccp_alpha=0.0, class_we...</td>\n",
              "    </tr>\n",
              "    <tr>\n",
              "      <th>5</th>\n",
              "      <td>Gaussian Process</td>\n",
              "      <td>92.33%</td>\n",
              "      <td>GaussianProcessClassifier(copy_X_train=True, k...</td>\n",
              "    </tr>\n",
              "    <tr>\n",
              "      <th>7</th>\n",
              "      <td>Multi-layer Perceptron</td>\n",
              "      <td>91.62%</td>\n",
              "      <td>MLPClassifier(activation='relu', alpha=0.0001,...</td>\n",
              "    </tr>\n",
              "    <tr>\n",
              "      <th>3</th>\n",
              "      <td>Support Vector Machine</td>\n",
              "      <td>91.36%</td>\n",
              "      <td>SVC(C=1.0, break_ties=False, cache_size=200, c...</td>\n",
              "    </tr>\n",
              "    <tr>\n",
              "      <th>0</th>\n",
              "      <td>K-Nearest Neighbors</td>\n",
              "      <td>91.18%</td>\n",
              "      <td>KNeighborsClassifier(algorithm='auto', leaf_si...</td>\n",
              "    </tr>\n",
              "    <tr>\n",
              "      <th>4</th>\n",
              "      <td>Logistic Regression</td>\n",
              "      <td>86.21%</td>\n",
              "      <td>LogisticRegression(C=1.0, class_weight=None, d...</td>\n",
              "    </tr>\n",
              "    <tr>\n",
              "      <th>6</th>\n",
              "      <td>Naive Bayes</td>\n",
              "      <td>84.99%</td>\n",
              "      <td>GaussianNB(priors=None, var_smoothing=1e-09)</td>\n",
              "    </tr>\n",
              "  </tbody>\n",
              "</table>\n",
              "</div>"
            ],
            "text/plain": [
              "                    Model  ...                                          Parameter\n",
              "1           Random Forest  ...  (DecisionTreeClassifier(ccp_alpha=0.0, class_w...\n",
              "2           Decision Tree  ...  DecisionTreeClassifier(ccp_alpha=0.0, class_we...\n",
              "5        Gaussian Process  ...  GaussianProcessClassifier(copy_X_train=True, k...\n",
              "7  Multi-layer Perceptron  ...  MLPClassifier(activation='relu', alpha=0.0001,...\n",
              "3  Support Vector Machine  ...  SVC(C=1.0, break_ties=False, cache_size=200, c...\n",
              "0     K-Nearest Neighbors  ...  KNeighborsClassifier(algorithm='auto', leaf_si...\n",
              "4     Logistic Regression  ...  LogisticRegression(C=1.0, class_weight=None, d...\n",
              "6             Naive Bayes  ...       GaussianNB(priors=None, var_smoothing=1e-09)\n",
              "\n",
              "[8 rows x 3 columns]"
            ]
          },
          "metadata": {
            "tags": []
          },
          "execution_count": 256
        }
      ]
    },
    {
      "cell_type": "markdown",
      "metadata": {
        "id": "68OqBr4Ff6O3"
      },
      "source": [
        "## V. So sánh kết quả\n",
        "---"
      ]
    },
    {
      "cell_type": "code",
      "metadata": {
        "id": "bZDzLFghgRhj"
      },
      "source": [
        "#Tạo dataframe lưu trữ tên từng model và độ chính xác của model \n",
        "#khi sử dụng dữ liệu với thuộc tính không phân đoạn và khi sử dụng dữ liệu với thuộc tính đã phân đoạn\n",
        "\n",
        "models_strscore = models.copy()\n",
        "models_strscore_alt = models_alt.copy()\n",
        "\n",
        "models_strscore[\"Score\"] = models_strscore[\"Score\"].astype(str) + \"%\"\n",
        "models_strscore_alt[\"Score\"] = models_strscore_alt[\"Score\"].astype(str) + \"%\"\n",
        "\n",
        "comparison = pd.merge(models_strscore, models_strscore_alt, on = \"Model\", suffixes = (\"\", \" Alt\")).drop([\"Parameter\", \"Parameter Alt\"], axis = 1)\n",
        "# comparison = pd.merge(models_sorted, models_sorted_alt, on = \"Model\", suffixes = (\"\", \" Alt\")).drop([\"Parameter\", \"Parameter Alt\"], axis = 1)"
      ],
      "execution_count": null,
      "outputs": []
    },
    {
      "cell_type": "code",
      "metadata": {
        "id": "h_wA9V_4g8bR"
      },
      "source": [
        "# Tạo thêm cột hiển thị mức chênh lệch về độ chính xác của 2 kết quả thu được\n",
        "\n",
        "score_diff = round((models_alt[\"Score\"] - models[\"Score\"]), 2)\n",
        "\n",
        "score_diff_str = score_diff.astype(str).copy()\n",
        "\n",
        "for i in range(score_diff.size):\n",
        "  if score_diff.at[i] > 0:\n",
        "    score_diff_str.at[i] = \"+\" + score_diff.at[i].astype(str)\n",
        "\n",
        "comparison[\"Accuracy Difference\"] = score_diff_str + \"%\""
      ],
      "execution_count": null,
      "outputs": []
    },
    {
      "cell_type": "code",
      "metadata": {
        "colab": {
          "base_uri": "https://localhost:8080/",
          "height": 294
        },
        "id": "hrWK991wg41x",
        "outputId": "91b11237-8581-4314-a045-9701dc3db61b"
      },
      "source": [
        "#In dataframe so sánh kết quả\n",
        "\n",
        "comparison"
      ],
      "execution_count": null,
      "outputs": [
        {
          "output_type": "execute_result",
          "data": {
            "text/html": [
              "<div>\n",
              "<style scoped>\n",
              "    .dataframe tbody tr th:only-of-type {\n",
              "        vertical-align: middle;\n",
              "    }\n",
              "\n",
              "    .dataframe tbody tr th {\n",
              "        vertical-align: top;\n",
              "    }\n",
              "\n",
              "    .dataframe thead th {\n",
              "        text-align: right;\n",
              "    }\n",
              "</style>\n",
              "<table border=\"1\" class=\"dataframe\">\n",
              "  <thead>\n",
              "    <tr style=\"text-align: right;\">\n",
              "      <th></th>\n",
              "      <th>Model</th>\n",
              "      <th>Score</th>\n",
              "      <th>Score Alt</th>\n",
              "      <th>Accuracy Difference</th>\n",
              "    </tr>\n",
              "  </thead>\n",
              "  <tbody>\n",
              "    <tr>\n",
              "      <th>0</th>\n",
              "      <td>K-Nearest Neighbors</td>\n",
              "      <td>90.14%</td>\n",
              "      <td>91.18%</td>\n",
              "      <td>+1.04%</td>\n",
              "    </tr>\n",
              "    <tr>\n",
              "      <th>1</th>\n",
              "      <td>Random Forest</td>\n",
              "      <td>100.0%</td>\n",
              "      <td>98.07%</td>\n",
              "      <td>-1.93%</td>\n",
              "    </tr>\n",
              "    <tr>\n",
              "      <th>2</th>\n",
              "      <td>Decision Tree</td>\n",
              "      <td>100.0%</td>\n",
              "      <td>98.07%</td>\n",
              "      <td>-1.93%</td>\n",
              "    </tr>\n",
              "    <tr>\n",
              "      <th>3</th>\n",
              "      <td>Support Vector Machine</td>\n",
              "      <td>96.96%</td>\n",
              "      <td>91.36%</td>\n",
              "      <td>-5.6%</td>\n",
              "    </tr>\n",
              "    <tr>\n",
              "      <th>4</th>\n",
              "      <td>Logistic Regression</td>\n",
              "      <td>86.78%</td>\n",
              "      <td>86.21%</td>\n",
              "      <td>-0.57%</td>\n",
              "    </tr>\n",
              "    <tr>\n",
              "      <th>5</th>\n",
              "      <td>Gaussian Process</td>\n",
              "      <td>100.0%</td>\n",
              "      <td>92.33%</td>\n",
              "      <td>-7.67%</td>\n",
              "    </tr>\n",
              "    <tr>\n",
              "      <th>6</th>\n",
              "      <td>Naive Bayes</td>\n",
              "      <td>85.51%</td>\n",
              "      <td>84.99%</td>\n",
              "      <td>-0.52%</td>\n",
              "    </tr>\n",
              "    <tr>\n",
              "      <th>7</th>\n",
              "      <td>Multi-layer Perceptron</td>\n",
              "      <td>90.99%</td>\n",
              "      <td>91.62%</td>\n",
              "      <td>+0.63%</td>\n",
              "    </tr>\n",
              "  </tbody>\n",
              "</table>\n",
              "</div>"
            ],
            "text/plain": [
              "                    Model   Score Score Alt Accuracy Difference\n",
              "0     K-Nearest Neighbors  90.14%    91.18%              +1.04%\n",
              "1           Random Forest  100.0%    98.07%              -1.93%\n",
              "2           Decision Tree  100.0%    98.07%              -1.93%\n",
              "3  Support Vector Machine  96.96%    91.36%               -5.6%\n",
              "4     Logistic Regression  86.78%    86.21%              -0.57%\n",
              "5        Gaussian Process  100.0%    92.33%              -7.67%\n",
              "6             Naive Bayes  85.51%    84.99%              -0.52%\n",
              "7  Multi-layer Perceptron  90.99%    91.62%              +0.63%"
            ]
          },
          "metadata": {
            "tags": []
          },
          "execution_count": 286
        }
      ]
    },
    {
      "cell_type": "markdown",
      "metadata": {
        "id": "5jmMjHaEL451"
      },
      "source": [
        "#### **Nhận xét**\n",
        "---\n",
        "Ta có thể thấy, sau khi phân đoạn dữ liệu các thuộc tính trên thì hầu hết các mô hình đều cho ra kết quả với độ chính xác thấp hơn.\n",
        "\n",
        "Nguyên nhân ở đây có thể là do mỗi thuộc tính có một cách phân bố và có khoảng giá trị dữ liệu khác nhau nên việc áp dụng phương pháp phân đoạn lên toàn bộ dữ liệu của những thuộc tính ấy có thể không phải là cách xử lý dữ liệu thích hợp để đem lại kết quả dự đoán tối ưu và chính xác hơn."
      ]
    },
    {
      "cell_type": "markdown",
      "metadata": {
        "id": "ZNIHR2DluCdX"
      },
      "source": [
        "# THE END\n",
        "---\n",
        "![](https://i.imgur.com/WjurSdK.png)"
      ]
    }
  ]
}